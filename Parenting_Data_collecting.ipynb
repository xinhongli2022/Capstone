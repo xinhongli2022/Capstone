{
 "cells": [
  {
   "cell_type": "markdown",
   "id": "b50324c2-276a-4443-a3c2-136c19996ffa",
   "metadata": {
    "id": "b50324c2-276a-4443-a3c2-136c19996ffa"
   },
   "source": [
    "## Data collecting"
   ]
  },
  {
   "cell_type": "code",
   "execution_count": 14,
   "id": "ekcB-HEZE7Dr",
   "metadata": {
    "id": "ekcB-HEZE7Dr"
   },
   "outputs": [],
   "source": [
    "import requests\n",
    "\n",
    "import pandas as pd\n",
    "import matplotlib.pyplot as plt\n",
    "\n",
    "import time"
   ]
  },
  {
   "cell_type": "raw",
   "id": "57fe5744-b1c1-4c70-a2a9-68b8cdd68e90",
   "metadata": {
    "id": "57fe5744-b1c1-4c70-a2a9-68b8cdd68e90"
   },
   "source": []
  },
  {
   "cell_type": "code",
   "execution_count": 15,
   "id": "91e8b2eb-0341-4aaa-981f-76f7b33dfcc3",
   "metadata": {
    "id": "91e8b2eb-0341-4aaa-981f-76f7b33dfcc3"
   },
   "outputs": [],
   "source": [
    "url = 'https://api.pushshift.io/reddit/search/submission'\n",
    "url_comments = 'https://api.pushshift.io/reddit/search/comment'"
   ]
  },
  {
   "cell_type": "code",
   "execution_count": null,
   "id": "72b627ee-affe-496b-b1bb-29c966ebf84e",
   "metadata": {
    "id": "72b627ee-affe-496b-b1bb-29c966ebf84e"
   },
   "outputs": [],
   "source": []
  },
  {
   "cell_type": "code",
   "execution_count": 16,
   "id": "167b42fd-a9b0-487a-950a-dfdcb8cf12cc",
   "metadata": {
    "id": "167b42fd-a9b0-487a-950a-dfdcb8cf12cc"
   },
   "outputs": [],
   "source": [
    "param_parenting = {\n",
    "    'subreddit': 'Parenting',\n",
    "    'size': 500,\n",
    "    'before': 1649888675\n",
    "}"
   ]
  },
  {
   "cell_type": "code",
   "execution_count": 22,
   "id": "63a9f114-c316-4440-bf00-f21bc7bdada5",
   "metadata": {
    "id": "63a9f114-c316-4440-bf00-f21bc7bdada5"
   },
   "outputs": [],
   "source": [
    "# get comments from subreddit\n",
    "\n",
    "def get_posts(type, n_time):\n",
    "    \n",
    "    df_list = []\n",
    "    current_time = 1649888675\n",
    "    \n",
    "    for _ in range(n_time):\n",
    "      if type == 'submissions':\n",
    "        res = requests.get(\n",
    "            url,\n",
    "            params={\n",
    "                \"subreddit\": 'Parenting',\n",
    "                \"size\": 500,\n",
    "                \"before\": current_time\n",
    "            }\n",
    "        )\n",
    "      if type == 'comments':\n",
    "        res = requests.get(\n",
    "            url_comments,\n",
    "            params={\n",
    "                \"subreddit\": 'Parenting',\n",
    "                \"size\": 500,\n",
    "                \"before\": current_time\n",
    "            }\n",
    "        )\n",
    "\n",
    "        time.sleep(3)\n",
    "        df = pd.DataFrame(res.json()['data'])\n",
    "        if type == 'comments':\n",
    "          df = df.loc[:, ['id', 'parent_id','link_id' ,'author', \"subreddit\", \"body\", \"created_utc\"]]\n",
    "        if type == 'submissions':\n",
    "          print(df.shape)\n",
    "         # df = df.loc[:, [\"subreddit\", \"selftext\", \"created_utc\"]]\n",
    "          df = df[\"subreddit\", \"selftext\", \"created_utc\"]\n",
    "        df_list.append(df)\n",
    "        current_time = df.created_utc.min()\n",
    "        \n",
    "    return pd.concat(df_list, axis=0)"
   ]
  },
  {
   "cell_type": "code",
   "execution_count": null,
   "id": "4Rn0X-1QxltN",
   "metadata": {
    "id": "4Rn0X-1QxltN"
   },
   "outputs": [],
   "source": []
  },
  {
   "cell_type": "code",
   "execution_count": 23,
   "id": "fGm47prUKXI_",
   "metadata": {
    "id": "fGm47prUKXI_"
   },
   "outputs": [],
   "source": [
    "df_comments = get_posts('comments', 10)\n"
   ]
  },
  {
   "cell_type": "code",
   "execution_count": 28,
   "id": "ebhhqx9qKXTs",
   "metadata": {
    "colab": {
     "base_uri": "https://localhost:8080/"
    },
    "id": "ebhhqx9qKXTs",
    "outputId": "1526a9de-27f1-4e80-c4ca-d1e0928dd3f9"
   },
   "outputs": [
    {
     "data": {
      "text/plain": [
       "(1000, 7)"
      ]
     },
     "execution_count": 28,
     "metadata": {},
     "output_type": "execute_result"
    }
   ],
   "source": [
    "df_comments.shape"
   ]
  },
  {
   "cell_type": "code",
   "execution_count": 31,
   "id": "I2_iP65guacF",
   "metadata": {
    "id": "I2_iP65guacF"
   },
   "outputs": [],
   "source": [
    "df_comments.to_csv('comments.csv')"
   ]
  },
  {
   "cell_type": "code",
   "execution_count": 32,
   "id": "KktfFylXKXdu",
   "metadata": {
    "colab": {
     "base_uri": "https://localhost:8080/",
     "height": 206
    },
    "id": "KktfFylXKXdu",
    "outputId": "7fddcd18-f6f8-4389-9b91-78abc60111bb"
   },
   "outputs": [
    {
     "data": {
      "text/html": [
       "<div>\n",
       "<style scoped>\n",
       "    .dataframe tbody tr th:only-of-type {\n",
       "        vertical-align: middle;\n",
       "    }\n",
       "\n",
       "    .dataframe tbody tr th {\n",
       "        vertical-align: top;\n",
       "    }\n",
       "\n",
       "    .dataframe thead th {\n",
       "        text-align: right;\n",
       "    }\n",
       "</style>\n",
       "<table border=\"1\" class=\"dataframe\">\n",
       "  <thead>\n",
       "    <tr style=\"text-align: right;\">\n",
       "      <th></th>\n",
       "      <th>id</th>\n",
       "      <th>parent_id</th>\n",
       "      <th>link_id</th>\n",
       "      <th>author</th>\n",
       "      <th>subreddit</th>\n",
       "      <th>body</th>\n",
       "      <th>created_utc</th>\n",
       "    </tr>\n",
       "  </thead>\n",
       "  <tbody>\n",
       "    <tr>\n",
       "      <th>0</th>\n",
       "      <td>i4miytu</td>\n",
       "      <td>t1_i4lpwdx</td>\n",
       "      <td>t3_u2xgw9</td>\n",
       "      <td>MyAlternateOne</td>\n",
       "      <td>Parenting</td>\n",
       "      <td>And? He's legally an adult if he wants to fuck...</td>\n",
       "      <td>1649888655</td>\n",
       "    </tr>\n",
       "    <tr>\n",
       "      <th>1</th>\n",
       "      <td>i4miyr3</td>\n",
       "      <td>t3_u2zrje</td>\n",
       "      <td>t3_u2zrje</td>\n",
       "      <td>Still_Strangest</td>\n",
       "      <td>Parenting</td>\n",
       "      <td>It’s so devastating to hear those words even w...</td>\n",
       "      <td>1649888654</td>\n",
       "    </tr>\n",
       "    <tr>\n",
       "      <th>2</th>\n",
       "      <td>i4misto</td>\n",
       "      <td>t1_i4mimzu</td>\n",
       "      <td>t3_u31y78</td>\n",
       "      <td>fancydang</td>\n",
       "      <td>Parenting</td>\n",
       "      <td>Yes I ordered a safe on Amazon now. This is ob...</td>\n",
       "      <td>1649888584</td>\n",
       "    </tr>\n",
       "    <tr>\n",
       "      <th>3</th>\n",
       "      <td>i4mis5x</td>\n",
       "      <td>t1_i4mimzu</td>\n",
       "      <td>t3_u31y78</td>\n",
       "      <td>loopalace</td>\n",
       "      <td>Parenting</td>\n",
       "      <td>Yeah this too. It is totally up to us to make ...</td>\n",
       "      <td>1649888577</td>\n",
       "    </tr>\n",
       "    <tr>\n",
       "      <th>4</th>\n",
       "      <td>i4miqt6</td>\n",
       "      <td>t1_i4lfw5i</td>\n",
       "      <td>t3_u2virc</td>\n",
       "      <td>mcon87</td>\n",
       "      <td>Parenting</td>\n",
       "      <td>It's so validating to hear this from another p...</td>\n",
       "      <td>1649888561</td>\n",
       "    </tr>\n",
       "  </tbody>\n",
       "</table>\n",
       "</div>"
      ],
      "text/plain": [
       "        id   parent_id    link_id           author  subreddit  \\\n",
       "0  i4miytu  t1_i4lpwdx  t3_u2xgw9   MyAlternateOne  Parenting   \n",
       "1  i4miyr3   t3_u2zrje  t3_u2zrje  Still_Strangest  Parenting   \n",
       "2  i4misto  t1_i4mimzu  t3_u31y78        fancydang  Parenting   \n",
       "3  i4mis5x  t1_i4mimzu  t3_u31y78        loopalace  Parenting   \n",
       "4  i4miqt6  t1_i4lfw5i  t3_u2virc           mcon87  Parenting   \n",
       "\n",
       "                                                body  created_utc  \n",
       "0  And? He's legally an adult if he wants to fuck...   1649888655  \n",
       "1  It’s so devastating to hear those words even w...   1649888654  \n",
       "2  Yes I ordered a safe on Amazon now. This is ob...   1649888584  \n",
       "3  Yeah this too. It is totally up to us to make ...   1649888577  \n",
       "4  It's so validating to hear this from another p...   1649888561  "
      ]
     },
     "execution_count": 32,
     "metadata": {},
     "output_type": "execute_result"
    }
   ],
   "source": [
    "df_comments.head()"
   ]
  },
  {
   "cell_type": "markdown",
   "id": "35ef0450-6e07-4b8d-943c-7283ba28071f",
   "metadata": {},
   "source": [
    "look through id related columns, for future use when needed to analize user's feature"
   ]
  },
  {
   "cell_type": "code",
   "execution_count": 52,
   "id": "12d73c17-5b0a-4f19-9d35-7ac08b82a8c3",
   "metadata": {},
   "outputs": [
    {
     "data": {
      "text/plain": [
       "t3_u1h5vs    110\n",
       "t3_tzpii5    100\n",
       "t3_u03r5p     97\n",
       "t3_u19c9d     65\n",
       "t3_u1zmpc     65\n",
       "            ... \n",
       "t3_txri4n      1\n",
       "t3_typmj2      1\n",
       "t3_tvlzwu      1\n",
       "t3_shvbfg      1\n",
       "t3_tyki5c      1\n",
       "Name: link_id, Length: 265, dtype: int64"
      ]
     },
     "execution_count": 52,
     "metadata": {},
     "output_type": "execute_result"
    }
   ],
   "source": [
    "df_comments['link_id'].value_counts()"
   ]
  },
  {
   "cell_type": "code",
   "execution_count": 54,
   "id": "08b8c0fa-0a72-4c9c-8ce8-1cebc6f77b3e",
   "metadata": {},
   "outputs": [
    {
     "name": "stdout",
     "output_type": "stream",
     "text": [
      "2400\n"
     ]
    }
   ],
   "source": [
    "\n",
    "            \n",
    "list_c  = df_comments['link_id']\n",
    "list_s = df_submission['id']\n",
    "list_together = []\n",
    "\n",
    "for linkid in list_c:\n",
    "    linkid = linkid[3:]\n",
    "    #print(linkid)\n",
    "    for id in list_s:\n",
    "        if linkid == id:\n",
    "            list_together.append(linkid)\n",
    "print(len(list_together))"
   ]
  },
  {
   "cell_type": "code",
   "execution_count": 55,
   "id": "bef80f8b-43a0-4b53-8241-b14f831cb6d4",
   "metadata": {},
   "outputs": [
    {
     "name": "stdout",
     "output_type": "stream",
     "text": [
      "1190\n"
     ]
    }
   ],
   "source": [
    "list_c  = df_comments['parent_id']\n",
    "list_s = df_submission['id']\n",
    "list_together = []\n",
    "\n",
    "for linkid in list_c:\n",
    "    linkid = linkid[3:]\n",
    "    for id in list_s:\n",
    "        if linkid == id:\n",
    "            list_together.append(linkid)\n",
    "print(len(list_together))\n",
    "            "
   ]
  },
  {
   "cell_type": "code",
   "execution_count": 56,
   "id": "fb876181-04b1-4934-b8b9-65d6275248ce",
   "metadata": {},
   "outputs": [
    {
     "data": {
      "text/plain": [
       "id             0\n",
       "parent_id      0\n",
       "link_id        0\n",
       "author         0\n",
       "subreddit      0\n",
       "body           0\n",
       "created_utc    0\n",
       "dtype: int64"
      ]
     },
     "execution_count": 56,
     "metadata": {},
     "output_type": "execute_result"
    }
   ],
   "source": [
    "df_comments.isnull().sum()"
   ]
  },
  {
   "cell_type": "code",
   "execution_count": 2,
   "id": "726497d5-2e45-49d1-b430-016c29a18e0e",
   "metadata": {},
   "outputs": [],
   "source": [
    "#df_submission['title']"
   ]
  },
  {
   "cell_type": "code",
   "execution_count": 57,
   "id": "34c52877-f681-4aa8-bc02-756b772988ed",
   "metadata": {},
   "outputs": [],
   "source": [
    "parentids = df_comments['parent_id']\n"
   ]
  },
  {
   "cell_type": "code",
   "execution_count": 58,
   "id": "24400df1-8866-4ee9-b2af-c5461d6739ed",
   "metadata": {},
   "outputs": [
    {
     "data": {
      "text/plain": [
       "0     t1_i4mgmvf\n",
       "1     t1_i4kuydm\n",
       "2      t3_u31lsw\n",
       "3      t3_u2m2m5\n",
       "4      t3_u2by9s\n",
       "         ...    \n",
       "95     t3_tyxaau\n",
       "96     t3_tz2rqk\n",
       "97     t3_tv8pv3\n",
       "98     t3_tz6y9m\n",
       "99     t3_tyoz52\n",
       "Name: parent_id, Length: 2500, dtype: object"
      ]
     },
     "execution_count": 58,
     "metadata": {},
     "output_type": "execute_result"
    }
   ],
   "source": [
    "parentids"
   ]
  },
  {
   "cell_type": "code",
   "execution_count": 59,
   "id": "5c5f45d3-46ee-4e32-b409-dfd92c8309d0",
   "metadata": {},
   "outputs": [],
   "source": [
    "parentids = df_comments['parent_id']\n",
    "\n",
    "parentids_for_col = []\n",
    "for key in parentids:\n",
    "    val = key[3:]\n",
    "    parentids_for_col.append(key)\n",
    "df_comments['parent_id'] = parentids_for_col"
   ]
  },
  {
   "cell_type": "code",
   "execution_count": 60,
   "id": "0c5c2467-8499-48e7-b847-b7471cbb5603",
   "metadata": {},
   "outputs": [
    {
     "data": {
      "text/html": [
       "<div>\n",
       "<style scoped>\n",
       "    .dataframe tbody tr th:only-of-type {\n",
       "        vertical-align: middle;\n",
       "    }\n",
       "\n",
       "    .dataframe tbody tr th {\n",
       "        vertical-align: top;\n",
       "    }\n",
       "\n",
       "    .dataframe thead th {\n",
       "        text-align: right;\n",
       "    }\n",
       "</style>\n",
       "<table border=\"1\" class=\"dataframe\">\n",
       "  <thead>\n",
       "    <tr style=\"text-align: right;\">\n",
       "      <th></th>\n",
       "      <th>id</th>\n",
       "      <th>parent_id</th>\n",
       "      <th>link_id</th>\n",
       "      <th>author</th>\n",
       "      <th>subreddit</th>\n",
       "      <th>body</th>\n",
       "      <th>created_utc</th>\n",
       "    </tr>\n",
       "  </thead>\n",
       "  <tbody>\n",
       "    <tr>\n",
       "      <th>0</th>\n",
       "      <td>i4mitd7</td>\n",
       "      <td>t1_i4mgmvf</td>\n",
       "      <td>t3_u31lsw</td>\n",
       "      <td>Maximum_Till_2357</td>\n",
       "      <td>diabetes</td>\n",
       "      <td>I see. Thank you for responding. It just feels...</td>\n",
       "      <td>1649888591</td>\n",
       "    </tr>\n",
       "    <tr>\n",
       "      <th>1</th>\n",
       "      <td>i4miryz</td>\n",
       "      <td>t1_i4kuydm</td>\n",
       "      <td>t3_u2m2m5</td>\n",
       "      <td>DiabeticCumshot</td>\n",
       "      <td>diabetes</td>\n",
       "      <td>Don’t you wake up high af though ?</td>\n",
       "      <td>1649888575</td>\n",
       "    </tr>\n",
       "    <tr>\n",
       "      <th>2</th>\n",
       "      <td>i4mgmvf</td>\n",
       "      <td>t3_u31lsw</td>\n",
       "      <td>t3_u31lsw</td>\n",
       "      <td>nallvf</td>\n",
       "      <td>diabetes</td>\n",
       "      <td>This sort of happens to me too, in that my sug...</td>\n",
       "      <td>1649887683</td>\n",
       "    </tr>\n",
       "    <tr>\n",
       "      <th>3</th>\n",
       "      <td>i4mewdp</td>\n",
       "      <td>t3_u2m2m5</td>\n",
       "      <td>t3_u2m2m5</td>\n",
       "      <td>griffithdidnthwrong</td>\n",
       "      <td>diabetes</td>\n",
       "      <td>What manga is it?</td>\n",
       "      <td>1649886972</td>\n",
       "    </tr>\n",
       "    <tr>\n",
       "      <th>4</th>\n",
       "      <td>i4mesr5</td>\n",
       "      <td>t3_u2by9s</td>\n",
       "      <td>t3_u2by9s</td>\n",
       "      <td>Agreeable_Shopping10</td>\n",
       "      <td>diabetes</td>\n",
       "      <td>Juice boxes. I usually carry a draw string bac...</td>\n",
       "      <td>1649886932</td>\n",
       "    </tr>\n",
       "  </tbody>\n",
       "</table>\n",
       "</div>"
      ],
      "text/plain": [
       "        id   parent_id    link_id                author subreddit  \\\n",
       "0  i4mitd7  t1_i4mgmvf  t3_u31lsw     Maximum_Till_2357  diabetes   \n",
       "1  i4miryz  t1_i4kuydm  t3_u2m2m5       DiabeticCumshot  diabetes   \n",
       "2  i4mgmvf   t3_u31lsw  t3_u31lsw                nallvf  diabetes   \n",
       "3  i4mewdp   t3_u2m2m5  t3_u2m2m5   griffithdidnthwrong  diabetes   \n",
       "4  i4mesr5   t3_u2by9s  t3_u2by9s  Agreeable_Shopping10  diabetes   \n",
       "\n",
       "                                                body  created_utc  \n",
       "0  I see. Thank you for responding. It just feels...   1649888591  \n",
       "1                 Don’t you wake up high af though ?   1649888575  \n",
       "2  This sort of happens to me too, in that my sug...   1649887683  \n",
       "3                                  What manga is it?   1649886972  \n",
       "4  Juice boxes. I usually carry a draw string bac...   1649886932  "
      ]
     },
     "execution_count": 60,
     "metadata": {},
     "output_type": "execute_result"
    }
   ],
   "source": [
    "df_comments.head()"
   ]
  },
  {
   "cell_type": "code",
   "execution_count": 33,
   "id": "T3U4CDiy4VSR",
   "metadata": {
    "id": "T3U4CDiy4VSR"
   },
   "outputs": [],
   "source": [
    "# get  from subreddit\n",
    "\n",
    "def get_submissions(n_time):\n",
    "    \n",
    "    df_list = []\n",
    "    current_time = 1649899074\n",
    "    \n",
    "    for _ in range(n_time):\n",
    "      res = requests.get(\n",
    "            url,\n",
    "            params={\n",
    "                \"subreddit\": 'Parenting',\n",
    "                \"size\": 100,\n",
    "                \"before\": current_time\n",
    "            }\n",
    "      )\n",
    "      time.sleep(3)\n",
    "      df = pd.DataFrame(res.json()['data'])\n",
    "       \n",
    "      df = df.loc[:, [\"subreddit\",'id', \"selftext\", 'title','num_comments',\"created_utc\"]]\n",
    "      #df = df[\"subreddit\", \"selftext\", \"created_utc\"]\n",
    "      df_list.append(df)\n",
    "      current_time = df.created_utc.min()\n",
    "        \n",
    "    return pd.concat(df_list, axis=0)"
   ]
  },
  {
   "cell_type": "code",
   "execution_count": 34,
   "id": "iRaA4Q9KLnUL",
   "metadata": {
    "id": "iRaA4Q9KLnUL"
   },
   "outputs": [],
   "source": [
    "# df_submission = get_submissions(100)\n",
    "\n",
    "df_submission = get_submissions(10)"
   ]
  },
  {
   "cell_type": "code",
   "execution_count": 35,
   "id": "2DMz_h8o6jSj",
   "metadata": {
    "colab": {
     "base_uri": "https://localhost:8080/",
     "height": 206
    },
    "id": "2DMz_h8o6jSj",
    "outputId": "cd7dd2fe-e5d5-4b52-81b6-80b1aaed95a4"
   },
   "outputs": [
    {
     "data": {
      "text/html": [
       "<div>\n",
       "<style scoped>\n",
       "    .dataframe tbody tr th:only-of-type {\n",
       "        vertical-align: middle;\n",
       "    }\n",
       "\n",
       "    .dataframe tbody tr th {\n",
       "        vertical-align: top;\n",
       "    }\n",
       "\n",
       "    .dataframe thead th {\n",
       "        text-align: right;\n",
       "    }\n",
       "</style>\n",
       "<table border=\"1\" class=\"dataframe\">\n",
       "  <thead>\n",
       "    <tr style=\"text-align: right;\">\n",
       "      <th></th>\n",
       "      <th>subreddit</th>\n",
       "      <th>id</th>\n",
       "      <th>selftext</th>\n",
       "      <th>title</th>\n",
       "      <th>num_comments</th>\n",
       "      <th>created_utc</th>\n",
       "    </tr>\n",
       "  </thead>\n",
       "  <tbody>\n",
       "    <tr>\n",
       "      <th>0</th>\n",
       "      <td>Parenting</td>\n",
       "      <td>u35fhw</td>\n",
       "      <td>We recently found a drop in daycare for my 3yr...</td>\n",
       "      <td>Daycare recommends shorter drop offs.</td>\n",
       "      <td>0</td>\n",
       "      <td>1649898505</td>\n",
       "    </tr>\n",
       "    <tr>\n",
       "      <th>1</th>\n",
       "      <td>Parenting</td>\n",
       "      <td>u355wz</td>\n",
       "      <td>So I've lurked on this sub for a long time as ...</td>\n",
       "      <td>Looking for advice for taking the leap to beco...</td>\n",
       "      <td>0</td>\n",
       "      <td>1649897684</td>\n",
       "    </tr>\n",
       "    <tr>\n",
       "      <th>2</th>\n",
       "      <td>Parenting</td>\n",
       "      <td>u34x24</td>\n",
       "      <td>So my 20yr old son came back to live with me a...</td>\n",
       "      <td>lazy teenager</td>\n",
       "      <td>0</td>\n",
       "      <td>1649896924</td>\n",
       "    </tr>\n",
       "    <tr>\n",
       "      <th>3</th>\n",
       "      <td>Parenting</td>\n",
       "      <td>u34vh5</td>\n",
       "      <td>I feel bad about posting, since I had all the ...</td>\n",
       "      <td>I still haven't bonded with my 1 year old</td>\n",
       "      <td>0</td>\n",
       "      <td>1649896790</td>\n",
       "    </tr>\n",
       "    <tr>\n",
       "      <th>4</th>\n",
       "      <td>Parenting</td>\n",
       "      <td>u34sai</td>\n",
       "      <td>My Steam library is looking a bit thin when it...</td>\n",
       "      <td>PC game advice for a 5 year old.</td>\n",
       "      <td>0</td>\n",
       "      <td>1649896511</td>\n",
       "    </tr>\n",
       "  </tbody>\n",
       "</table>\n",
       "</div>"
      ],
      "text/plain": [
       "   subreddit      id                                           selftext  \\\n",
       "0  Parenting  u35fhw  We recently found a drop in daycare for my 3yr...   \n",
       "1  Parenting  u355wz  So I've lurked on this sub for a long time as ...   \n",
       "2  Parenting  u34x24  So my 20yr old son came back to live with me a...   \n",
       "3  Parenting  u34vh5  I feel bad about posting, since I had all the ...   \n",
       "4  Parenting  u34sai  My Steam library is looking a bit thin when it...   \n",
       "\n",
       "                                               title  num_comments  \\\n",
       "0              Daycare recommends shorter drop offs.             0   \n",
       "1  Looking for advice for taking the leap to beco...             0   \n",
       "2                                      lazy teenager             0   \n",
       "3          I still haven't bonded with my 1 year old             0   \n",
       "4                   PC game advice for a 5 year old.             0   \n",
       "\n",
       "   created_utc  \n",
       "0   1649898505  \n",
       "1   1649897684  \n",
       "2   1649896924  \n",
       "3   1649896790  \n",
       "4   1649896511  "
      ]
     },
     "execution_count": 35,
     "metadata": {},
     "output_type": "execute_result"
    }
   ],
   "source": [
    "df_submission.head()"
   ]
  },
  {
   "cell_type": "code",
   "execution_count": 36,
   "id": "JZKvGcl-Lnkz",
   "metadata": {
    "colab": {
     "base_uri": "https://localhost:8080/"
    },
    "id": "JZKvGcl-Lnkz",
    "outputId": "fd78eb45-5776-4d9f-e520-98bb17a44b87"
   },
   "outputs": [
    {
     "data": {
      "text/plain": [
       "(1000, 6)"
      ]
     },
     "execution_count": 36,
     "metadata": {},
     "output_type": "execute_result"
    }
   ],
   "source": [
    "df_submission.shape"
   ]
  },
  {
   "cell_type": "code",
   "execution_count": null,
   "id": "24534631-9ada-4d51-b85f-ecace3b18d3b",
   "metadata": {},
   "outputs": [],
   "source": []
  },
  {
   "cell_type": "code",
   "execution_count": 65,
   "id": "9fd23fd2-fb93-49d4-bf40-933db51b788b",
   "metadata": {},
   "outputs": [
    {
     "data": {
      "text/plain": [
       "0     Will glucose gel work for someone with type 2 ...\n",
       "1            Fillable 3mL cartridges for reusable pens?\n",
       "2                        First time in DKA need support\n",
       "3             Resources for t2 diabetic dietary advice?\n",
       "4                              Home testing with urine?\n",
       "5     do you think freestyle libre can cause skin da...\n",
       "6                                   Help with Metformin\n",
       "7     How to control spiking blood sugar level in th...\n",
       "8                         Tips of reversing prediabetes\n",
       "9                                          hypoglycemia\n",
       "10    Pre meal and postmeal glucose both 95, but A1C...\n",
       "11    38/f Type 1 for 21 years. Has anyone ever lost...\n",
       "12    New to Libre 2… what kind of numbers to look for?\n",
       "13    Freestyle Libre 2 iOS app: says the OS has not...\n",
       "14    Diabetes self-management app survey - Lund Uni...\n",
       "15    Interested in Omnipod patch pump, can it loop ...\n",
       "16                                                 Pain\n",
       "17    How do you manage weight loss and keeping your...\n",
       "18                     Are these pre-diabetic symptoms?\n",
       "19          Does injection site affect absorption rate?\n",
       "Name: title, dtype: object"
      ]
     },
     "execution_count": 65,
     "metadata": {},
     "output_type": "execute_result"
    }
   ],
   "source": [
    "df_submission['title'][:20]"
   ]
  },
  {
   "cell_type": "code",
   "execution_count": 66,
   "id": "f5a173ac-f4f9-4cfe-85c6-104d15798c55",
   "metadata": {
    "scrolled": true,
    "tags": []
   },
   "outputs": [
    {
     "data": {
      "text/plain": [
       "0      2207\n",
       "1        44\n",
       "2        25\n",
       "5        21\n",
       "3        21\n",
       "6        17\n",
       "12       14\n",
       "4        14\n",
       "10       13\n",
       "8        12\n",
       "9        11\n",
       "11        9\n",
       "7         9\n",
       "13        7\n",
       "29        5\n",
       "15        5\n",
       "20        5\n",
       "16        4\n",
       "17        4\n",
       "14        4\n",
       "19        3\n",
       "24        3\n",
       "22        3\n",
       "36        2\n",
       "18        2\n",
       "21        2\n",
       "31        2\n",
       "23        2\n",
       "27        2\n",
       "26        2\n",
       "78        1\n",
       "80        1\n",
       "25        1\n",
       "91        1\n",
       "30        1\n",
       "34        1\n",
       "58        1\n",
       "28        1\n",
       "62        1\n",
       "89        1\n",
       "52        1\n",
       "40        1\n",
       "66        1\n",
       "35        1\n",
       "48        1\n",
       "146       1\n",
       "193       1\n",
       "41        1\n",
       "37        1\n",
       "59        1\n",
       "95        1\n",
       "38        1\n",
       "42        1\n",
       "79        1\n",
       "Name: num_comments, dtype: int64"
      ]
     },
     "execution_count": 66,
     "metadata": {},
     "output_type": "execute_result"
    }
   ],
   "source": [
    "df_submission['num_comments'].value_counts()"
   ]
  },
  {
   "cell_type": "code",
   "execution_count": 37,
   "id": "V1gKqtMV7T8_",
   "metadata": {
    "id": "V1gKqtMV7T8_"
   },
   "outputs": [],
   "source": [
    "df_submission.to_csv('submission.csv')"
   ]
  },
  {
   "cell_type": "code",
   "execution_count": 67,
   "id": "d54799e8-8856-4e81-89f3-3dd29cb15f87",
   "metadata": {},
   "outputs": [],
   "source": [
    "df_submission_with_comments = df_submission[df_submission['num_comments']> 20]\n"
   ]
  },
  {
   "cell_type": "code",
   "execution_count": 68,
   "id": "bda8e7dd-4977-4f8c-bbfe-42daffd5e391",
   "metadata": {},
   "outputs": [
    {
     "data": {
      "text/plain": [
       "(47, 6)"
      ]
     },
     "execution_count": 68,
     "metadata": {},
     "output_type": "execute_result"
    }
   ],
   "source": [
    "df_submission_with_comments.shape"
   ]
  },
  {
   "cell_type": "code",
   "execution_count": 69,
   "id": "bf3f764c-48cb-4d5a-a35f-410d3bf55308",
   "metadata": {},
   "outputs": [
    {
     "data": {
      "text/html": [
       "<div>\n",
       "<style scoped>\n",
       "    .dataframe tbody tr th:only-of-type {\n",
       "        vertical-align: middle;\n",
       "    }\n",
       "\n",
       "    .dataframe tbody tr th {\n",
       "        vertical-align: top;\n",
       "    }\n",
       "\n",
       "    .dataframe thead th {\n",
       "        text-align: right;\n",
       "    }\n",
       "</style>\n",
       "<table border=\"1\" class=\"dataframe\">\n",
       "  <thead>\n",
       "    <tr style=\"text-align: right;\">\n",
       "      <th></th>\n",
       "      <th>subreddit</th>\n",
       "      <th>id</th>\n",
       "      <th>selftext</th>\n",
       "      <th>title</th>\n",
       "      <th>num_comments</th>\n",
       "      <th>created_utc</th>\n",
       "    </tr>\n",
       "  </thead>\n",
       "  <tbody>\n",
       "    <tr>\n",
       "      <th>32</th>\n",
       "      <td>diabetes</td>\n",
       "      <td>tr4r6e</td>\n",
       "      <td></td>\n",
       "      <td>I just wanted to eat normally</td>\n",
       "      <td>26</td>\n",
       "      <td>1648568121</td>\n",
       "    </tr>\n",
       "    <tr>\n",
       "      <th>25</th>\n",
       "      <td>diabetes</td>\n",
       "      <td>sx8bco</td>\n",
       "      <td>On the bright side I have lost weight lol</td>\n",
       "      <td>So um...does metformin constantly give you loo...</td>\n",
       "      <td>42</td>\n",
       "      <td>1645383141</td>\n",
       "    </tr>\n",
       "    <tr>\n",
       "      <th>27</th>\n",
       "      <td>diabetes</td>\n",
       "      <td>sx5512</td>\n",
       "      <td>What were your symptoms? \\n\\nFor how long did ...</td>\n",
       "      <td>Redditors with type 2 diabetes: Did you have A...</td>\n",
       "      <td>38</td>\n",
       "      <td>1645374857</td>\n",
       "    </tr>\n",
       "    <tr>\n",
       "      <th>30</th>\n",
       "      <td>diabetes</td>\n",
       "      <td>sx40m3</td>\n",
       "      <td>So the reason I'm asking is that I feel a litt...</td>\n",
       "      <td>Would an annual blood work panel with fasted g...</td>\n",
       "      <td>27</td>\n",
       "      <td>1645371918</td>\n",
       "    </tr>\n",
       "    <tr>\n",
       "      <th>35</th>\n",
       "      <td>diabetes</td>\n",
       "      <td>sx2lyq</td>\n",
       "      <td>So according to a blood test i took I got a hb...</td>\n",
       "      <td>What does this mean?</td>\n",
       "      <td>23</td>\n",
       "      <td>1645367884</td>\n",
       "    </tr>\n",
       "  </tbody>\n",
       "</table>\n",
       "</div>"
      ],
      "text/plain": [
       "   subreddit      id                                           selftext  \\\n",
       "32  diabetes  tr4r6e                                                      \n",
       "25  diabetes  sx8bco          On the bright side I have lost weight lol   \n",
       "27  diabetes  sx5512  What were your symptoms? \\n\\nFor how long did ...   \n",
       "30  diabetes  sx40m3  So the reason I'm asking is that I feel a litt...   \n",
       "35  diabetes  sx2lyq  So according to a blood test i took I got a hb...   \n",
       "\n",
       "                                                title  num_comments  \\\n",
       "32                      I just wanted to eat normally            26   \n",
       "25  So um...does metformin constantly give you loo...            42   \n",
       "27  Redditors with type 2 diabetes: Did you have A...            38   \n",
       "30  Would an annual blood work panel with fasted g...            27   \n",
       "35                               What does this mean?            23   \n",
       "\n",
       "    created_utc  \n",
       "32   1648568121  \n",
       "25   1645383141  \n",
       "27   1645374857  \n",
       "30   1645371918  \n",
       "35   1645367884  "
      ]
     },
     "execution_count": 69,
     "metadata": {},
     "output_type": "execute_result"
    }
   ],
   "source": [
    "df_submission_with_comments.head()"
   ]
  },
  {
   "cell_type": "code",
   "execution_count": null,
   "id": "220ec54b-262d-4f3a-89a4-c060731f9c7d",
   "metadata": {},
   "outputs": [],
   "source": []
  },
  {
   "cell_type": "markdown",
   "id": "44091b39-3135-4635-af43-565372c41bc4",
   "metadata": {},
   "source": [
    "### combine submission and comments together tohave  one DataFramee"
   ]
  },
  {
   "cell_type": "code",
   "execution_count": 38,
   "id": "cc9aeaa1-bca9-4d42-b681-fa90d8e01292",
   "metadata": {},
   "outputs": [],
   "source": [
    "df_combine = pd.concat([df_submission, df_comments],ignore_index=True, sort=False)"
   ]
  },
  {
   "cell_type": "code",
   "execution_count": 39,
   "id": "cd196d31-7c2c-4561-a046-4fb9f02d6cc3",
   "metadata": {},
   "outputs": [
    {
     "data": {
      "text/plain": [
       "(2000, 10)"
      ]
     },
     "execution_count": 39,
     "metadata": {},
     "output_type": "execute_result"
    }
   ],
   "source": [
    "df_combine.shape"
   ]
  },
  {
   "cell_type": "code",
   "execution_count": 40,
   "id": "48f2a855-6f5d-45e3-83df-b65707a797fd",
   "metadata": {},
   "outputs": [
    {
     "data": {
      "text/html": [
       "<div>\n",
       "<style scoped>\n",
       "    .dataframe tbody tr th:only-of-type {\n",
       "        vertical-align: middle;\n",
       "    }\n",
       "\n",
       "    .dataframe tbody tr th {\n",
       "        vertical-align: top;\n",
       "    }\n",
       "\n",
       "    .dataframe thead th {\n",
       "        text-align: right;\n",
       "    }\n",
       "</style>\n",
       "<table border=\"1\" class=\"dataframe\">\n",
       "  <thead>\n",
       "    <tr style=\"text-align: right;\">\n",
       "      <th></th>\n",
       "      <th>subreddit</th>\n",
       "      <th>id</th>\n",
       "      <th>selftext</th>\n",
       "      <th>title</th>\n",
       "      <th>num_comments</th>\n",
       "      <th>created_utc</th>\n",
       "      <th>parent_id</th>\n",
       "      <th>link_id</th>\n",
       "      <th>author</th>\n",
       "      <th>body</th>\n",
       "    </tr>\n",
       "  </thead>\n",
       "  <tbody>\n",
       "    <tr>\n",
       "      <th>0</th>\n",
       "      <td>Parenting</td>\n",
       "      <td>u35fhw</td>\n",
       "      <td>We recently found a drop in daycare for my 3yr...</td>\n",
       "      <td>Daycare recommends shorter drop offs.</td>\n",
       "      <td>0.0</td>\n",
       "      <td>1649898505</td>\n",
       "      <td>NaN</td>\n",
       "      <td>NaN</td>\n",
       "      <td>NaN</td>\n",
       "      <td>NaN</td>\n",
       "    </tr>\n",
       "    <tr>\n",
       "      <th>1</th>\n",
       "      <td>Parenting</td>\n",
       "      <td>u355wz</td>\n",
       "      <td>So I've lurked on this sub for a long time as ...</td>\n",
       "      <td>Looking for advice for taking the leap to beco...</td>\n",
       "      <td>0.0</td>\n",
       "      <td>1649897684</td>\n",
       "      <td>NaN</td>\n",
       "      <td>NaN</td>\n",
       "      <td>NaN</td>\n",
       "      <td>NaN</td>\n",
       "    </tr>\n",
       "    <tr>\n",
       "      <th>2</th>\n",
       "      <td>Parenting</td>\n",
       "      <td>u34x24</td>\n",
       "      <td>So my 20yr old son came back to live with me a...</td>\n",
       "      <td>lazy teenager</td>\n",
       "      <td>0.0</td>\n",
       "      <td>1649896924</td>\n",
       "      <td>NaN</td>\n",
       "      <td>NaN</td>\n",
       "      <td>NaN</td>\n",
       "      <td>NaN</td>\n",
       "    </tr>\n",
       "    <tr>\n",
       "      <th>3</th>\n",
       "      <td>Parenting</td>\n",
       "      <td>u34vh5</td>\n",
       "      <td>I feel bad about posting, since I had all the ...</td>\n",
       "      <td>I still haven't bonded with my 1 year old</td>\n",
       "      <td>0.0</td>\n",
       "      <td>1649896790</td>\n",
       "      <td>NaN</td>\n",
       "      <td>NaN</td>\n",
       "      <td>NaN</td>\n",
       "      <td>NaN</td>\n",
       "    </tr>\n",
       "    <tr>\n",
       "      <th>4</th>\n",
       "      <td>Parenting</td>\n",
       "      <td>u34sai</td>\n",
       "      <td>My Steam library is looking a bit thin when it...</td>\n",
       "      <td>PC game advice for a 5 year old.</td>\n",
       "      <td>0.0</td>\n",
       "      <td>1649896511</td>\n",
       "      <td>NaN</td>\n",
       "      <td>NaN</td>\n",
       "      <td>NaN</td>\n",
       "      <td>NaN</td>\n",
       "    </tr>\n",
       "  </tbody>\n",
       "</table>\n",
       "</div>"
      ],
      "text/plain": [
       "   subreddit      id                                           selftext  \\\n",
       "0  Parenting  u35fhw  We recently found a drop in daycare for my 3yr...   \n",
       "1  Parenting  u355wz  So I've lurked on this sub for a long time as ...   \n",
       "2  Parenting  u34x24  So my 20yr old son came back to live with me a...   \n",
       "3  Parenting  u34vh5  I feel bad about posting, since I had all the ...   \n",
       "4  Parenting  u34sai  My Steam library is looking a bit thin when it...   \n",
       "\n",
       "                                               title  num_comments  \\\n",
       "0              Daycare recommends shorter drop offs.           0.0   \n",
       "1  Looking for advice for taking the leap to beco...           0.0   \n",
       "2                                      lazy teenager           0.0   \n",
       "3          I still haven't bonded with my 1 year old           0.0   \n",
       "4                   PC game advice for a 5 year old.           0.0   \n",
       "\n",
       "   created_utc parent_id link_id author body  \n",
       "0   1649898505       NaN     NaN    NaN  NaN  \n",
       "1   1649897684       NaN     NaN    NaN  NaN  \n",
       "2   1649896924       NaN     NaN    NaN  NaN  \n",
       "3   1649896790       NaN     NaN    NaN  NaN  \n",
       "4   1649896511       NaN     NaN    NaN  NaN  "
      ]
     },
     "execution_count": 40,
     "metadata": {},
     "output_type": "execute_result"
    }
   ],
   "source": [
    "df_combine.head()"
   ]
  },
  {
   "cell_type": "code",
   "execution_count": 41,
   "id": "83cecbb5-5c79-4370-96c7-18c493937fa8",
   "metadata": {},
   "outputs": [
    {
     "data": {
      "text/html": [
       "<div>\n",
       "<style scoped>\n",
       "    .dataframe tbody tr th:only-of-type {\n",
       "        vertical-align: middle;\n",
       "    }\n",
       "\n",
       "    .dataframe tbody tr th {\n",
       "        vertical-align: top;\n",
       "    }\n",
       "\n",
       "    .dataframe thead th {\n",
       "        text-align: right;\n",
       "    }\n",
       "</style>\n",
       "<table border=\"1\" class=\"dataframe\">\n",
       "  <thead>\n",
       "    <tr style=\"text-align: right;\">\n",
       "      <th></th>\n",
       "      <th>subreddit</th>\n",
       "      <th>id</th>\n",
       "      <th>selftext</th>\n",
       "      <th>title</th>\n",
       "      <th>num_comments</th>\n",
       "      <th>created_utc</th>\n",
       "      <th>parent_id</th>\n",
       "      <th>link_id</th>\n",
       "      <th>author</th>\n",
       "      <th>body</th>\n",
       "    </tr>\n",
       "  </thead>\n",
       "  <tbody>\n",
       "    <tr>\n",
       "      <th>1995</th>\n",
       "      <td>Parenting</td>\n",
       "      <td>i4lfajq</td>\n",
       "      <td>NaN</td>\n",
       "      <td>NaN</td>\n",
       "      <td>NaN</td>\n",
       "      <td>1649872847</td>\n",
       "      <td>t3_u2rsja</td>\n",
       "      <td>t3_u2rsja</td>\n",
       "      <td>They_Call_Me_Sugar</td>\n",
       "      <td>Stay strong and I'd say leave his ass! If he's...</td>\n",
       "    </tr>\n",
       "    <tr>\n",
       "      <th>1996</th>\n",
       "      <td>Parenting</td>\n",
       "      <td>i4lfahr</td>\n",
       "      <td>NaN</td>\n",
       "      <td>NaN</td>\n",
       "      <td>NaN</td>\n",
       "      <td>1649872846</td>\n",
       "      <td>t1_i4l0fjk</td>\n",
       "      <td>t3_u2rsja</td>\n",
       "      <td>Ancient-Ad-9790</td>\n",
       "      <td>Seriously, what are these teens thinking? Wher...</td>\n",
       "    </tr>\n",
       "    <tr>\n",
       "      <th>1997</th>\n",
       "      <td>Parenting</td>\n",
       "      <td>i4lfa1b</td>\n",
       "      <td>NaN</td>\n",
       "      <td>NaN</td>\n",
       "      <td>NaN</td>\n",
       "      <td>1649872842</td>\n",
       "      <td>t3_u2w61h</td>\n",
       "      <td>t3_u2w61h</td>\n",
       "      <td>aloewolf</td>\n",
       "      <td>I think the 4 year age gap will be an issue wh...</td>\n",
       "    </tr>\n",
       "    <tr>\n",
       "      <th>1998</th>\n",
       "      <td>Parenting</td>\n",
       "      <td>i4lfa0g</td>\n",
       "      <td>NaN</td>\n",
       "      <td>NaN</td>\n",
       "      <td>NaN</td>\n",
       "      <td>1649872841</td>\n",
       "      <td>t1_i4le47e</td>\n",
       "      <td>t3_u2virc</td>\n",
       "      <td>MadMaid42</td>\n",
       "      <td>Yeah that’s a good thing, just want to mention...</td>\n",
       "    </tr>\n",
       "    <tr>\n",
       "      <th>1999</th>\n",
       "      <td>Parenting</td>\n",
       "      <td>i4lf7rb</td>\n",
       "      <td>NaN</td>\n",
       "      <td>NaN</td>\n",
       "      <td>NaN</td>\n",
       "      <td>1649872817</td>\n",
       "      <td>t3_u2esg1</td>\n",
       "      <td>t3_u2esg1</td>\n",
       "      <td>wmartin2014</td>\n",
       "      <td>If he actually uses the office, a fair comprom...</td>\n",
       "    </tr>\n",
       "  </tbody>\n",
       "</table>\n",
       "</div>"
      ],
      "text/plain": [
       "      subreddit       id selftext title  num_comments  created_utc  \\\n",
       "1995  Parenting  i4lfajq      NaN   NaN           NaN   1649872847   \n",
       "1996  Parenting  i4lfahr      NaN   NaN           NaN   1649872846   \n",
       "1997  Parenting  i4lfa1b      NaN   NaN           NaN   1649872842   \n",
       "1998  Parenting  i4lfa0g      NaN   NaN           NaN   1649872841   \n",
       "1999  Parenting  i4lf7rb      NaN   NaN           NaN   1649872817   \n",
       "\n",
       "       parent_id    link_id              author  \\\n",
       "1995   t3_u2rsja  t3_u2rsja  They_Call_Me_Sugar   \n",
       "1996  t1_i4l0fjk  t3_u2rsja     Ancient-Ad-9790   \n",
       "1997   t3_u2w61h  t3_u2w61h            aloewolf   \n",
       "1998  t1_i4le47e  t3_u2virc           MadMaid42   \n",
       "1999   t3_u2esg1  t3_u2esg1         wmartin2014   \n",
       "\n",
       "                                                   body  \n",
       "1995  Stay strong and I'd say leave his ass! If he's...  \n",
       "1996  Seriously, what are these teens thinking? Wher...  \n",
       "1997  I think the 4 year age gap will be an issue wh...  \n",
       "1998  Yeah that’s a good thing, just want to mention...  \n",
       "1999  If he actually uses the office, a fair comprom...  "
      ]
     },
     "execution_count": 41,
     "metadata": {},
     "output_type": "execute_result"
    }
   ],
   "source": [
    "df_combine.tail()"
   ]
  },
  {
   "cell_type": "code",
   "execution_count": 42,
   "id": "e9c1c9d8-206a-4f83-a767-5e7df570b55b",
   "metadata": {},
   "outputs": [
    {
     "data": {
      "text/plain": [
       "subreddit          0\n",
       "id                 0\n",
       "selftext        1000\n",
       "title           1000\n",
       "num_comments    1000\n",
       "created_utc        0\n",
       "parent_id       1000\n",
       "link_id         1000\n",
       "author          1000\n",
       "body            1000\n",
       "dtype: int64"
      ]
     },
     "execution_count": 42,
     "metadata": {},
     "output_type": "execute_result"
    }
   ],
   "source": [
    "df_combine.isnull().sum()"
   ]
  },
  {
   "cell_type": "code",
   "execution_count": 43,
   "id": "263c9bc1-a622-42b3-8ba0-4320d1906bbd",
   "metadata": {},
   "outputs": [],
   "source": [
    "df_combine['selftext'].fillna('fromcomments', inplace = True)"
   ]
  },
  {
   "cell_type": "code",
   "execution_count": 44,
   "id": "7ac46eb5-b4d7-4158-85f5-cb26179141b0",
   "metadata": {},
   "outputs": [
    {
     "data": {
      "text/plain": [
       "subreddit          0\n",
       "id                 0\n",
       "selftext           0\n",
       "title           1000\n",
       "num_comments    1000\n",
       "created_utc        0\n",
       "parent_id       1000\n",
       "link_id         1000\n",
       "author          1000\n",
       "body            1000\n",
       "dtype: int64"
      ]
     },
     "execution_count": 44,
     "metadata": {},
     "output_type": "execute_result"
    }
   ],
   "source": [
    "df_combine.isnull().sum()"
   ]
  },
  {
   "cell_type": "code",
   "execution_count": 45,
   "id": "d43e781f-cca2-45c5-badf-d33db34e00ff",
   "metadata": {},
   "outputs": [],
   "source": [
    "df_combine['title'].fillna('fromcomments', inplace = True)\n",
    "\n"
   ]
  },
  {
   "cell_type": "code",
   "execution_count": null,
   "id": "183bc38e-e6b7-4b2c-81b4-cf7dec0b9187",
   "metadata": {},
   "outputs": [],
   "source": []
  },
  {
   "cell_type": "code",
   "execution_count": 46,
   "id": "b3e410c8-dbbe-4b88-a76d-242b37f22e20",
   "metadata": {},
   "outputs": [],
   "source": [
    "df_combine['num_comments'].fillna(0,inplace=True)"
   ]
  },
  {
   "cell_type": "code",
   "execution_count": 47,
   "id": "c114854e-d056-4d1a-8da3-d6a5b3cfba92",
   "metadata": {},
   "outputs": [],
   "source": [
    "df_combine['parent_id'].fillna('fromsubmission',inplace=True)"
   ]
  },
  {
   "cell_type": "code",
   "execution_count": 48,
   "id": "6930ccfc-1c71-4b8a-ad4c-1602ffb2afe9",
   "metadata": {},
   "outputs": [],
   "source": [
    "df_combine['link_id'].fillna('fromsubmission',inplace=True)"
   ]
  },
  {
   "cell_type": "code",
   "execution_count": 49,
   "id": "b6add53b-b5d7-4af0-965a-0e29de6559ee",
   "metadata": {},
   "outputs": [],
   "source": [
    "df_combine['author'].fillna('fromsubmission',inplace=True)"
   ]
  },
  {
   "cell_type": "code",
   "execution_count": 50,
   "id": "e1e8ea2e-27d4-4246-a1e9-e497ba483bd5",
   "metadata": {},
   "outputs": [],
   "source": [
    "df_combine['body'].fillna('fromsubmission',inplace=True)"
   ]
  },
  {
   "cell_type": "code",
   "execution_count": 51,
   "id": "d95a89b1-9216-4db6-8c99-3480b2e00bd8",
   "metadata": {},
   "outputs": [
    {
     "data": {
      "text/plain": [
       "subreddit       0\n",
       "id              0\n",
       "selftext        0\n",
       "title           0\n",
       "num_comments    0\n",
       "created_utc     0\n",
       "parent_id       0\n",
       "link_id         0\n",
       "author          0\n",
       "body            0\n",
       "dtype: int64"
      ]
     },
     "execution_count": 51,
     "metadata": {},
     "output_type": "execute_result"
    }
   ],
   "source": [
    "df_combine.isnull().sum()"
   ]
  },
  {
   "cell_type": "code",
   "execution_count": 52,
   "id": "bfe70c95-5e20-42a1-aa0b-36c1643309e8",
   "metadata": {},
   "outputs": [
    {
     "data": {
      "text/html": [
       "<div>\n",
       "<style scoped>\n",
       "    .dataframe tbody tr th:only-of-type {\n",
       "        vertical-align: middle;\n",
       "    }\n",
       "\n",
       "    .dataframe tbody tr th {\n",
       "        vertical-align: top;\n",
       "    }\n",
       "\n",
       "    .dataframe thead th {\n",
       "        text-align: right;\n",
       "    }\n",
       "</style>\n",
       "<table border=\"1\" class=\"dataframe\">\n",
       "  <thead>\n",
       "    <tr style=\"text-align: right;\">\n",
       "      <th></th>\n",
       "      <th>subreddit</th>\n",
       "      <th>id</th>\n",
       "      <th>selftext</th>\n",
       "      <th>title</th>\n",
       "      <th>num_comments</th>\n",
       "      <th>created_utc</th>\n",
       "      <th>parent_id</th>\n",
       "      <th>link_id</th>\n",
       "      <th>author</th>\n",
       "      <th>body</th>\n",
       "    </tr>\n",
       "  </thead>\n",
       "  <tbody>\n",
       "    <tr>\n",
       "      <th>0</th>\n",
       "      <td>Parenting</td>\n",
       "      <td>u35fhw</td>\n",
       "      <td>We recently found a drop in daycare for my 3yr...</td>\n",
       "      <td>Daycare recommends shorter drop offs.</td>\n",
       "      <td>0.0</td>\n",
       "      <td>1649898505</td>\n",
       "      <td>fromsubmission</td>\n",
       "      <td>fromsubmission</td>\n",
       "      <td>fromsubmission</td>\n",
       "      <td>fromsubmission</td>\n",
       "    </tr>\n",
       "    <tr>\n",
       "      <th>1</th>\n",
       "      <td>Parenting</td>\n",
       "      <td>u355wz</td>\n",
       "      <td>So I've lurked on this sub for a long time as ...</td>\n",
       "      <td>Looking for advice for taking the leap to beco...</td>\n",
       "      <td>0.0</td>\n",
       "      <td>1649897684</td>\n",
       "      <td>fromsubmission</td>\n",
       "      <td>fromsubmission</td>\n",
       "      <td>fromsubmission</td>\n",
       "      <td>fromsubmission</td>\n",
       "    </tr>\n",
       "    <tr>\n",
       "      <th>2</th>\n",
       "      <td>Parenting</td>\n",
       "      <td>u34x24</td>\n",
       "      <td>So my 20yr old son came back to live with me a...</td>\n",
       "      <td>lazy teenager</td>\n",
       "      <td>0.0</td>\n",
       "      <td>1649896924</td>\n",
       "      <td>fromsubmission</td>\n",
       "      <td>fromsubmission</td>\n",
       "      <td>fromsubmission</td>\n",
       "      <td>fromsubmission</td>\n",
       "    </tr>\n",
       "    <tr>\n",
       "      <th>3</th>\n",
       "      <td>Parenting</td>\n",
       "      <td>u34vh5</td>\n",
       "      <td>I feel bad about posting, since I had all the ...</td>\n",
       "      <td>I still haven't bonded with my 1 year old</td>\n",
       "      <td>0.0</td>\n",
       "      <td>1649896790</td>\n",
       "      <td>fromsubmission</td>\n",
       "      <td>fromsubmission</td>\n",
       "      <td>fromsubmission</td>\n",
       "      <td>fromsubmission</td>\n",
       "    </tr>\n",
       "    <tr>\n",
       "      <th>4</th>\n",
       "      <td>Parenting</td>\n",
       "      <td>u34sai</td>\n",
       "      <td>My Steam library is looking a bit thin when it...</td>\n",
       "      <td>PC game advice for a 5 year old.</td>\n",
       "      <td>0.0</td>\n",
       "      <td>1649896511</td>\n",
       "      <td>fromsubmission</td>\n",
       "      <td>fromsubmission</td>\n",
       "      <td>fromsubmission</td>\n",
       "      <td>fromsubmission</td>\n",
       "    </tr>\n",
       "  </tbody>\n",
       "</table>\n",
       "</div>"
      ],
      "text/plain": [
       "   subreddit      id                                           selftext  \\\n",
       "0  Parenting  u35fhw  We recently found a drop in daycare for my 3yr...   \n",
       "1  Parenting  u355wz  So I've lurked on this sub for a long time as ...   \n",
       "2  Parenting  u34x24  So my 20yr old son came back to live with me a...   \n",
       "3  Parenting  u34vh5  I feel bad about posting, since I had all the ...   \n",
       "4  Parenting  u34sai  My Steam library is looking a bit thin when it...   \n",
       "\n",
       "                                               title  num_comments  \\\n",
       "0              Daycare recommends shorter drop offs.           0.0   \n",
       "1  Looking for advice for taking the leap to beco...           0.0   \n",
       "2                                      lazy teenager           0.0   \n",
       "3          I still haven't bonded with my 1 year old           0.0   \n",
       "4                   PC game advice for a 5 year old.           0.0   \n",
       "\n",
       "   created_utc       parent_id         link_id          author            body  \n",
       "0   1649898505  fromsubmission  fromsubmission  fromsubmission  fromsubmission  \n",
       "1   1649897684  fromsubmission  fromsubmission  fromsubmission  fromsubmission  \n",
       "2   1649896924  fromsubmission  fromsubmission  fromsubmission  fromsubmission  \n",
       "3   1649896790  fromsubmission  fromsubmission  fromsubmission  fromsubmission  \n",
       "4   1649896511  fromsubmission  fromsubmission  fromsubmission  fromsubmission  "
      ]
     },
     "execution_count": 52,
     "metadata": {},
     "output_type": "execute_result"
    }
   ],
   "source": [
    "df_combine.head()"
   ]
  },
  {
   "cell_type": "code",
   "execution_count": 53,
   "id": "b7bc6b5f-aecc-4a3e-b509-3134143fdd04",
   "metadata": {},
   "outputs": [
    {
     "data": {
      "text/html": [
       "<div>\n",
       "<style scoped>\n",
       "    .dataframe tbody tr th:only-of-type {\n",
       "        vertical-align: middle;\n",
       "    }\n",
       "\n",
       "    .dataframe tbody tr th {\n",
       "        vertical-align: top;\n",
       "    }\n",
       "\n",
       "    .dataframe thead th {\n",
       "        text-align: right;\n",
       "    }\n",
       "</style>\n",
       "<table border=\"1\" class=\"dataframe\">\n",
       "  <thead>\n",
       "    <tr style=\"text-align: right;\">\n",
       "      <th></th>\n",
       "      <th>subreddit</th>\n",
       "      <th>id</th>\n",
       "      <th>selftext</th>\n",
       "      <th>title</th>\n",
       "      <th>num_comments</th>\n",
       "      <th>created_utc</th>\n",
       "      <th>parent_id</th>\n",
       "      <th>link_id</th>\n",
       "      <th>author</th>\n",
       "      <th>body</th>\n",
       "    </tr>\n",
       "  </thead>\n",
       "  <tbody>\n",
       "    <tr>\n",
       "      <th>1995</th>\n",
       "      <td>Parenting</td>\n",
       "      <td>i4lfajq</td>\n",
       "      <td>fromcomments</td>\n",
       "      <td>fromcomments</td>\n",
       "      <td>0.0</td>\n",
       "      <td>1649872847</td>\n",
       "      <td>t3_u2rsja</td>\n",
       "      <td>t3_u2rsja</td>\n",
       "      <td>They_Call_Me_Sugar</td>\n",
       "      <td>Stay strong and I'd say leave his ass! If he's...</td>\n",
       "    </tr>\n",
       "    <tr>\n",
       "      <th>1996</th>\n",
       "      <td>Parenting</td>\n",
       "      <td>i4lfahr</td>\n",
       "      <td>fromcomments</td>\n",
       "      <td>fromcomments</td>\n",
       "      <td>0.0</td>\n",
       "      <td>1649872846</td>\n",
       "      <td>t1_i4l0fjk</td>\n",
       "      <td>t3_u2rsja</td>\n",
       "      <td>Ancient-Ad-9790</td>\n",
       "      <td>Seriously, what are these teens thinking? Wher...</td>\n",
       "    </tr>\n",
       "    <tr>\n",
       "      <th>1997</th>\n",
       "      <td>Parenting</td>\n",
       "      <td>i4lfa1b</td>\n",
       "      <td>fromcomments</td>\n",
       "      <td>fromcomments</td>\n",
       "      <td>0.0</td>\n",
       "      <td>1649872842</td>\n",
       "      <td>t3_u2w61h</td>\n",
       "      <td>t3_u2w61h</td>\n",
       "      <td>aloewolf</td>\n",
       "      <td>I think the 4 year age gap will be an issue wh...</td>\n",
       "    </tr>\n",
       "    <tr>\n",
       "      <th>1998</th>\n",
       "      <td>Parenting</td>\n",
       "      <td>i4lfa0g</td>\n",
       "      <td>fromcomments</td>\n",
       "      <td>fromcomments</td>\n",
       "      <td>0.0</td>\n",
       "      <td>1649872841</td>\n",
       "      <td>t1_i4le47e</td>\n",
       "      <td>t3_u2virc</td>\n",
       "      <td>MadMaid42</td>\n",
       "      <td>Yeah that’s a good thing, just want to mention...</td>\n",
       "    </tr>\n",
       "    <tr>\n",
       "      <th>1999</th>\n",
       "      <td>Parenting</td>\n",
       "      <td>i4lf7rb</td>\n",
       "      <td>fromcomments</td>\n",
       "      <td>fromcomments</td>\n",
       "      <td>0.0</td>\n",
       "      <td>1649872817</td>\n",
       "      <td>t3_u2esg1</td>\n",
       "      <td>t3_u2esg1</td>\n",
       "      <td>wmartin2014</td>\n",
       "      <td>If he actually uses the office, a fair comprom...</td>\n",
       "    </tr>\n",
       "  </tbody>\n",
       "</table>\n",
       "</div>"
      ],
      "text/plain": [
       "      subreddit       id      selftext         title  num_comments  \\\n",
       "1995  Parenting  i4lfajq  fromcomments  fromcomments           0.0   \n",
       "1996  Parenting  i4lfahr  fromcomments  fromcomments           0.0   \n",
       "1997  Parenting  i4lfa1b  fromcomments  fromcomments           0.0   \n",
       "1998  Parenting  i4lfa0g  fromcomments  fromcomments           0.0   \n",
       "1999  Parenting  i4lf7rb  fromcomments  fromcomments           0.0   \n",
       "\n",
       "      created_utc   parent_id    link_id              author  \\\n",
       "1995   1649872847   t3_u2rsja  t3_u2rsja  They_Call_Me_Sugar   \n",
       "1996   1649872846  t1_i4l0fjk  t3_u2rsja     Ancient-Ad-9790   \n",
       "1997   1649872842   t3_u2w61h  t3_u2w61h            aloewolf   \n",
       "1998   1649872841  t1_i4le47e  t3_u2virc           MadMaid42   \n",
       "1999   1649872817   t3_u2esg1  t3_u2esg1         wmartin2014   \n",
       "\n",
       "                                                   body  \n",
       "1995  Stay strong and I'd say leave his ass! If he's...  \n",
       "1996  Seriously, what are these teens thinking? Wher...  \n",
       "1997  I think the 4 year age gap will be an issue wh...  \n",
       "1998  Yeah that’s a good thing, just want to mention...  \n",
       "1999  If he actually uses the office, a fair comprom...  "
      ]
     },
     "execution_count": 53,
     "metadata": {},
     "output_type": "execute_result"
    }
   ],
   "source": [
    "df_combine.tail()"
   ]
  },
  {
   "cell_type": "markdown",
   "id": "de7e5b42-f8a7-492f-80fb-00d0c23e1551",
   "metadata": {},
   "source": [
    "### put all text info together"
   ]
  },
  {
   "cell_type": "code",
   "execution_count": 54,
   "id": "9e53bfa1-5888-40ce-a987-6beb634b0e96",
   "metadata": {},
   "outputs": [],
   "source": [
    "df_combine['all_text'] = df_combine['selftext'] + ', ' + df_combine['body'] + ', ' + df_combine['title']"
   ]
  },
  {
   "cell_type": "code",
   "execution_count": 55,
   "id": "25c7ac5f-d507-424d-b993-4324f64bd402",
   "metadata": {},
   "outputs": [
    {
     "data": {
      "text/html": [
       "<div>\n",
       "<style scoped>\n",
       "    .dataframe tbody tr th:only-of-type {\n",
       "        vertical-align: middle;\n",
       "    }\n",
       "\n",
       "    .dataframe tbody tr th {\n",
       "        vertical-align: top;\n",
       "    }\n",
       "\n",
       "    .dataframe thead th {\n",
       "        text-align: right;\n",
       "    }\n",
       "</style>\n",
       "<table border=\"1\" class=\"dataframe\">\n",
       "  <thead>\n",
       "    <tr style=\"text-align: right;\">\n",
       "      <th></th>\n",
       "      <th>subreddit</th>\n",
       "      <th>id</th>\n",
       "      <th>selftext</th>\n",
       "      <th>title</th>\n",
       "      <th>num_comments</th>\n",
       "      <th>created_utc</th>\n",
       "      <th>parent_id</th>\n",
       "      <th>link_id</th>\n",
       "      <th>author</th>\n",
       "      <th>body</th>\n",
       "      <th>all_text</th>\n",
       "    </tr>\n",
       "  </thead>\n",
       "  <tbody>\n",
       "    <tr>\n",
       "      <th>0</th>\n",
       "      <td>Parenting</td>\n",
       "      <td>u35fhw</td>\n",
       "      <td>We recently found a drop in daycare for my 3yr...</td>\n",
       "      <td>Daycare recommends shorter drop offs.</td>\n",
       "      <td>0.0</td>\n",
       "      <td>1649898505</td>\n",
       "      <td>fromsubmission</td>\n",
       "      <td>fromsubmission</td>\n",
       "      <td>fromsubmission</td>\n",
       "      <td>fromsubmission</td>\n",
       "      <td>We recently found a drop in daycare for my 3yr...</td>\n",
       "    </tr>\n",
       "    <tr>\n",
       "      <th>1</th>\n",
       "      <td>Parenting</td>\n",
       "      <td>u355wz</td>\n",
       "      <td>So I've lurked on this sub for a long time as ...</td>\n",
       "      <td>Looking for advice for taking the leap to beco...</td>\n",
       "      <td>0.0</td>\n",
       "      <td>1649897684</td>\n",
       "      <td>fromsubmission</td>\n",
       "      <td>fromsubmission</td>\n",
       "      <td>fromsubmission</td>\n",
       "      <td>fromsubmission</td>\n",
       "      <td>So I've lurked on this sub for a long time as ...</td>\n",
       "    </tr>\n",
       "    <tr>\n",
       "      <th>2</th>\n",
       "      <td>Parenting</td>\n",
       "      <td>u34x24</td>\n",
       "      <td>So my 20yr old son came back to live with me a...</td>\n",
       "      <td>lazy teenager</td>\n",
       "      <td>0.0</td>\n",
       "      <td>1649896924</td>\n",
       "      <td>fromsubmission</td>\n",
       "      <td>fromsubmission</td>\n",
       "      <td>fromsubmission</td>\n",
       "      <td>fromsubmission</td>\n",
       "      <td>So my 20yr old son came back to live with me a...</td>\n",
       "    </tr>\n",
       "    <tr>\n",
       "      <th>3</th>\n",
       "      <td>Parenting</td>\n",
       "      <td>u34vh5</td>\n",
       "      <td>I feel bad about posting, since I had all the ...</td>\n",
       "      <td>I still haven't bonded with my 1 year old</td>\n",
       "      <td>0.0</td>\n",
       "      <td>1649896790</td>\n",
       "      <td>fromsubmission</td>\n",
       "      <td>fromsubmission</td>\n",
       "      <td>fromsubmission</td>\n",
       "      <td>fromsubmission</td>\n",
       "      <td>I feel bad about posting, since I had all the ...</td>\n",
       "    </tr>\n",
       "    <tr>\n",
       "      <th>4</th>\n",
       "      <td>Parenting</td>\n",
       "      <td>u34sai</td>\n",
       "      <td>My Steam library is looking a bit thin when it...</td>\n",
       "      <td>PC game advice for a 5 year old.</td>\n",
       "      <td>0.0</td>\n",
       "      <td>1649896511</td>\n",
       "      <td>fromsubmission</td>\n",
       "      <td>fromsubmission</td>\n",
       "      <td>fromsubmission</td>\n",
       "      <td>fromsubmission</td>\n",
       "      <td>My Steam library is looking a bit thin when it...</td>\n",
       "    </tr>\n",
       "  </tbody>\n",
       "</table>\n",
       "</div>"
      ],
      "text/plain": [
       "   subreddit      id                                           selftext  \\\n",
       "0  Parenting  u35fhw  We recently found a drop in daycare for my 3yr...   \n",
       "1  Parenting  u355wz  So I've lurked on this sub for a long time as ...   \n",
       "2  Parenting  u34x24  So my 20yr old son came back to live with me a...   \n",
       "3  Parenting  u34vh5  I feel bad about posting, since I had all the ...   \n",
       "4  Parenting  u34sai  My Steam library is looking a bit thin when it...   \n",
       "\n",
       "                                               title  num_comments  \\\n",
       "0              Daycare recommends shorter drop offs.           0.0   \n",
       "1  Looking for advice for taking the leap to beco...           0.0   \n",
       "2                                      lazy teenager           0.0   \n",
       "3          I still haven't bonded with my 1 year old           0.0   \n",
       "4                   PC game advice for a 5 year old.           0.0   \n",
       "\n",
       "   created_utc       parent_id         link_id          author  \\\n",
       "0   1649898505  fromsubmission  fromsubmission  fromsubmission   \n",
       "1   1649897684  fromsubmission  fromsubmission  fromsubmission   \n",
       "2   1649896924  fromsubmission  fromsubmission  fromsubmission   \n",
       "3   1649896790  fromsubmission  fromsubmission  fromsubmission   \n",
       "4   1649896511  fromsubmission  fromsubmission  fromsubmission   \n",
       "\n",
       "             body                                           all_text  \n",
       "0  fromsubmission  We recently found a drop in daycare for my 3yr...  \n",
       "1  fromsubmission  So I've lurked on this sub for a long time as ...  \n",
       "2  fromsubmission  So my 20yr old son came back to live with me a...  \n",
       "3  fromsubmission  I feel bad about posting, since I had all the ...  \n",
       "4  fromsubmission  My Steam library is looking a bit thin when it...  "
      ]
     },
     "execution_count": 55,
     "metadata": {},
     "output_type": "execute_result"
    }
   ],
   "source": [
    "df_combine.head()"
   ]
  },
  {
   "cell_type": "code",
   "execution_count": 56,
   "id": "da6da8cf-fe52-4cba-85f3-24da2f951b60",
   "metadata": {},
   "outputs": [],
   "source": [
    "# df_combine.to_csv('combine.csv')\n",
    "df_combine.to_csv('combine_25.csv')"
   ]
  },
  {
   "cell_type": "code",
   "execution_count": null,
   "id": "f66d33d1-3d4d-43ca-b89e-39f5cd01b823",
   "metadata": {},
   "outputs": [],
   "source": []
  }
 ],
 "metadata": {
  "colab": {
   "name": "new_Data_collecting.ipynb",
   "provenance": []
  },
  "kernelspec": {
   "display_name": "Python 3 (ipykernel)",
   "language": "python",
   "name": "python3"
  },
  "language_info": {
   "codemirror_mode": {
    "name": "ipython",
    "version": 3
   },
   "file_extension": ".py",
   "mimetype": "text/x-python",
   "name": "python",
   "nbconvert_exporter": "python",
   "pygments_lexer": "ipython3",
   "version": "3.9.7"
  }
 },
 "nbformat": 4,
 "nbformat_minor": 5
}
