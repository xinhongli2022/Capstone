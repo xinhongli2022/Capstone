{
 "cells": [
  {
   "cell_type": "markdown",
   "id": "b50324c2-276a-4443-a3c2-136c19996ffa",
   "metadata": {
    "id": "b50324c2-276a-4443-a3c2-136c19996ffa"
   },
   "source": [
    "## Data collecting from parenting group"
   ]
  },
  {
   "cell_type": "code",
   "execution_count": 4,
   "id": "ekcB-HEZE7Dr",
   "metadata": {
    "id": "ekcB-HEZE7Dr"
   },
   "outputs": [],
   "source": [
    "import requests\n",
    "\n",
    "import pandas as pd\n",
    "import matplotlib.pyplot as plt\n",
    "\n",
    "import time"
   ]
  },
  {
   "cell_type": "raw",
   "id": "57fe5744-b1c1-4c70-a2a9-68b8cdd68e90",
   "metadata": {
    "id": "57fe5744-b1c1-4c70-a2a9-68b8cdd68e90"
   },
   "source": []
  },
  {
   "cell_type": "code",
   "execution_count": 5,
   "id": "91e8b2eb-0341-4aaa-981f-76f7b33dfcc3",
   "metadata": {
    "id": "91e8b2eb-0341-4aaa-981f-76f7b33dfcc3"
   },
   "outputs": [],
   "source": [
    "url = 'https://api.pushshift.io/reddit/search/submission'\n",
    "url_comments = 'https://api.pushshift.io/reddit/search/comment'"
   ]
  },
  {
   "cell_type": "markdown",
   "id": "6e4bdff7-f562-4c93-a730-fac4ac46250e",
   "metadata": {
    "id": "167b42fd-a9b0-487a-950a-dfdcb8cf12cc"
   },
   "source": [
    "Function to get comments"
   ]
  },
  {
   "cell_type": "code",
   "execution_count": 6,
   "id": "63a9f114-c316-4440-bf00-f21bc7bdada5",
   "metadata": {
    "id": "63a9f114-c316-4440-bf00-f21bc7bdada5"
   },
   "outputs": [],
   "source": [
    "# get comments from subreddit\n",
    "\n",
    "def get_posts(type, n_time):\n",
    "    \n",
    "    df_list = []\n",
    "    current_time = 1649888675\n",
    "    \n",
    "    for _ in range(n_time):\n",
    "      if type == 'submissions':\n",
    "        res = requests.get(\n",
    "            url,\n",
    "            params={\n",
    "                \"subreddit\": 'Parenting',\n",
    "                \"size\": 500,\n",
    "                \"before\": current_time\n",
    "            }\n",
    "        )\n",
    "      if type == 'comments':\n",
    "        res = requests.get(\n",
    "            url_comments,\n",
    "            params={\n",
    "                \"subreddit\": 'Parenting',\n",
    "                \"size\": 500,\n",
    "                \"before\": current_time\n",
    "            }\n",
    "        )\n",
    "\n",
    "        time.sleep(3)\n",
    "        df = pd.DataFrame(res.json()['data'])\n",
    "        if type == 'comments':\n",
    "          df = df.loc[:, ['id', 'parent_id','link_id' ,'author', \"subreddit\", \"body\", \"created_utc\"]]\n",
    "        if type == 'submissions':\n",
    "          print(df.shape)\n",
    "         # df = df.loc[:, [\"subreddit\", \"selftext\", \"created_utc\"]]\n",
    "          df = df[\"subreddit\", \"selftext\", \"created_utc\"]\n",
    "        df_list.append(df)\n",
    "        current_time = df.created_utc.min()\n",
    "        \n",
    "    return pd.concat(df_list, axis=0)"
   ]
  },
  {
   "cell_type": "markdown",
   "id": "cf3f70eb-8659-4cb7-9e6c-8447c0d8ae3e",
   "metadata": {
    "id": "4Rn0X-1QxltN"
   },
   "source": [
    "Fetch 5000 comments from "
   ]
  },
  {
   "cell_type": "code",
   "execution_count": 7,
   "id": "fGm47prUKXI_",
   "metadata": {
    "id": "fGm47prUKXI_"
   },
   "outputs": [],
   "source": [
    "df_comments = get_posts('comments', 50)\n"
   ]
  },
  {
   "cell_type": "code",
   "execution_count": 10,
   "id": "ebhhqx9qKXTs",
   "metadata": {
    "colab": {
     "base_uri": "https://localhost:8080/"
    },
    "id": "ebhhqx9qKXTs",
    "outputId": "1526a9de-27f1-4e80-c4ca-d1e0928dd3f9"
   },
   "outputs": [
    {
     "data": {
      "text/plain": [
       "(5000, 7)"
      ]
     },
     "execution_count": 10,
     "metadata": {},
     "output_type": "execute_result"
    }
   ],
   "source": [
    "df_comments.shape"
   ]
  },
  {
   "cell_type": "code",
   "execution_count": 56,
   "id": "I2_iP65guacF",
   "metadata": {
    "id": "I2_iP65guacF"
   },
   "outputs": [],
   "source": [
    "df_comments.to_csv('../data/parenting_comments_50.csv')"
   ]
  },
  {
   "cell_type": "code",
   "execution_count": 11,
   "id": "KktfFylXKXdu",
   "metadata": {
    "colab": {
     "base_uri": "https://localhost:8080/",
     "height": 206
    },
    "id": "KktfFylXKXdu",
    "outputId": "7fddcd18-f6f8-4389-9b91-78abc60111bb"
   },
   "outputs": [
    {
     "data": {
      "text/html": [
       "<div>\n",
       "<style scoped>\n",
       "    .dataframe tbody tr th:only-of-type {\n",
       "        vertical-align: middle;\n",
       "    }\n",
       "\n",
       "    .dataframe tbody tr th {\n",
       "        vertical-align: top;\n",
       "    }\n",
       "\n",
       "    .dataframe thead th {\n",
       "        text-align: right;\n",
       "    }\n",
       "</style>\n",
       "<table border=\"1\" class=\"dataframe\">\n",
       "  <thead>\n",
       "    <tr style=\"text-align: right;\">\n",
       "      <th></th>\n",
       "      <th>id</th>\n",
       "      <th>parent_id</th>\n",
       "      <th>link_id</th>\n",
       "      <th>author</th>\n",
       "      <th>subreddit</th>\n",
       "      <th>body</th>\n",
       "      <th>created_utc</th>\n",
       "    </tr>\n",
       "  </thead>\n",
       "  <tbody>\n",
       "    <tr>\n",
       "      <th>0</th>\n",
       "      <td>i4miytu</td>\n",
       "      <td>t1_i4lpwdx</td>\n",
       "      <td>t3_u2xgw9</td>\n",
       "      <td>MyAlternateOne</td>\n",
       "      <td>Parenting</td>\n",
       "      <td>And? He's legally an adult if he wants to fuck...</td>\n",
       "      <td>1649888655</td>\n",
       "    </tr>\n",
       "    <tr>\n",
       "      <th>1</th>\n",
       "      <td>i4miyr3</td>\n",
       "      <td>t3_u2zrje</td>\n",
       "      <td>t3_u2zrje</td>\n",
       "      <td>Still_Strangest</td>\n",
       "      <td>Parenting</td>\n",
       "      <td>It’s so devastating to hear those words even w...</td>\n",
       "      <td>1649888654</td>\n",
       "    </tr>\n",
       "    <tr>\n",
       "      <th>2</th>\n",
       "      <td>i4misto</td>\n",
       "      <td>t1_i4mimzu</td>\n",
       "      <td>t3_u31y78</td>\n",
       "      <td>fancydang</td>\n",
       "      <td>Parenting</td>\n",
       "      <td>Yes I ordered a safe on Amazon now. This is ob...</td>\n",
       "      <td>1649888584</td>\n",
       "    </tr>\n",
       "    <tr>\n",
       "      <th>3</th>\n",
       "      <td>i4mis5x</td>\n",
       "      <td>t1_i4mimzu</td>\n",
       "      <td>t3_u31y78</td>\n",
       "      <td>loopalace</td>\n",
       "      <td>Parenting</td>\n",
       "      <td>Yeah this too. It is totally up to us to make ...</td>\n",
       "      <td>1649888577</td>\n",
       "    </tr>\n",
       "    <tr>\n",
       "      <th>4</th>\n",
       "      <td>i4miqt6</td>\n",
       "      <td>t1_i4lfw5i</td>\n",
       "      <td>t3_u2virc</td>\n",
       "      <td>mcon87</td>\n",
       "      <td>Parenting</td>\n",
       "      <td>It's so validating to hear this from another p...</td>\n",
       "      <td>1649888561</td>\n",
       "    </tr>\n",
       "  </tbody>\n",
       "</table>\n",
       "</div>"
      ],
      "text/plain": [
       "        id   parent_id    link_id           author  subreddit  \\\n",
       "0  i4miytu  t1_i4lpwdx  t3_u2xgw9   MyAlternateOne  Parenting   \n",
       "1  i4miyr3   t3_u2zrje  t3_u2zrje  Still_Strangest  Parenting   \n",
       "2  i4misto  t1_i4mimzu  t3_u31y78        fancydang  Parenting   \n",
       "3  i4mis5x  t1_i4mimzu  t3_u31y78        loopalace  Parenting   \n",
       "4  i4miqt6  t1_i4lfw5i  t3_u2virc           mcon87  Parenting   \n",
       "\n",
       "                                                body  created_utc  \n",
       "0  And? He's legally an adult if he wants to fuck...   1649888655  \n",
       "1  It’s so devastating to hear those words even w...   1649888654  \n",
       "2  Yes I ordered a safe on Amazon now. This is ob...   1649888584  \n",
       "3  Yeah this too. It is totally up to us to make ...   1649888577  \n",
       "4  It's so validating to hear this from another p...   1649888561  "
      ]
     },
     "execution_count": 11,
     "metadata": {},
     "output_type": "execute_result"
    }
   ],
   "source": [
    "df_comments.head()"
   ]
  },
  {
   "cell_type": "code",
   "execution_count": null,
   "id": "b7feace7-9b5a-473e-ae08-b86255c36436",
   "metadata": {},
   "outputs": [],
   "source": [
    "# get  from subreddit\n",
    "\n",
    "def get_submissions(n_time):\n",
    "    \n",
    "    df_list = []\n",
    "    current_time = 1649899074\n",
    "    \n",
    "    for _ in range(n_time):\n",
    "      res = requests.get(\n",
    "            url,\n",
    "            params={\n",
    "                \"subreddit\": 'Parenting',\n",
    "                \"size\": 100,\n",
    "                \"before\": current_time\n",
    "            }\n",
    "      )\n",
    "      time.sleep(3)\n",
    "      df = pd.DataFrame(res.json()['data'])\n",
    "       \n",
    "      df = df.loc[:, [\"subreddit\",'id', \"selftext\", 'title','num_comments',\"created_utc\"]]\n",
    "      #df = df[\"subreddit\", \"selftext\", \"created_utc\"]\n",
    "      df_list.append(df)\n",
    "      current_time = df.created_utc.min()\n",
    "        \n",
    "    return pd.concat(df_list, axis=0)"
   ]
  },
  {
   "cell_type": "code",
   "execution_count": null,
   "id": "0a091d60-1702-4d31-a391-b345c9041a0b",
   "metadata": {},
   "outputs": [],
   "source": [
    "# df_submission = get_submissions(100)\n",
    "\n",
    "df_submission = get_submissions(50)"
   ]
  },
  {
   "cell_type": "code",
   "execution_count": 52,
   "id": "2ad48212-1b7d-4b1a-b4e5-b79e9eaf0e5f",
   "metadata": {},
   "outputs": [
    {
     "data": {
      "text/plain": [
       "(5000, 6)"
      ]
     },
     "execution_count": 52,
     "metadata": {},
     "output_type": "execute_result"
    }
   ],
   "source": [
    "df_submission.shape"
   ]
  },
  {
   "cell_type": "markdown",
   "id": "35ef0450-6e07-4b8d-943c-7283ba28071f",
   "metadata": {},
   "source": [
    "look through id related columns, for future use when needed to analize user's feature"
   ]
  },
  {
   "cell_type": "code",
   "execution_count": 12,
   "id": "12d73c17-5b0a-4f19-9d35-7ac08b82a8c3",
   "metadata": {},
   "outputs": [
    {
     "data": {
      "text/plain": [
       "t3_u2rsja    588\n",
       "t3_u276ko    519\n",
       "t3_u254jc    373\n",
       "t3_u2cpe3    192\n",
       "t3_u2esg1    147\n",
       "            ... \n",
       "t3_tyeobg      1\n",
       "t3_tqcxo6      1\n",
       "t3_tymvgb      1\n",
       "t3_u1hakd      1\n",
       "t3_u21cs4      1\n",
       "Name: link_id, Length: 307, dtype: int64"
      ]
     },
     "execution_count": 12,
     "metadata": {},
     "output_type": "execute_result"
    }
   ],
   "source": [
    "df_comments['link_id'].value_counts()"
   ]
  },
  {
   "cell_type": "code",
   "execution_count": 44,
   "id": "08b8c0fa-0a72-4c9c-8ce8-1cebc6f77b3e",
   "metadata": {},
   "outputs": [
    {
     "name": "stdout",
     "output_type": "stream",
     "text": [
      "4839\n"
     ]
    }
   ],
   "source": [
    "\n",
    "            \n",
    "list_c  = df_comments['link_id']\n",
    "list_s = df_submission['id']\n",
    "list_together = []\n",
    "\n",
    "for linkid in list_c:\n",
    "    linkid = linkid[3:]\n",
    "    #print(linkid)\n",
    "    for id in list_s:\n",
    "        if linkid == id:\n",
    "            list_together.append(linkid)\n",
    "print(len(list_together))"
   ]
  },
  {
   "cell_type": "code",
   "execution_count": 45,
   "id": "bef80f8b-43a0-4b53-8241-b14f831cb6d4",
   "metadata": {},
   "outputs": [
    {
     "name": "stdout",
     "output_type": "stream",
     "text": [
      "2589\n"
     ]
    }
   ],
   "source": [
    "list_c  = df_comments['parent_id']\n",
    "list_s = df_submission['id']\n",
    "list_together = []\n",
    "\n",
    "for linkid in list_c:\n",
    "    linkid = linkid[3:]\n",
    "    for id in list_s:\n",
    "        if linkid == id:\n",
    "            list_together.append(linkid)\n",
    "print(len(list_together))\n",
    "            "
   ]
  },
  {
   "cell_type": "code",
   "execution_count": 46,
   "id": "fb876181-04b1-4934-b8b9-65d6275248ce",
   "metadata": {},
   "outputs": [
    {
     "data": {
      "text/plain": [
       "id             0\n",
       "parent_id      0\n",
       "link_id        0\n",
       "author         0\n",
       "subreddit      0\n",
       "body           0\n",
       "created_utc    0\n",
       "dtype: int64"
      ]
     },
     "execution_count": 46,
     "metadata": {},
     "output_type": "execute_result"
    }
   ],
   "source": [
    "df_comments.isnull().sum()"
   ]
  },
  {
   "cell_type": "code",
   "execution_count": 47,
   "id": "726497d5-2e45-49d1-b430-016c29a18e0e",
   "metadata": {},
   "outputs": [],
   "source": [
    "#df_submission['title']"
   ]
  },
  {
   "cell_type": "code",
   "execution_count": 48,
   "id": "34c52877-f681-4aa8-bc02-756b772988ed",
   "metadata": {},
   "outputs": [],
   "source": [
    "parentids = df_comments['parent_id']\n"
   ]
  },
  {
   "cell_type": "code",
   "execution_count": 49,
   "id": "24400df1-8866-4ee9-b2af-c5461d6739ed",
   "metadata": {},
   "outputs": [
    {
     "data": {
      "text/plain": [
       "0     t1_i4lpwdx\n",
       "1      t3_u2zrje\n",
       "2     t1_i4mimzu\n",
       "3     t1_i4mimzu\n",
       "4     t1_i4lfw5i\n",
       "         ...    \n",
       "95     t3_u2584g\n",
       "96    t1_i4eu9c8\n",
       "97     t3_u24z9h\n",
       "98     t3_u24y23\n",
       "99     t3_u24z9h\n",
       "Name: parent_id, Length: 5000, dtype: object"
      ]
     },
     "execution_count": 49,
     "metadata": {},
     "output_type": "execute_result"
    }
   ],
   "source": [
    "parentids"
   ]
  },
  {
   "cell_type": "code",
   "execution_count": 50,
   "id": "5c5f45d3-46ee-4e32-b409-dfd92c8309d0",
   "metadata": {},
   "outputs": [],
   "source": [
    "parentids = df_comments['parent_id']\n",
    "\n",
    "parentids_for_col = []\n",
    "for key in parentids:\n",
    "    val = key[3:]\n",
    "    parentids_for_col.append(key)\n",
    "df_comments['parent_id'] = parentids_for_col"
   ]
  },
  {
   "cell_type": "code",
   "execution_count": 51,
   "id": "0c5c2467-8499-48e7-b847-b7471cbb5603",
   "metadata": {},
   "outputs": [
    {
     "data": {
      "text/html": [
       "<div>\n",
       "<style scoped>\n",
       "    .dataframe tbody tr th:only-of-type {\n",
       "        vertical-align: middle;\n",
       "    }\n",
       "\n",
       "    .dataframe tbody tr th {\n",
       "        vertical-align: top;\n",
       "    }\n",
       "\n",
       "    .dataframe thead th {\n",
       "        text-align: right;\n",
       "    }\n",
       "</style>\n",
       "<table border=\"1\" class=\"dataframe\">\n",
       "  <thead>\n",
       "    <tr style=\"text-align: right;\">\n",
       "      <th></th>\n",
       "      <th>id</th>\n",
       "      <th>parent_id</th>\n",
       "      <th>link_id</th>\n",
       "      <th>author</th>\n",
       "      <th>subreddit</th>\n",
       "      <th>body</th>\n",
       "      <th>created_utc</th>\n",
       "    </tr>\n",
       "  </thead>\n",
       "  <tbody>\n",
       "    <tr>\n",
       "      <th>0</th>\n",
       "      <td>i4miytu</td>\n",
       "      <td>t1_i4lpwdx</td>\n",
       "      <td>t3_u2xgw9</td>\n",
       "      <td>MyAlternateOne</td>\n",
       "      <td>Parenting</td>\n",
       "      <td>And? He's legally an adult if he wants to fuck...</td>\n",
       "      <td>1649888655</td>\n",
       "    </tr>\n",
       "    <tr>\n",
       "      <th>1</th>\n",
       "      <td>i4miyr3</td>\n",
       "      <td>t3_u2zrje</td>\n",
       "      <td>t3_u2zrje</td>\n",
       "      <td>Still_Strangest</td>\n",
       "      <td>Parenting</td>\n",
       "      <td>It’s so devastating to hear those words even w...</td>\n",
       "      <td>1649888654</td>\n",
       "    </tr>\n",
       "    <tr>\n",
       "      <th>2</th>\n",
       "      <td>i4misto</td>\n",
       "      <td>t1_i4mimzu</td>\n",
       "      <td>t3_u31y78</td>\n",
       "      <td>fancydang</td>\n",
       "      <td>Parenting</td>\n",
       "      <td>Yes I ordered a safe on Amazon now. This is ob...</td>\n",
       "      <td>1649888584</td>\n",
       "    </tr>\n",
       "    <tr>\n",
       "      <th>3</th>\n",
       "      <td>i4mis5x</td>\n",
       "      <td>t1_i4mimzu</td>\n",
       "      <td>t3_u31y78</td>\n",
       "      <td>loopalace</td>\n",
       "      <td>Parenting</td>\n",
       "      <td>Yeah this too. It is totally up to us to make ...</td>\n",
       "      <td>1649888577</td>\n",
       "    </tr>\n",
       "    <tr>\n",
       "      <th>4</th>\n",
       "      <td>i4miqt6</td>\n",
       "      <td>t1_i4lfw5i</td>\n",
       "      <td>t3_u2virc</td>\n",
       "      <td>mcon87</td>\n",
       "      <td>Parenting</td>\n",
       "      <td>It's so validating to hear this from another p...</td>\n",
       "      <td>1649888561</td>\n",
       "    </tr>\n",
       "  </tbody>\n",
       "</table>\n",
       "</div>"
      ],
      "text/plain": [
       "        id   parent_id    link_id           author  subreddit  \\\n",
       "0  i4miytu  t1_i4lpwdx  t3_u2xgw9   MyAlternateOne  Parenting   \n",
       "1  i4miyr3   t3_u2zrje  t3_u2zrje  Still_Strangest  Parenting   \n",
       "2  i4misto  t1_i4mimzu  t3_u31y78        fancydang  Parenting   \n",
       "3  i4mis5x  t1_i4mimzu  t3_u31y78        loopalace  Parenting   \n",
       "4  i4miqt6  t1_i4lfw5i  t3_u2virc           mcon87  Parenting   \n",
       "\n",
       "                                                body  created_utc  \n",
       "0  And? He's legally an adult if he wants to fuck...   1649888655  \n",
       "1  It’s so devastating to hear those words even w...   1649888654  \n",
       "2  Yes I ordered a safe on Amazon now. This is ob...   1649888584  \n",
       "3  Yeah this too. It is totally up to us to make ...   1649888577  \n",
       "4  It's so validating to hear this from another p...   1649888561  "
      ]
     },
     "execution_count": 51,
     "metadata": {},
     "output_type": "execute_result"
    }
   ],
   "source": [
    "df_comments.head()"
   ]
  },
  {
   "cell_type": "code",
   "execution_count": 15,
   "id": "iRaA4Q9KLnUL",
   "metadata": {
    "id": "iRaA4Q9KLnUL"
   },
   "outputs": [],
   "source": []
  },
  {
   "cell_type": "code",
   "execution_count": 16,
   "id": "2DMz_h8o6jSj",
   "metadata": {
    "colab": {
     "base_uri": "https://localhost:8080/",
     "height": 206
    },
    "id": "2DMz_h8o6jSj",
    "outputId": "cd7dd2fe-e5d5-4b52-81b6-80b1aaed95a4"
   },
   "outputs": [
    {
     "data": {
      "text/html": [
       "<div>\n",
       "<style scoped>\n",
       "    .dataframe tbody tr th:only-of-type {\n",
       "        vertical-align: middle;\n",
       "    }\n",
       "\n",
       "    .dataframe tbody tr th {\n",
       "        vertical-align: top;\n",
       "    }\n",
       "\n",
       "    .dataframe thead th {\n",
       "        text-align: right;\n",
       "    }\n",
       "</style>\n",
       "<table border=\"1\" class=\"dataframe\">\n",
       "  <thead>\n",
       "    <tr style=\"text-align: right;\">\n",
       "      <th></th>\n",
       "      <th>subreddit</th>\n",
       "      <th>id</th>\n",
       "      <th>selftext</th>\n",
       "      <th>title</th>\n",
       "      <th>num_comments</th>\n",
       "      <th>created_utc</th>\n",
       "    </tr>\n",
       "  </thead>\n",
       "  <tbody>\n",
       "    <tr>\n",
       "      <th>0</th>\n",
       "      <td>Parenting</td>\n",
       "      <td>u35fhw</td>\n",
       "      <td>We recently found a drop in daycare for my 3yr...</td>\n",
       "      <td>Daycare recommends shorter drop offs.</td>\n",
       "      <td>0</td>\n",
       "      <td>1649898505</td>\n",
       "    </tr>\n",
       "    <tr>\n",
       "      <th>1</th>\n",
       "      <td>Parenting</td>\n",
       "      <td>u355wz</td>\n",
       "      <td>So I've lurked on this sub for a long time as ...</td>\n",
       "      <td>Looking for advice for taking the leap to beco...</td>\n",
       "      <td>0</td>\n",
       "      <td>1649897684</td>\n",
       "    </tr>\n",
       "    <tr>\n",
       "      <th>2</th>\n",
       "      <td>Parenting</td>\n",
       "      <td>u34x24</td>\n",
       "      <td>So my 20yr old son came back to live with me a...</td>\n",
       "      <td>lazy teenager</td>\n",
       "      <td>0</td>\n",
       "      <td>1649896924</td>\n",
       "    </tr>\n",
       "    <tr>\n",
       "      <th>3</th>\n",
       "      <td>Parenting</td>\n",
       "      <td>u34vh5</td>\n",
       "      <td>I feel bad about posting, since I had all the ...</td>\n",
       "      <td>I still haven't bonded with my 1 year old</td>\n",
       "      <td>0</td>\n",
       "      <td>1649896790</td>\n",
       "    </tr>\n",
       "    <tr>\n",
       "      <th>4</th>\n",
       "      <td>Parenting</td>\n",
       "      <td>u34sai</td>\n",
       "      <td>My Steam library is looking a bit thin when it...</td>\n",
       "      <td>PC game advice for a 5 year old.</td>\n",
       "      <td>0</td>\n",
       "      <td>1649896511</td>\n",
       "    </tr>\n",
       "  </tbody>\n",
       "</table>\n",
       "</div>"
      ],
      "text/plain": [
       "   subreddit      id                                           selftext  \\\n",
       "0  Parenting  u35fhw  We recently found a drop in daycare for my 3yr...   \n",
       "1  Parenting  u355wz  So I've lurked on this sub for a long time as ...   \n",
       "2  Parenting  u34x24  So my 20yr old son came back to live with me a...   \n",
       "3  Parenting  u34vh5  I feel bad about posting, since I had all the ...   \n",
       "4  Parenting  u34sai  My Steam library is looking a bit thin when it...   \n",
       "\n",
       "                                               title  num_comments  \\\n",
       "0              Daycare recommends shorter drop offs.             0   \n",
       "1  Looking for advice for taking the leap to beco...             0   \n",
       "2                                      lazy teenager             0   \n",
       "3          I still haven't bonded with my 1 year old             0   \n",
       "4                   PC game advice for a 5 year old.             0   \n",
       "\n",
       "   created_utc  \n",
       "0   1649898505  \n",
       "1   1649897684  \n",
       "2   1649896924  \n",
       "3   1649896790  \n",
       "4   1649896511  "
      ]
     },
     "execution_count": 16,
     "metadata": {},
     "output_type": "execute_result"
    }
   ],
   "source": [
    "df_submission.head()"
   ]
  },
  {
   "cell_type": "code",
   "execution_count": null,
   "id": "JZKvGcl-Lnkz",
   "metadata": {
    "colab": {
     "base_uri": "https://localhost:8080/"
    },
    "id": "JZKvGcl-Lnkz",
    "outputId": "fd78eb45-5776-4d9f-e520-98bb17a44b87"
   },
   "outputs": [],
   "source": []
  },
  {
   "cell_type": "code",
   "execution_count": null,
   "id": "24534631-9ada-4d51-b85f-ecace3b18d3b",
   "metadata": {},
   "outputs": [],
   "source": []
  },
  {
   "cell_type": "code",
   "execution_count": 18,
   "id": "9fd23fd2-fb93-49d4-bf40-933db51b788b",
   "metadata": {},
   "outputs": [
    {
     "data": {
      "text/plain": [
       "0                 Daycare recommends shorter drop offs.\n",
       "1     Looking for advice for taking the leap to beco...\n",
       "2                                         lazy teenager\n",
       "3             I still haven't bonded with my 1 year old\n",
       "4                      PC game advice for a 5 year old.\n",
       "5                  How do you not just... Always panic?\n",
       "6                   Sometimes my son won’t say anything\n",
       "7     Would you be more or less willing to go to a b...\n",
       "8                                      Teeth coming in?\n",
       "9          MIL appreciation- I’ll be an MIL one day too\n",
       "10             Is it mean to exclude our 2 yo from trip\n",
       "11    'Mummy, you're my gorgeous boy' My sleep talki...\n",
       "12    Can kids gain confidence at the age of 8 or is...\n",
       "13                               A Chameleon of a Child\n",
       "14                      Butt wiping without baby wipes?\n",
       "15    What is the usual cognitive development for a ...\n",
       "16                          Is this considered sorting?\n",
       "17                         How to get your child to eat\n",
       "18    Three year old hitting at school and lying abo...\n",
       "19                                                Helpp\n",
       "Name: title, dtype: object"
      ]
     },
     "execution_count": 18,
     "metadata": {},
     "output_type": "execute_result"
    }
   ],
   "source": [
    "df_submission['title'][:20]"
   ]
  },
  {
   "cell_type": "code",
   "execution_count": 19,
   "id": "f5a173ac-f4f9-4cfe-85c6-104d15798c55",
   "metadata": {
    "scrolled": true,
    "tags": []
   },
   "outputs": [
    {
     "data": {
      "text/plain": [
       "0      4841\n",
       "1        68\n",
       "4        11\n",
       "2        10\n",
       "7         9\n",
       "6         7\n",
       "3         6\n",
       "5         6\n",
       "10        5\n",
       "9         5\n",
       "18        4\n",
       "11        3\n",
       "8         3\n",
       "13        2\n",
       "14        2\n",
       "24        2\n",
       "16        1\n",
       "130       1\n",
       "20        1\n",
       "22        1\n",
       "23        1\n",
       "25        1\n",
       "59        1\n",
       "78        1\n",
       "17        1\n",
       "34        1\n",
       "55        1\n",
       "48        1\n",
       "41        1\n",
       "21        1\n",
       "43        1\n",
       "12        1\n",
       "Name: num_comments, dtype: int64"
      ]
     },
     "execution_count": 19,
     "metadata": {},
     "output_type": "execute_result"
    }
   ],
   "source": [
    "df_submission['num_comments'].value_counts()"
   ]
  },
  {
   "cell_type": "code",
   "execution_count": 55,
   "id": "V1gKqtMV7T8_",
   "metadata": {
    "id": "V1gKqtMV7T8_"
   },
   "outputs": [],
   "source": [
    "df_submission.to_csv('../data/parenting_submission_50.csv')"
   ]
  },
  {
   "cell_type": "code",
   "execution_count": 54,
   "id": "d54799e8-8856-4e81-89f3-3dd29cb15f87",
   "metadata": {},
   "outputs": [],
   "source": [
    "df_submission_with_comments = df_submission[df_submission['num_comments']> 20]\n"
   ]
  },
  {
   "cell_type": "code",
   "execution_count": 22,
   "id": "bda8e7dd-4977-4f8c-bbfe-42daffd5e391",
   "metadata": {},
   "outputs": [
    {
     "data": {
      "text/plain": [
       "(14, 6)"
      ]
     },
     "execution_count": 22,
     "metadata": {},
     "output_type": "execute_result"
    }
   ],
   "source": [
    "df_submission_with_comments.shape"
   ]
  },
  {
   "cell_type": "code",
   "execution_count": 23,
   "id": "bf3f764c-48cb-4d5a-a35f-410d3bf55308",
   "metadata": {},
   "outputs": [
    {
     "data": {
      "text/html": [
       "<div>\n",
       "<style scoped>\n",
       "    .dataframe tbody tr th:only-of-type {\n",
       "        vertical-align: middle;\n",
       "    }\n",
       "\n",
       "    .dataframe tbody tr th {\n",
       "        vertical-align: top;\n",
       "    }\n",
       "\n",
       "    .dataframe thead th {\n",
       "        text-align: right;\n",
       "    }\n",
       "</style>\n",
       "<table border=\"1\" class=\"dataframe\">\n",
       "  <thead>\n",
       "    <tr style=\"text-align: right;\">\n",
       "      <th></th>\n",
       "      <th>subreddit</th>\n",
       "      <th>id</th>\n",
       "      <th>selftext</th>\n",
       "      <th>title</th>\n",
       "      <th>num_comments</th>\n",
       "      <th>created_utc</th>\n",
       "    </tr>\n",
       "  </thead>\n",
       "  <tbody>\n",
       "    <tr>\n",
       "      <th>50</th>\n",
       "      <td>Parenting</td>\n",
       "      <td>trsx2j</td>\n",
       "      <td>I raised my kids to have no excuse for violenc...</td>\n",
       "      <td>Will Smith just undid my work.</td>\n",
       "      <td>24</td>\n",
       "      <td>1648596820</td>\n",
       "    </tr>\n",
       "    <tr>\n",
       "      <th>52</th>\n",
       "      <td>Parenting</td>\n",
       "      <td>trssk9</td>\n",
       "      <td>My daughter is 5. She’s allowed over there by ...</td>\n",
       "      <td>I found my mother naked in the hot tub with my...</td>\n",
       "      <td>43</td>\n",
       "      <td>1648596456</td>\n",
       "    </tr>\n",
       "    <tr>\n",
       "      <th>69</th>\n",
       "      <td>Parenting</td>\n",
       "      <td>trnqc5</td>\n",
       "      <td>I currently make him go at 9 15 but he has bee...</td>\n",
       "      <td>What time should I let my 13 yr old go to bed?</td>\n",
       "      <td>21</td>\n",
       "      <td>1648590512</td>\n",
       "    </tr>\n",
       "    <tr>\n",
       "      <th>89</th>\n",
       "      <td>Parenting</td>\n",
       "      <td>trh1ha</td>\n",
       "      <td>So I am a mother for a 3 month old who has has...</td>\n",
       "      <td>Should have I snapped at a women</td>\n",
       "      <td>78</td>\n",
       "      <td>1648584208</td>\n",
       "    </tr>\n",
       "    <tr>\n",
       "      <th>95</th>\n",
       "      <td>Parenting</td>\n",
       "      <td>trf89y</td>\n",
       "      <td>The other day I was out and some ladies starte...</td>\n",
       "      <td>Is it rude to tell people not to touch your ba...</td>\n",
       "      <td>41</td>\n",
       "      <td>1648581984</td>\n",
       "    </tr>\n",
       "  </tbody>\n",
       "</table>\n",
       "</div>"
      ],
      "text/plain": [
       "    subreddit      id                                           selftext  \\\n",
       "50  Parenting  trsx2j  I raised my kids to have no excuse for violenc...   \n",
       "52  Parenting  trssk9  My daughter is 5. She’s allowed over there by ...   \n",
       "69  Parenting  trnqc5  I currently make him go at 9 15 but he has bee...   \n",
       "89  Parenting  trh1ha  So I am a mother for a 3 month old who has has...   \n",
       "95  Parenting  trf89y  The other day I was out and some ladies starte...   \n",
       "\n",
       "                                                title  num_comments  \\\n",
       "50                     Will Smith just undid my work.            24   \n",
       "52  I found my mother naked in the hot tub with my...            43   \n",
       "69     What time should I let my 13 yr old go to bed?            21   \n",
       "89                   Should have I snapped at a women            78   \n",
       "95  Is it rude to tell people not to touch your ba...            41   \n",
       "\n",
       "    created_utc  \n",
       "50   1648596820  \n",
       "52   1648596456  \n",
       "69   1648590512  \n",
       "89   1648584208  \n",
       "95   1648581984  "
      ]
     },
     "execution_count": 23,
     "metadata": {},
     "output_type": "execute_result"
    }
   ],
   "source": [
    "df_submission_with_comments.head()"
   ]
  },
  {
   "cell_type": "code",
   "execution_count": null,
   "id": "220ec54b-262d-4f3a-89a4-c060731f9c7d",
   "metadata": {},
   "outputs": [],
   "source": []
  },
  {
   "cell_type": "markdown",
   "id": "44091b39-3135-4635-af43-565372c41bc4",
   "metadata": {},
   "source": [
    "### combine submission and comments together tohave  one DataFramee"
   ]
  },
  {
   "cell_type": "code",
   "execution_count": 24,
   "id": "cc9aeaa1-bca9-4d42-b681-fa90d8e01292",
   "metadata": {},
   "outputs": [],
   "source": [
    "df_combine = pd.concat([df_submission, df_comments],ignore_index=True, sort=False)"
   ]
  },
  {
   "cell_type": "code",
   "execution_count": 25,
   "id": "cd196d31-7c2c-4561-a046-4fb9f02d6cc3",
   "metadata": {},
   "outputs": [
    {
     "data": {
      "text/plain": [
       "(10000, 10)"
      ]
     },
     "execution_count": 25,
     "metadata": {},
     "output_type": "execute_result"
    }
   ],
   "source": [
    "df_combine.shape"
   ]
  },
  {
   "cell_type": "code",
   "execution_count": 26,
   "id": "48f2a855-6f5d-45e3-83df-b65707a797fd",
   "metadata": {},
   "outputs": [
    {
     "data": {
      "text/html": [
       "<div>\n",
       "<style scoped>\n",
       "    .dataframe tbody tr th:only-of-type {\n",
       "        vertical-align: middle;\n",
       "    }\n",
       "\n",
       "    .dataframe tbody tr th {\n",
       "        vertical-align: top;\n",
       "    }\n",
       "\n",
       "    .dataframe thead th {\n",
       "        text-align: right;\n",
       "    }\n",
       "</style>\n",
       "<table border=\"1\" class=\"dataframe\">\n",
       "  <thead>\n",
       "    <tr style=\"text-align: right;\">\n",
       "      <th></th>\n",
       "      <th>subreddit</th>\n",
       "      <th>id</th>\n",
       "      <th>selftext</th>\n",
       "      <th>title</th>\n",
       "      <th>num_comments</th>\n",
       "      <th>created_utc</th>\n",
       "      <th>parent_id</th>\n",
       "      <th>link_id</th>\n",
       "      <th>author</th>\n",
       "      <th>body</th>\n",
       "    </tr>\n",
       "  </thead>\n",
       "  <tbody>\n",
       "    <tr>\n",
       "      <th>0</th>\n",
       "      <td>Parenting</td>\n",
       "      <td>u35fhw</td>\n",
       "      <td>We recently found a drop in daycare for my 3yr...</td>\n",
       "      <td>Daycare recommends shorter drop offs.</td>\n",
       "      <td>0.0</td>\n",
       "      <td>1649898505</td>\n",
       "      <td>NaN</td>\n",
       "      <td>NaN</td>\n",
       "      <td>NaN</td>\n",
       "      <td>NaN</td>\n",
       "    </tr>\n",
       "    <tr>\n",
       "      <th>1</th>\n",
       "      <td>Parenting</td>\n",
       "      <td>u355wz</td>\n",
       "      <td>So I've lurked on this sub for a long time as ...</td>\n",
       "      <td>Looking for advice for taking the leap to beco...</td>\n",
       "      <td>0.0</td>\n",
       "      <td>1649897684</td>\n",
       "      <td>NaN</td>\n",
       "      <td>NaN</td>\n",
       "      <td>NaN</td>\n",
       "      <td>NaN</td>\n",
       "    </tr>\n",
       "    <tr>\n",
       "      <th>2</th>\n",
       "      <td>Parenting</td>\n",
       "      <td>u34x24</td>\n",
       "      <td>So my 20yr old son came back to live with me a...</td>\n",
       "      <td>lazy teenager</td>\n",
       "      <td>0.0</td>\n",
       "      <td>1649896924</td>\n",
       "      <td>NaN</td>\n",
       "      <td>NaN</td>\n",
       "      <td>NaN</td>\n",
       "      <td>NaN</td>\n",
       "    </tr>\n",
       "    <tr>\n",
       "      <th>3</th>\n",
       "      <td>Parenting</td>\n",
       "      <td>u34vh5</td>\n",
       "      <td>I feel bad about posting, since I had all the ...</td>\n",
       "      <td>I still haven't bonded with my 1 year old</td>\n",
       "      <td>0.0</td>\n",
       "      <td>1649896790</td>\n",
       "      <td>NaN</td>\n",
       "      <td>NaN</td>\n",
       "      <td>NaN</td>\n",
       "      <td>NaN</td>\n",
       "    </tr>\n",
       "    <tr>\n",
       "      <th>4</th>\n",
       "      <td>Parenting</td>\n",
       "      <td>u34sai</td>\n",
       "      <td>My Steam library is looking a bit thin when it...</td>\n",
       "      <td>PC game advice for a 5 year old.</td>\n",
       "      <td>0.0</td>\n",
       "      <td>1649896511</td>\n",
       "      <td>NaN</td>\n",
       "      <td>NaN</td>\n",
       "      <td>NaN</td>\n",
       "      <td>NaN</td>\n",
       "    </tr>\n",
       "  </tbody>\n",
       "</table>\n",
       "</div>"
      ],
      "text/plain": [
       "   subreddit      id                                           selftext  \\\n",
       "0  Parenting  u35fhw  We recently found a drop in daycare for my 3yr...   \n",
       "1  Parenting  u355wz  So I've lurked on this sub for a long time as ...   \n",
       "2  Parenting  u34x24  So my 20yr old son came back to live with me a...   \n",
       "3  Parenting  u34vh5  I feel bad about posting, since I had all the ...   \n",
       "4  Parenting  u34sai  My Steam library is looking a bit thin when it...   \n",
       "\n",
       "                                               title  num_comments  \\\n",
       "0              Daycare recommends shorter drop offs.           0.0   \n",
       "1  Looking for advice for taking the leap to beco...           0.0   \n",
       "2                                      lazy teenager           0.0   \n",
       "3          I still haven't bonded with my 1 year old           0.0   \n",
       "4                   PC game advice for a 5 year old.           0.0   \n",
       "\n",
       "   created_utc parent_id link_id author body  \n",
       "0   1649898505       NaN     NaN    NaN  NaN  \n",
       "1   1649897684       NaN     NaN    NaN  NaN  \n",
       "2   1649896924       NaN     NaN    NaN  NaN  \n",
       "3   1649896790       NaN     NaN    NaN  NaN  \n",
       "4   1649896511       NaN     NaN    NaN  NaN  "
      ]
     },
     "execution_count": 26,
     "metadata": {},
     "output_type": "execute_result"
    }
   ],
   "source": [
    "df_combine.head()"
   ]
  },
  {
   "cell_type": "code",
   "execution_count": 27,
   "id": "83cecbb5-5c79-4370-96c7-18c493937fa8",
   "metadata": {},
   "outputs": [
    {
     "data": {
      "text/html": [
       "<div>\n",
       "<style scoped>\n",
       "    .dataframe tbody tr th:only-of-type {\n",
       "        vertical-align: middle;\n",
       "    }\n",
       "\n",
       "    .dataframe tbody tr th {\n",
       "        vertical-align: top;\n",
       "    }\n",
       "\n",
       "    .dataframe thead th {\n",
       "        text-align: right;\n",
       "    }\n",
       "</style>\n",
       "<table border=\"1\" class=\"dataframe\">\n",
       "  <thead>\n",
       "    <tr style=\"text-align: right;\">\n",
       "      <th></th>\n",
       "      <th>subreddit</th>\n",
       "      <th>id</th>\n",
       "      <th>selftext</th>\n",
       "      <th>title</th>\n",
       "      <th>num_comments</th>\n",
       "      <th>created_utc</th>\n",
       "      <th>parent_id</th>\n",
       "      <th>link_id</th>\n",
       "      <th>author</th>\n",
       "      <th>body</th>\n",
       "    </tr>\n",
       "  </thead>\n",
       "  <tbody>\n",
       "    <tr>\n",
       "      <th>9995</th>\n",
       "      <td>Parenting</td>\n",
       "      <td>i4gi7s5</td>\n",
       "      <td>NaN</td>\n",
       "      <td>NaN</td>\n",
       "      <td>NaN</td>\n",
       "      <td>1649786500</td>\n",
       "      <td>t3_u2584g</td>\n",
       "      <td>t3_u2584g</td>\n",
       "      <td>noonecaresat805</td>\n",
       "      <td>Well you can’t change the past. But you can ma...</td>\n",
       "    </tr>\n",
       "    <tr>\n",
       "      <th>9996</th>\n",
       "      <td>Parenting</td>\n",
       "      <td>i4gi72r</td>\n",
       "      <td>NaN</td>\n",
       "      <td>NaN</td>\n",
       "      <td>NaN</td>\n",
       "      <td>1649786492</td>\n",
       "      <td>t1_i4eu9c8</td>\n",
       "      <td>t3_u1vxa8</td>\n",
       "      <td>gubbygoobyqt</td>\n",
       "      <td>Jo Frost it up</td>\n",
       "    </tr>\n",
       "    <tr>\n",
       "      <th>9997</th>\n",
       "      <td>Parenting</td>\n",
       "      <td>i4gi5zv</td>\n",
       "      <td>NaN</td>\n",
       "      <td>NaN</td>\n",
       "      <td>NaN</td>\n",
       "      <td>1649786481</td>\n",
       "      <td>t3_u24z9h</td>\n",
       "      <td>t3_u24z9h</td>\n",
       "      <td>Smilewigeon</td>\n",
       "      <td>Ha. I recollect so many people telling me stuf...</td>\n",
       "    </tr>\n",
       "    <tr>\n",
       "      <th>9998</th>\n",
       "      <td>Parenting</td>\n",
       "      <td>i4gi2hl</td>\n",
       "      <td>NaN</td>\n",
       "      <td>NaN</td>\n",
       "      <td>NaN</td>\n",
       "      <td>1649786445</td>\n",
       "      <td>t3_u24y23</td>\n",
       "      <td>t3_u24y23</td>\n",
       "      <td>AstrumFaerwald</td>\n",
       "      <td>Have you had her checked for ADHD and/or OCD? ...</td>\n",
       "    </tr>\n",
       "    <tr>\n",
       "      <th>9999</th>\n",
       "      <td>Parenting</td>\n",
       "      <td>i4gi1ja</td>\n",
       "      <td>NaN</td>\n",
       "      <td>NaN</td>\n",
       "      <td>NaN</td>\n",
       "      <td>1649786435</td>\n",
       "      <td>t3_u24z9h</td>\n",
       "      <td>t3_u24z9h</td>\n",
       "      <td>OneAcanthocephala999</td>\n",
       "      <td>I think people mean well, they’re not trying t...</td>\n",
       "    </tr>\n",
       "  </tbody>\n",
       "</table>\n",
       "</div>"
      ],
      "text/plain": [
       "      subreddit       id selftext title  num_comments  created_utc  \\\n",
       "9995  Parenting  i4gi7s5      NaN   NaN           NaN   1649786500   \n",
       "9996  Parenting  i4gi72r      NaN   NaN           NaN   1649786492   \n",
       "9997  Parenting  i4gi5zv      NaN   NaN           NaN   1649786481   \n",
       "9998  Parenting  i4gi2hl      NaN   NaN           NaN   1649786445   \n",
       "9999  Parenting  i4gi1ja      NaN   NaN           NaN   1649786435   \n",
       "\n",
       "       parent_id    link_id                author  \\\n",
       "9995   t3_u2584g  t3_u2584g       noonecaresat805   \n",
       "9996  t1_i4eu9c8  t3_u1vxa8          gubbygoobyqt   \n",
       "9997   t3_u24z9h  t3_u24z9h           Smilewigeon   \n",
       "9998   t3_u24y23  t3_u24y23        AstrumFaerwald   \n",
       "9999   t3_u24z9h  t3_u24z9h  OneAcanthocephala999   \n",
       "\n",
       "                                                   body  \n",
       "9995  Well you can’t change the past. But you can ma...  \n",
       "9996                                     Jo Frost it up  \n",
       "9997  Ha. I recollect so many people telling me stuf...  \n",
       "9998  Have you had her checked for ADHD and/or OCD? ...  \n",
       "9999  I think people mean well, they’re not trying t...  "
      ]
     },
     "execution_count": 27,
     "metadata": {},
     "output_type": "execute_result"
    }
   ],
   "source": [
    "df_combine.tail()"
   ]
  },
  {
   "cell_type": "markdown",
   "id": "f5a58310-9c31-48b5-ac6e-bef4d354812b",
   "metadata": {},
   "source": [
    "Deal with null value when combine 2 data frame together"
   ]
  },
  {
   "cell_type": "code",
   "execution_count": 28,
   "id": "e9c1c9d8-206a-4f83-a767-5e7df570b55b",
   "metadata": {},
   "outputs": [
    {
     "data": {
      "text/plain": [
       "subreddit          0\n",
       "id                 0\n",
       "selftext        5007\n",
       "title           5000\n",
       "num_comments    5000\n",
       "created_utc        0\n",
       "parent_id       5000\n",
       "link_id         5000\n",
       "author          5000\n",
       "body            5000\n",
       "dtype: int64"
      ]
     },
     "execution_count": 28,
     "metadata": {},
     "output_type": "execute_result"
    }
   ],
   "source": [
    "df_combine.isnull().sum()"
   ]
  },
  {
   "cell_type": "code",
   "execution_count": 30,
   "id": "263c9bc1-a622-42b3-8ba0-4320d1906bbd",
   "metadata": {},
   "outputs": [],
   "source": [
    "df_combine['selftext'].fillna('fromcomments', inplace = True)"
   ]
  },
  {
   "cell_type": "code",
   "execution_count": 31,
   "id": "7ac46eb5-b4d7-4158-85f5-cb26179141b0",
   "metadata": {},
   "outputs": [
    {
     "data": {
      "text/plain": [
       "subreddit          0\n",
       "id                 0\n",
       "selftext           0\n",
       "title           5000\n",
       "num_comments    5000\n",
       "created_utc        0\n",
       "parent_id       5000\n",
       "link_id         5000\n",
       "author          5000\n",
       "body            5000\n",
       "dtype: int64"
      ]
     },
     "execution_count": 31,
     "metadata": {},
     "output_type": "execute_result"
    }
   ],
   "source": [
    "df_combine.isnull().sum()"
   ]
  },
  {
   "cell_type": "code",
   "execution_count": 32,
   "id": "d43e781f-cca2-45c5-badf-d33db34e00ff",
   "metadata": {},
   "outputs": [],
   "source": [
    "df_combine['title'].fillna('fromcomments', inplace = True)\n",
    "\n"
   ]
  },
  {
   "cell_type": "code",
   "execution_count": null,
   "id": "183bc38e-e6b7-4b2c-81b4-cf7dec0b9187",
   "metadata": {},
   "outputs": [],
   "source": []
  },
  {
   "cell_type": "code",
   "execution_count": 33,
   "id": "b3e410c8-dbbe-4b88-a76d-242b37f22e20",
   "metadata": {},
   "outputs": [],
   "source": [
    "df_combine['num_comments'].fillna(0,inplace=True)"
   ]
  },
  {
   "cell_type": "code",
   "execution_count": 34,
   "id": "c114854e-d056-4d1a-8da3-d6a5b3cfba92",
   "metadata": {},
   "outputs": [],
   "source": [
    "df_combine['parent_id'].fillna('fromsubmission',inplace=True)"
   ]
  },
  {
   "cell_type": "code",
   "execution_count": 35,
   "id": "6930ccfc-1c71-4b8a-ad4c-1602ffb2afe9",
   "metadata": {},
   "outputs": [],
   "source": [
    "df_combine['link_id'].fillna('fromsubmission',inplace=True)"
   ]
  },
  {
   "cell_type": "code",
   "execution_count": 36,
   "id": "b6add53b-b5d7-4af0-965a-0e29de6559ee",
   "metadata": {},
   "outputs": [],
   "source": [
    "df_combine['author'].fillna('fromsubmission',inplace=True)"
   ]
  },
  {
   "cell_type": "code",
   "execution_count": 37,
   "id": "e1e8ea2e-27d4-4246-a1e9-e497ba483bd5",
   "metadata": {},
   "outputs": [],
   "source": [
    "df_combine['body'].fillna('fromsubmission',inplace=True)"
   ]
  },
  {
   "cell_type": "code",
   "execution_count": 38,
   "id": "d95a89b1-9216-4db6-8c99-3480b2e00bd8",
   "metadata": {},
   "outputs": [
    {
     "data": {
      "text/plain": [
       "subreddit       0\n",
       "id              0\n",
       "selftext        0\n",
       "title           0\n",
       "num_comments    0\n",
       "created_utc     0\n",
       "parent_id       0\n",
       "link_id         0\n",
       "author          0\n",
       "body            0\n",
       "dtype: int64"
      ]
     },
     "execution_count": 38,
     "metadata": {},
     "output_type": "execute_result"
    }
   ],
   "source": [
    "df_combine.isnull().sum()"
   ]
  },
  {
   "cell_type": "code",
   "execution_count": 39,
   "id": "bfe70c95-5e20-42a1-aa0b-36c1643309e8",
   "metadata": {},
   "outputs": [
    {
     "data": {
      "text/html": [
       "<div>\n",
       "<style scoped>\n",
       "    .dataframe tbody tr th:only-of-type {\n",
       "        vertical-align: middle;\n",
       "    }\n",
       "\n",
       "    .dataframe tbody tr th {\n",
       "        vertical-align: top;\n",
       "    }\n",
       "\n",
       "    .dataframe thead th {\n",
       "        text-align: right;\n",
       "    }\n",
       "</style>\n",
       "<table border=\"1\" class=\"dataframe\">\n",
       "  <thead>\n",
       "    <tr style=\"text-align: right;\">\n",
       "      <th></th>\n",
       "      <th>subreddit</th>\n",
       "      <th>id</th>\n",
       "      <th>selftext</th>\n",
       "      <th>title</th>\n",
       "      <th>num_comments</th>\n",
       "      <th>created_utc</th>\n",
       "      <th>parent_id</th>\n",
       "      <th>link_id</th>\n",
       "      <th>author</th>\n",
       "      <th>body</th>\n",
       "    </tr>\n",
       "  </thead>\n",
       "  <tbody>\n",
       "    <tr>\n",
       "      <th>0</th>\n",
       "      <td>Parenting</td>\n",
       "      <td>u35fhw</td>\n",
       "      <td>We recently found a drop in daycare for my 3yr...</td>\n",
       "      <td>Daycare recommends shorter drop offs.</td>\n",
       "      <td>0.0</td>\n",
       "      <td>1649898505</td>\n",
       "      <td>fromsubmission</td>\n",
       "      <td>fromsubmission</td>\n",
       "      <td>fromsubmission</td>\n",
       "      <td>fromsubmission</td>\n",
       "    </tr>\n",
       "    <tr>\n",
       "      <th>1</th>\n",
       "      <td>Parenting</td>\n",
       "      <td>u355wz</td>\n",
       "      <td>So I've lurked on this sub for a long time as ...</td>\n",
       "      <td>Looking for advice for taking the leap to beco...</td>\n",
       "      <td>0.0</td>\n",
       "      <td>1649897684</td>\n",
       "      <td>fromsubmission</td>\n",
       "      <td>fromsubmission</td>\n",
       "      <td>fromsubmission</td>\n",
       "      <td>fromsubmission</td>\n",
       "    </tr>\n",
       "    <tr>\n",
       "      <th>2</th>\n",
       "      <td>Parenting</td>\n",
       "      <td>u34x24</td>\n",
       "      <td>So my 20yr old son came back to live with me a...</td>\n",
       "      <td>lazy teenager</td>\n",
       "      <td>0.0</td>\n",
       "      <td>1649896924</td>\n",
       "      <td>fromsubmission</td>\n",
       "      <td>fromsubmission</td>\n",
       "      <td>fromsubmission</td>\n",
       "      <td>fromsubmission</td>\n",
       "    </tr>\n",
       "    <tr>\n",
       "      <th>3</th>\n",
       "      <td>Parenting</td>\n",
       "      <td>u34vh5</td>\n",
       "      <td>I feel bad about posting, since I had all the ...</td>\n",
       "      <td>I still haven't bonded with my 1 year old</td>\n",
       "      <td>0.0</td>\n",
       "      <td>1649896790</td>\n",
       "      <td>fromsubmission</td>\n",
       "      <td>fromsubmission</td>\n",
       "      <td>fromsubmission</td>\n",
       "      <td>fromsubmission</td>\n",
       "    </tr>\n",
       "    <tr>\n",
       "      <th>4</th>\n",
       "      <td>Parenting</td>\n",
       "      <td>u34sai</td>\n",
       "      <td>My Steam library is looking a bit thin when it...</td>\n",
       "      <td>PC game advice for a 5 year old.</td>\n",
       "      <td>0.0</td>\n",
       "      <td>1649896511</td>\n",
       "      <td>fromsubmission</td>\n",
       "      <td>fromsubmission</td>\n",
       "      <td>fromsubmission</td>\n",
       "      <td>fromsubmission</td>\n",
       "    </tr>\n",
       "  </tbody>\n",
       "</table>\n",
       "</div>"
      ],
      "text/plain": [
       "   subreddit      id                                           selftext  \\\n",
       "0  Parenting  u35fhw  We recently found a drop in daycare for my 3yr...   \n",
       "1  Parenting  u355wz  So I've lurked on this sub for a long time as ...   \n",
       "2  Parenting  u34x24  So my 20yr old son came back to live with me a...   \n",
       "3  Parenting  u34vh5  I feel bad about posting, since I had all the ...   \n",
       "4  Parenting  u34sai  My Steam library is looking a bit thin when it...   \n",
       "\n",
       "                                               title  num_comments  \\\n",
       "0              Daycare recommends shorter drop offs.           0.0   \n",
       "1  Looking for advice for taking the leap to beco...           0.0   \n",
       "2                                      lazy teenager           0.0   \n",
       "3          I still haven't bonded with my 1 year old           0.0   \n",
       "4                   PC game advice for a 5 year old.           0.0   \n",
       "\n",
       "   created_utc       parent_id         link_id          author            body  \n",
       "0   1649898505  fromsubmission  fromsubmission  fromsubmission  fromsubmission  \n",
       "1   1649897684  fromsubmission  fromsubmission  fromsubmission  fromsubmission  \n",
       "2   1649896924  fromsubmission  fromsubmission  fromsubmission  fromsubmission  \n",
       "3   1649896790  fromsubmission  fromsubmission  fromsubmission  fromsubmission  \n",
       "4   1649896511  fromsubmission  fromsubmission  fromsubmission  fromsubmission  "
      ]
     },
     "execution_count": 39,
     "metadata": {},
     "output_type": "execute_result"
    }
   ],
   "source": [
    "df_combine.head()"
   ]
  },
  {
   "cell_type": "code",
   "execution_count": 40,
   "id": "b7bc6b5f-aecc-4a3e-b509-3134143fdd04",
   "metadata": {},
   "outputs": [
    {
     "data": {
      "text/html": [
       "<div>\n",
       "<style scoped>\n",
       "    .dataframe tbody tr th:only-of-type {\n",
       "        vertical-align: middle;\n",
       "    }\n",
       "\n",
       "    .dataframe tbody tr th {\n",
       "        vertical-align: top;\n",
       "    }\n",
       "\n",
       "    .dataframe thead th {\n",
       "        text-align: right;\n",
       "    }\n",
       "</style>\n",
       "<table border=\"1\" class=\"dataframe\">\n",
       "  <thead>\n",
       "    <tr style=\"text-align: right;\">\n",
       "      <th></th>\n",
       "      <th>subreddit</th>\n",
       "      <th>id</th>\n",
       "      <th>selftext</th>\n",
       "      <th>title</th>\n",
       "      <th>num_comments</th>\n",
       "      <th>created_utc</th>\n",
       "      <th>parent_id</th>\n",
       "      <th>link_id</th>\n",
       "      <th>author</th>\n",
       "      <th>body</th>\n",
       "    </tr>\n",
       "  </thead>\n",
       "  <tbody>\n",
       "    <tr>\n",
       "      <th>9995</th>\n",
       "      <td>Parenting</td>\n",
       "      <td>i4gi7s5</td>\n",
       "      <td>fromcomments</td>\n",
       "      <td>fromcomments</td>\n",
       "      <td>0.0</td>\n",
       "      <td>1649786500</td>\n",
       "      <td>t3_u2584g</td>\n",
       "      <td>t3_u2584g</td>\n",
       "      <td>noonecaresat805</td>\n",
       "      <td>Well you can’t change the past. But you can ma...</td>\n",
       "    </tr>\n",
       "    <tr>\n",
       "      <th>9996</th>\n",
       "      <td>Parenting</td>\n",
       "      <td>i4gi72r</td>\n",
       "      <td>fromcomments</td>\n",
       "      <td>fromcomments</td>\n",
       "      <td>0.0</td>\n",
       "      <td>1649786492</td>\n",
       "      <td>t1_i4eu9c8</td>\n",
       "      <td>t3_u1vxa8</td>\n",
       "      <td>gubbygoobyqt</td>\n",
       "      <td>Jo Frost it up</td>\n",
       "    </tr>\n",
       "    <tr>\n",
       "      <th>9997</th>\n",
       "      <td>Parenting</td>\n",
       "      <td>i4gi5zv</td>\n",
       "      <td>fromcomments</td>\n",
       "      <td>fromcomments</td>\n",
       "      <td>0.0</td>\n",
       "      <td>1649786481</td>\n",
       "      <td>t3_u24z9h</td>\n",
       "      <td>t3_u24z9h</td>\n",
       "      <td>Smilewigeon</td>\n",
       "      <td>Ha. I recollect so many people telling me stuf...</td>\n",
       "    </tr>\n",
       "    <tr>\n",
       "      <th>9998</th>\n",
       "      <td>Parenting</td>\n",
       "      <td>i4gi2hl</td>\n",
       "      <td>fromcomments</td>\n",
       "      <td>fromcomments</td>\n",
       "      <td>0.0</td>\n",
       "      <td>1649786445</td>\n",
       "      <td>t3_u24y23</td>\n",
       "      <td>t3_u24y23</td>\n",
       "      <td>AstrumFaerwald</td>\n",
       "      <td>Have you had her checked for ADHD and/or OCD? ...</td>\n",
       "    </tr>\n",
       "    <tr>\n",
       "      <th>9999</th>\n",
       "      <td>Parenting</td>\n",
       "      <td>i4gi1ja</td>\n",
       "      <td>fromcomments</td>\n",
       "      <td>fromcomments</td>\n",
       "      <td>0.0</td>\n",
       "      <td>1649786435</td>\n",
       "      <td>t3_u24z9h</td>\n",
       "      <td>t3_u24z9h</td>\n",
       "      <td>OneAcanthocephala999</td>\n",
       "      <td>I think people mean well, they’re not trying t...</td>\n",
       "    </tr>\n",
       "  </tbody>\n",
       "</table>\n",
       "</div>"
      ],
      "text/plain": [
       "      subreddit       id      selftext         title  num_comments  \\\n",
       "9995  Parenting  i4gi7s5  fromcomments  fromcomments           0.0   \n",
       "9996  Parenting  i4gi72r  fromcomments  fromcomments           0.0   \n",
       "9997  Parenting  i4gi5zv  fromcomments  fromcomments           0.0   \n",
       "9998  Parenting  i4gi2hl  fromcomments  fromcomments           0.0   \n",
       "9999  Parenting  i4gi1ja  fromcomments  fromcomments           0.0   \n",
       "\n",
       "      created_utc   parent_id    link_id                author  \\\n",
       "9995   1649786500   t3_u2584g  t3_u2584g       noonecaresat805   \n",
       "9996   1649786492  t1_i4eu9c8  t3_u1vxa8          gubbygoobyqt   \n",
       "9997   1649786481   t3_u24z9h  t3_u24z9h           Smilewigeon   \n",
       "9998   1649786445   t3_u24y23  t3_u24y23        AstrumFaerwald   \n",
       "9999   1649786435   t3_u24z9h  t3_u24z9h  OneAcanthocephala999   \n",
       "\n",
       "                                                   body  \n",
       "9995  Well you can’t change the past. But you can ma...  \n",
       "9996                                     Jo Frost it up  \n",
       "9997  Ha. I recollect so many people telling me stuf...  \n",
       "9998  Have you had her checked for ADHD and/or OCD? ...  \n",
       "9999  I think people mean well, they’re not trying t...  "
      ]
     },
     "execution_count": 40,
     "metadata": {},
     "output_type": "execute_result"
    }
   ],
   "source": [
    "df_combine.tail()"
   ]
  },
  {
   "cell_type": "markdown",
   "id": "de7e5b42-f8a7-492f-80fb-00d0c23e1551",
   "metadata": {},
   "source": [
    "### put all text info together"
   ]
  },
  {
   "cell_type": "code",
   "execution_count": 41,
   "id": "9e53bfa1-5888-40ce-a987-6beb634b0e96",
   "metadata": {},
   "outputs": [],
   "source": [
    "df_combine['all_text'] = df_combine['selftext'] + ', ' + df_combine['body'] + ', ' + df_combine['title']"
   ]
  },
  {
   "cell_type": "code",
   "execution_count": 42,
   "id": "25c7ac5f-d507-424d-b993-4324f64bd402",
   "metadata": {},
   "outputs": [
    {
     "data": {
      "text/html": [
       "<div>\n",
       "<style scoped>\n",
       "    .dataframe tbody tr th:only-of-type {\n",
       "        vertical-align: middle;\n",
       "    }\n",
       "\n",
       "    .dataframe tbody tr th {\n",
       "        vertical-align: top;\n",
       "    }\n",
       "\n",
       "    .dataframe thead th {\n",
       "        text-align: right;\n",
       "    }\n",
       "</style>\n",
       "<table border=\"1\" class=\"dataframe\">\n",
       "  <thead>\n",
       "    <tr style=\"text-align: right;\">\n",
       "      <th></th>\n",
       "      <th>subreddit</th>\n",
       "      <th>id</th>\n",
       "      <th>selftext</th>\n",
       "      <th>title</th>\n",
       "      <th>num_comments</th>\n",
       "      <th>created_utc</th>\n",
       "      <th>parent_id</th>\n",
       "      <th>link_id</th>\n",
       "      <th>author</th>\n",
       "      <th>body</th>\n",
       "      <th>all_text</th>\n",
       "    </tr>\n",
       "  </thead>\n",
       "  <tbody>\n",
       "    <tr>\n",
       "      <th>0</th>\n",
       "      <td>Parenting</td>\n",
       "      <td>u35fhw</td>\n",
       "      <td>We recently found a drop in daycare for my 3yr...</td>\n",
       "      <td>Daycare recommends shorter drop offs.</td>\n",
       "      <td>0.0</td>\n",
       "      <td>1649898505</td>\n",
       "      <td>fromsubmission</td>\n",
       "      <td>fromsubmission</td>\n",
       "      <td>fromsubmission</td>\n",
       "      <td>fromsubmission</td>\n",
       "      <td>We recently found a drop in daycare for my 3yr...</td>\n",
       "    </tr>\n",
       "    <tr>\n",
       "      <th>1</th>\n",
       "      <td>Parenting</td>\n",
       "      <td>u355wz</td>\n",
       "      <td>So I've lurked on this sub for a long time as ...</td>\n",
       "      <td>Looking for advice for taking the leap to beco...</td>\n",
       "      <td>0.0</td>\n",
       "      <td>1649897684</td>\n",
       "      <td>fromsubmission</td>\n",
       "      <td>fromsubmission</td>\n",
       "      <td>fromsubmission</td>\n",
       "      <td>fromsubmission</td>\n",
       "      <td>So I've lurked on this sub for a long time as ...</td>\n",
       "    </tr>\n",
       "    <tr>\n",
       "      <th>2</th>\n",
       "      <td>Parenting</td>\n",
       "      <td>u34x24</td>\n",
       "      <td>So my 20yr old son came back to live with me a...</td>\n",
       "      <td>lazy teenager</td>\n",
       "      <td>0.0</td>\n",
       "      <td>1649896924</td>\n",
       "      <td>fromsubmission</td>\n",
       "      <td>fromsubmission</td>\n",
       "      <td>fromsubmission</td>\n",
       "      <td>fromsubmission</td>\n",
       "      <td>So my 20yr old son came back to live with me a...</td>\n",
       "    </tr>\n",
       "    <tr>\n",
       "      <th>3</th>\n",
       "      <td>Parenting</td>\n",
       "      <td>u34vh5</td>\n",
       "      <td>I feel bad about posting, since I had all the ...</td>\n",
       "      <td>I still haven't bonded with my 1 year old</td>\n",
       "      <td>0.0</td>\n",
       "      <td>1649896790</td>\n",
       "      <td>fromsubmission</td>\n",
       "      <td>fromsubmission</td>\n",
       "      <td>fromsubmission</td>\n",
       "      <td>fromsubmission</td>\n",
       "      <td>I feel bad about posting, since I had all the ...</td>\n",
       "    </tr>\n",
       "    <tr>\n",
       "      <th>4</th>\n",
       "      <td>Parenting</td>\n",
       "      <td>u34sai</td>\n",
       "      <td>My Steam library is looking a bit thin when it...</td>\n",
       "      <td>PC game advice for a 5 year old.</td>\n",
       "      <td>0.0</td>\n",
       "      <td>1649896511</td>\n",
       "      <td>fromsubmission</td>\n",
       "      <td>fromsubmission</td>\n",
       "      <td>fromsubmission</td>\n",
       "      <td>fromsubmission</td>\n",
       "      <td>My Steam library is looking a bit thin when it...</td>\n",
       "    </tr>\n",
       "  </tbody>\n",
       "</table>\n",
       "</div>"
      ],
      "text/plain": [
       "   subreddit      id                                           selftext  \\\n",
       "0  Parenting  u35fhw  We recently found a drop in daycare for my 3yr...   \n",
       "1  Parenting  u355wz  So I've lurked on this sub for a long time as ...   \n",
       "2  Parenting  u34x24  So my 20yr old son came back to live with me a...   \n",
       "3  Parenting  u34vh5  I feel bad about posting, since I had all the ...   \n",
       "4  Parenting  u34sai  My Steam library is looking a bit thin when it...   \n",
       "\n",
       "                                               title  num_comments  \\\n",
       "0              Daycare recommends shorter drop offs.           0.0   \n",
       "1  Looking for advice for taking the leap to beco...           0.0   \n",
       "2                                      lazy teenager           0.0   \n",
       "3          I still haven't bonded with my 1 year old           0.0   \n",
       "4                   PC game advice for a 5 year old.           0.0   \n",
       "\n",
       "   created_utc       parent_id         link_id          author  \\\n",
       "0   1649898505  fromsubmission  fromsubmission  fromsubmission   \n",
       "1   1649897684  fromsubmission  fromsubmission  fromsubmission   \n",
       "2   1649896924  fromsubmission  fromsubmission  fromsubmission   \n",
       "3   1649896790  fromsubmission  fromsubmission  fromsubmission   \n",
       "4   1649896511  fromsubmission  fromsubmission  fromsubmission   \n",
       "\n",
       "             body                                           all_text  \n",
       "0  fromsubmission  We recently found a drop in daycare for my 3yr...  \n",
       "1  fromsubmission  So I've lurked on this sub for a long time as ...  \n",
       "2  fromsubmission  So my 20yr old son came back to live with me a...  \n",
       "3  fromsubmission  I feel bad about posting, since I had all the ...  \n",
       "4  fromsubmission  My Steam library is looking a bit thin when it...  "
      ]
     },
     "execution_count": 42,
     "metadata": {},
     "output_type": "execute_result"
    }
   ],
   "source": [
    "df_combine.head()"
   ]
  },
  {
   "cell_type": "code",
   "execution_count": 58,
   "id": "da6da8cf-fe52-4cba-85f3-24da2f951b60",
   "metadata": {},
   "outputs": [],
   "source": [
    "# df_combine.to_csv('combine.csv')\n",
    "df_combine.to_csv('../data/parenting_combine_50.csv', index=False)"
   ]
  },
  {
   "cell_type": "code",
   "execution_count": null,
   "id": "f66d33d1-3d4d-43ca-b89e-39f5cd01b823",
   "metadata": {},
   "outputs": [],
   "source": []
  }
 ],
 "metadata": {
  "colab": {
   "name": "new_Data_collecting.ipynb",
   "provenance": []
  },
  "kernelspec": {
   "display_name": "Python 3 (ipykernel)",
   "language": "python",
   "name": "python3"
  },
  "language_info": {
   "codemirror_mode": {
    "name": "ipython",
    "version": 3
   },
   "file_extension": ".py",
   "mimetype": "text/x-python",
   "name": "python",
   "nbconvert_exporter": "python",
   "pygments_lexer": "ipython3",
   "version": "3.9.7"
  }
 },
 "nbformat": 4,
 "nbformat_minor": 5
}
