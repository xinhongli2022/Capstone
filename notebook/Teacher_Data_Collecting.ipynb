{
 "cells": [
  {
   "cell_type": "markdown",
   "id": "b50324c2-276a-4443-a3c2-136c19996ffa",
   "metadata": {
    "id": "b50324c2-276a-4443-a3c2-136c19996ffa"
   },
   "source": [
    "## Data collecting from teacher goup"
   ]
  },
  {
   "cell_type": "code",
   "execution_count": 1,
   "id": "ekcB-HEZE7Dr",
   "metadata": {
    "id": "ekcB-HEZE7Dr"
   },
   "outputs": [],
   "source": [
    "import requests\n",
    "\n",
    "import pandas as pd\n",
    "import matplotlib.pyplot as plt\n",
    "\n",
    "import time"
   ]
  },
  {
   "cell_type": "raw",
   "id": "57fe5744-b1c1-4c70-a2a9-68b8cdd68e90",
   "metadata": {
    "id": "57fe5744-b1c1-4c70-a2a9-68b8cdd68e90"
   },
   "source": []
  },
  {
   "cell_type": "code",
   "execution_count": 2,
   "id": "91e8b2eb-0341-4aaa-981f-76f7b33dfcc3",
   "metadata": {
    "id": "91e8b2eb-0341-4aaa-981f-76f7b33dfcc3"
   },
   "outputs": [],
   "source": [
    "url = 'https://api.pushshift.io/reddit/search/submission'\n",
    "url_comments = 'https://api.pushshift.io/reddit/search/comment'"
   ]
  },
  {
   "cell_type": "code",
   "execution_count": null,
   "id": "72b627ee-affe-496b-b1bb-29c966ebf84e",
   "metadata": {
    "id": "72b627ee-affe-496b-b1bb-29c966ebf84e"
   },
   "outputs": [],
   "source": []
  },
  {
   "cell_type": "code",
   "execution_count": 3,
   "id": "167b42fd-a9b0-487a-950a-dfdcb8cf12cc",
   "metadata": {
    "id": "167b42fd-a9b0-487a-950a-dfdcb8cf12cc"
   },
   "outputs": [],
   "source": [
    "param_parenting = {\n",
    "    'subreddit': 'Teachers',\n",
    "    'size': 500,\n",
    "    'before': 1649888675\n",
    "}"
   ]
  },
  {
   "cell_type": "code",
   "execution_count": 4,
   "id": "63a9f114-c316-4440-bf00-f21bc7bdada5",
   "metadata": {
    "id": "63a9f114-c316-4440-bf00-f21bc7bdada5"
   },
   "outputs": [],
   "source": [
    "# get comments from subreddit\n",
    "\n",
    "def get_posts(type, n_time):\n",
    "    \n",
    "    df_list = []\n",
    "    current_time = 1649888675\n",
    "    \n",
    "    for _ in range(n_time):\n",
    "      if type == 'submissions':\n",
    "        res = requests.get(\n",
    "            url,\n",
    "            params={\n",
    "                \"subreddit\": 'Teachers',\n",
    "                \"size\": 500,\n",
    "                \"before\": current_time\n",
    "            }\n",
    "        )\n",
    "      if type == 'comments':\n",
    "        res = requests.get(\n",
    "            url_comments,\n",
    "            params={\n",
    "                \"subreddit\": 'Teachers',\n",
    "                \"size\": 500,\n",
    "                \"before\": current_time\n",
    "            }\n",
    "        )\n",
    "\n",
    "        time.sleep(3)\n",
    "        df = pd.DataFrame(res.json()['data'])\n",
    "        if type == 'comments':\n",
    "          df = df.loc[:, ['id', 'parent_id','link_id' ,'author', \"subreddit\", \"body\", \"created_utc\"]]\n",
    "        if type == 'submissions':\n",
    "          print(df.shape)\n",
    "         # df = df.loc[:, [\"subreddit\", \"selftext\", \"created_utc\"]]\n",
    "          df = df[\"subreddit\", \"selftext\", \"created_utc\"]\n",
    "        df_list.append(df)\n",
    "        current_time = df.created_utc.min()\n",
    "        \n",
    "    return pd.concat(df_list, axis=0)"
   ]
  },
  {
   "cell_type": "code",
   "execution_count": null,
   "id": "4Rn0X-1QxltN",
   "metadata": {
    "id": "4Rn0X-1QxltN"
   },
   "outputs": [],
   "source": []
  },
  {
   "cell_type": "code",
   "execution_count": 5,
   "id": "fGm47prUKXI_",
   "metadata": {
    "id": "fGm47prUKXI_"
   },
   "outputs": [],
   "source": [
    "df_comments = get_posts('comments', 50)\n"
   ]
  },
  {
   "cell_type": "code",
   "execution_count": 6,
   "id": "ebhhqx9qKXTs",
   "metadata": {
    "colab": {
     "base_uri": "https://localhost:8080/"
    },
    "id": "ebhhqx9qKXTs",
    "outputId": "1526a9de-27f1-4e80-c4ca-d1e0928dd3f9"
   },
   "outputs": [
    {
     "data": {
      "text/plain": [
       "(4997, 7)"
      ]
     },
     "execution_count": 6,
     "metadata": {},
     "output_type": "execute_result"
    }
   ],
   "source": [
    "df_comments.shape"
   ]
  },
  {
   "cell_type": "code",
   "execution_count": 7,
   "id": "I2_iP65guacF",
   "metadata": {
    "id": "I2_iP65guacF"
   },
   "outputs": [],
   "source": [
    "df_comments.to_csv('../data/teacher_comments_teachers_50.csv')"
   ]
  },
  {
   "cell_type": "code",
   "execution_count": 8,
   "id": "KktfFylXKXdu",
   "metadata": {
    "colab": {
     "base_uri": "https://localhost:8080/",
     "height": 206
    },
    "id": "KktfFylXKXdu",
    "outputId": "7fddcd18-f6f8-4389-9b91-78abc60111bb"
   },
   "outputs": [
    {
     "data": {
      "text/html": [
       "<div>\n",
       "<style scoped>\n",
       "    .dataframe tbody tr th:only-of-type {\n",
       "        vertical-align: middle;\n",
       "    }\n",
       "\n",
       "    .dataframe tbody tr th {\n",
       "        vertical-align: top;\n",
       "    }\n",
       "\n",
       "    .dataframe thead th {\n",
       "        text-align: right;\n",
       "    }\n",
       "</style>\n",
       "<table border=\"1\" class=\"dataframe\">\n",
       "  <thead>\n",
       "    <tr style=\"text-align: right;\">\n",
       "      <th></th>\n",
       "      <th>id</th>\n",
       "      <th>parent_id</th>\n",
       "      <th>link_id</th>\n",
       "      <th>author</th>\n",
       "      <th>subreddit</th>\n",
       "      <th>body</th>\n",
       "      <th>created_utc</th>\n",
       "    </tr>\n",
       "  </thead>\n",
       "  <tbody>\n",
       "    <tr>\n",
       "      <th>0</th>\n",
       "      <td>i4miy5e</td>\n",
       "      <td>t1_i4mifr8</td>\n",
       "      <td>t3_u31vdz</td>\n",
       "      <td>purdueboi</td>\n",
       "      <td>Teachers</td>\n",
       "      <td>Yes and trust me I’ve been telling myself that...</td>\n",
       "      <td>1649888647</td>\n",
       "    </tr>\n",
       "    <tr>\n",
       "      <th>1</th>\n",
       "      <td>i4miwly</td>\n",
       "      <td>t3_u2uk1w</td>\n",
       "      <td>t3_u2uk1w</td>\n",
       "      <td>JMLKO</td>\n",
       "      <td>Teachers</td>\n",
       "      <td>That could have been done through email. Your ...</td>\n",
       "      <td>1649888629</td>\n",
       "    </tr>\n",
       "    <tr>\n",
       "      <th>2</th>\n",
       "      <td>i4miuv3</td>\n",
       "      <td>t3_u308l7</td>\n",
       "      <td>t3_u308l7</td>\n",
       "      <td>NikkiBell84</td>\n",
       "      <td>Teachers</td>\n",
       "      <td>I've been to two job fairs in my life: One was...</td>\n",
       "      <td>1649888608</td>\n",
       "    </tr>\n",
       "    <tr>\n",
       "      <th>3</th>\n",
       "      <td>i4miu4j</td>\n",
       "      <td>t1_i4mir1g</td>\n",
       "      <td>t3_u2sote</td>\n",
       "      <td>jlenoconel</td>\n",
       "      <td>Teachers</td>\n",
       "      <td>Maybe so, but Democrats do ridiculous stuff too.</td>\n",
       "      <td>1649888600</td>\n",
       "    </tr>\n",
       "    <tr>\n",
       "      <th>4</th>\n",
       "      <td>i4miss7</td>\n",
       "      <td>t1_i4lzs1h</td>\n",
       "      <td>t3_u2sote</td>\n",
       "      <td>TiberiusGracchi</td>\n",
       "      <td>Teachers</td>\n",
       "      <td>She said 100% engagement 100% of the time is i...</td>\n",
       "      <td>1649888584</td>\n",
       "    </tr>\n",
       "  </tbody>\n",
       "</table>\n",
       "</div>"
      ],
      "text/plain": [
       "        id   parent_id    link_id           author subreddit  \\\n",
       "0  i4miy5e  t1_i4mifr8  t3_u31vdz        purdueboi  Teachers   \n",
       "1  i4miwly   t3_u2uk1w  t3_u2uk1w            JMLKO  Teachers   \n",
       "2  i4miuv3   t3_u308l7  t3_u308l7      NikkiBell84  Teachers   \n",
       "3  i4miu4j  t1_i4mir1g  t3_u2sote       jlenoconel  Teachers   \n",
       "4  i4miss7  t1_i4lzs1h  t3_u2sote  TiberiusGracchi  Teachers   \n",
       "\n",
       "                                                body  created_utc  \n",
       "0  Yes and trust me I’ve been telling myself that...   1649888647  \n",
       "1  That could have been done through email. Your ...   1649888629  \n",
       "2  I've been to two job fairs in my life: One was...   1649888608  \n",
       "3   Maybe so, but Democrats do ridiculous stuff too.   1649888600  \n",
       "4  She said 100% engagement 100% of the time is i...   1649888584  "
      ]
     },
     "execution_count": 8,
     "metadata": {},
     "output_type": "execute_result"
    }
   ],
   "source": [
    "df_comments.head()"
   ]
  },
  {
   "cell_type": "code",
   "execution_count": 9,
   "id": "fb876181-04b1-4934-b8b9-65d6275248ce",
   "metadata": {},
   "outputs": [
    {
     "data": {
      "text/plain": [
       "id             0\n",
       "parent_id      0\n",
       "link_id        0\n",
       "author         0\n",
       "subreddit      0\n",
       "body           0\n",
       "created_utc    0\n",
       "dtype: int64"
      ]
     },
     "execution_count": 9,
     "metadata": {},
     "output_type": "execute_result"
    }
   ],
   "source": [
    "df_comments.isnull().sum()"
   ]
  },
  {
   "cell_type": "code",
   "execution_count": 10,
   "id": "0c5c2467-8499-48e7-b847-b7471cbb5603",
   "metadata": {},
   "outputs": [
    {
     "data": {
      "text/html": [
       "<div>\n",
       "<style scoped>\n",
       "    .dataframe tbody tr th:only-of-type {\n",
       "        vertical-align: middle;\n",
       "    }\n",
       "\n",
       "    .dataframe tbody tr th {\n",
       "        vertical-align: top;\n",
       "    }\n",
       "\n",
       "    .dataframe thead th {\n",
       "        text-align: right;\n",
       "    }\n",
       "</style>\n",
       "<table border=\"1\" class=\"dataframe\">\n",
       "  <thead>\n",
       "    <tr style=\"text-align: right;\">\n",
       "      <th></th>\n",
       "      <th>id</th>\n",
       "      <th>parent_id</th>\n",
       "      <th>link_id</th>\n",
       "      <th>author</th>\n",
       "      <th>subreddit</th>\n",
       "      <th>body</th>\n",
       "      <th>created_utc</th>\n",
       "    </tr>\n",
       "  </thead>\n",
       "  <tbody>\n",
       "    <tr>\n",
       "      <th>0</th>\n",
       "      <td>i4miy5e</td>\n",
       "      <td>t1_i4mifr8</td>\n",
       "      <td>t3_u31vdz</td>\n",
       "      <td>purdueboi</td>\n",
       "      <td>Teachers</td>\n",
       "      <td>Yes and trust me I’ve been telling myself that...</td>\n",
       "      <td>1649888647</td>\n",
       "    </tr>\n",
       "    <tr>\n",
       "      <th>1</th>\n",
       "      <td>i4miwly</td>\n",
       "      <td>t3_u2uk1w</td>\n",
       "      <td>t3_u2uk1w</td>\n",
       "      <td>JMLKO</td>\n",
       "      <td>Teachers</td>\n",
       "      <td>That could have been done through email. Your ...</td>\n",
       "      <td>1649888629</td>\n",
       "    </tr>\n",
       "    <tr>\n",
       "      <th>2</th>\n",
       "      <td>i4miuv3</td>\n",
       "      <td>t3_u308l7</td>\n",
       "      <td>t3_u308l7</td>\n",
       "      <td>NikkiBell84</td>\n",
       "      <td>Teachers</td>\n",
       "      <td>I've been to two job fairs in my life: One was...</td>\n",
       "      <td>1649888608</td>\n",
       "    </tr>\n",
       "    <tr>\n",
       "      <th>3</th>\n",
       "      <td>i4miu4j</td>\n",
       "      <td>t1_i4mir1g</td>\n",
       "      <td>t3_u2sote</td>\n",
       "      <td>jlenoconel</td>\n",
       "      <td>Teachers</td>\n",
       "      <td>Maybe so, but Democrats do ridiculous stuff too.</td>\n",
       "      <td>1649888600</td>\n",
       "    </tr>\n",
       "    <tr>\n",
       "      <th>4</th>\n",
       "      <td>i4miss7</td>\n",
       "      <td>t1_i4lzs1h</td>\n",
       "      <td>t3_u2sote</td>\n",
       "      <td>TiberiusGracchi</td>\n",
       "      <td>Teachers</td>\n",
       "      <td>She said 100% engagement 100% of the time is i...</td>\n",
       "      <td>1649888584</td>\n",
       "    </tr>\n",
       "  </tbody>\n",
       "</table>\n",
       "</div>"
      ],
      "text/plain": [
       "        id   parent_id    link_id           author subreddit  \\\n",
       "0  i4miy5e  t1_i4mifr8  t3_u31vdz        purdueboi  Teachers   \n",
       "1  i4miwly   t3_u2uk1w  t3_u2uk1w            JMLKO  Teachers   \n",
       "2  i4miuv3   t3_u308l7  t3_u308l7      NikkiBell84  Teachers   \n",
       "3  i4miu4j  t1_i4mir1g  t3_u2sote       jlenoconel  Teachers   \n",
       "4  i4miss7  t1_i4lzs1h  t3_u2sote  TiberiusGracchi  Teachers   \n",
       "\n",
       "                                                body  created_utc  \n",
       "0  Yes and trust me I’ve been telling myself that...   1649888647  \n",
       "1  That could have been done through email. Your ...   1649888629  \n",
       "2  I've been to two job fairs in my life: One was...   1649888608  \n",
       "3   Maybe so, but Democrats do ridiculous stuff too.   1649888600  \n",
       "4  She said 100% engagement 100% of the time is i...   1649888584  "
      ]
     },
     "execution_count": 10,
     "metadata": {},
     "output_type": "execute_result"
    }
   ],
   "source": [
    "df_comments.head()"
   ]
  },
  {
   "cell_type": "code",
   "execution_count": 11,
   "id": "T3U4CDiy4VSR",
   "metadata": {
    "id": "T3U4CDiy4VSR"
   },
   "outputs": [],
   "source": [
    "# get  from subreddit\n",
    "\n",
    "def get_submissions(n_time):\n",
    "    \n",
    "    df_list = []\n",
    "    current_time = 1649899074\n",
    "    \n",
    "    for _ in range(n_time):\n",
    "      res = requests.get(\n",
    "            url,\n",
    "            params={\n",
    "                \"subreddit\": 'Teachers',\n",
    "                \"size\": 100,\n",
    "                \"before\": current_time\n",
    "            }\n",
    "      )\n",
    "      time.sleep(3)\n",
    "      df = pd.DataFrame(res.json()['data'])\n",
    "       \n",
    "      df = df.loc[:, [\"subreddit\",'id', \"selftext\", 'title','num_comments',\"created_utc\"]]\n",
    "      #df = df[\"subreddit\", \"selftext\", \"created_utc\"]\n",
    "      df_list.append(df)\n",
    "      current_time = df.created_utc.min()\n",
    "        \n",
    "    return pd.concat(df_list, axis=0)"
   ]
  },
  {
   "cell_type": "code",
   "execution_count": 12,
   "id": "iRaA4Q9KLnUL",
   "metadata": {
    "id": "iRaA4Q9KLnUL"
   },
   "outputs": [],
   "source": [
    "# df_submission = get_submissions(100)\n",
    "\n",
    "df_submission = get_submissions(50)"
   ]
  },
  {
   "cell_type": "code",
   "execution_count": 13,
   "id": "2DMz_h8o6jSj",
   "metadata": {
    "colab": {
     "base_uri": "https://localhost:8080/",
     "height": 206
    },
    "id": "2DMz_h8o6jSj",
    "outputId": "cd7dd2fe-e5d5-4b52-81b6-80b1aaed95a4"
   },
   "outputs": [
    {
     "data": {
      "text/html": [
       "<div>\n",
       "<style scoped>\n",
       "    .dataframe tbody tr th:only-of-type {\n",
       "        vertical-align: middle;\n",
       "    }\n",
       "\n",
       "    .dataframe tbody tr th {\n",
       "        vertical-align: top;\n",
       "    }\n",
       "\n",
       "    .dataframe thead th {\n",
       "        text-align: right;\n",
       "    }\n",
       "</style>\n",
       "<table border=\"1\" class=\"dataframe\">\n",
       "  <thead>\n",
       "    <tr style=\"text-align: right;\">\n",
       "      <th></th>\n",
       "      <th>subreddit</th>\n",
       "      <th>id</th>\n",
       "      <th>selftext</th>\n",
       "      <th>title</th>\n",
       "      <th>num_comments</th>\n",
       "      <th>created_utc</th>\n",
       "    </tr>\n",
       "  </thead>\n",
       "  <tbody>\n",
       "    <tr>\n",
       "      <th>0</th>\n",
       "      <td>Teachers</td>\n",
       "      <td>u35imn</td>\n",
       "      <td>I teach 8th grade at a private school in Ontar...</td>\n",
       "      <td>LGBT teacher with no admin support in traditio...</td>\n",
       "      <td>0</td>\n",
       "      <td>1649898781</td>\n",
       "    </tr>\n",
       "    <tr>\n",
       "      <th>1</th>\n",
       "      <td>Teachers</td>\n",
       "      <td>u35g5w</td>\n",
       "      <td>[removed]</td>\n",
       "      <td>Please Help</td>\n",
       "      <td>0</td>\n",
       "      <td>1649898562</td>\n",
       "    </tr>\n",
       "    <tr>\n",
       "      <th>2</th>\n",
       "      <td>Teachers</td>\n",
       "      <td>u35fe3</td>\n",
       "      <td>For some context I'm teaching US history. \\n\\n...</td>\n",
       "      <td>I got that kid that won't stop being \"that kid\".</td>\n",
       "      <td>0</td>\n",
       "      <td>1649898496</td>\n",
       "    </tr>\n",
       "    <tr>\n",
       "      <th>3</th>\n",
       "      <td>Teachers</td>\n",
       "      <td>u35668</td>\n",
       "      <td>I am a middle school coding teacher. I’m wonde...</td>\n",
       "      <td>Can I use class wallet to buy an oculus?</td>\n",
       "      <td>0</td>\n",
       "      <td>1649897706</td>\n",
       "    </tr>\n",
       "    <tr>\n",
       "      <th>4</th>\n",
       "      <td>Teachers</td>\n",
       "      <td>u353wr</td>\n",
       "      <td>A student turned in their essay (which we work...</td>\n",
       "      <td>Plagiarism &amp;amp; Parents</td>\n",
       "      <td>0</td>\n",
       "      <td>1649897510</td>\n",
       "    </tr>\n",
       "  </tbody>\n",
       "</table>\n",
       "</div>"
      ],
      "text/plain": [
       "  subreddit      id                                           selftext  \\\n",
       "0  Teachers  u35imn  I teach 8th grade at a private school in Ontar...   \n",
       "1  Teachers  u35g5w                                          [removed]   \n",
       "2  Teachers  u35fe3  For some context I'm teaching US history. \\n\\n...   \n",
       "3  Teachers  u35668  I am a middle school coding teacher. I’m wonde...   \n",
       "4  Teachers  u353wr  A student turned in their essay (which we work...   \n",
       "\n",
       "                                               title  num_comments  \\\n",
       "0  LGBT teacher with no admin support in traditio...             0   \n",
       "1                                        Please Help             0   \n",
       "2   I got that kid that won't stop being \"that kid\".             0   \n",
       "3           Can I use class wallet to buy an oculus?             0   \n",
       "4                           Plagiarism &amp; Parents             0   \n",
       "\n",
       "   created_utc  \n",
       "0   1649898781  \n",
       "1   1649898562  \n",
       "2   1649898496  \n",
       "3   1649897706  \n",
       "4   1649897510  "
      ]
     },
     "execution_count": 13,
     "metadata": {},
     "output_type": "execute_result"
    }
   ],
   "source": [
    "df_submission.head()"
   ]
  },
  {
   "cell_type": "code",
   "execution_count": 14,
   "id": "JZKvGcl-Lnkz",
   "metadata": {
    "colab": {
     "base_uri": "https://localhost:8080/"
    },
    "id": "JZKvGcl-Lnkz",
    "outputId": "fd78eb45-5776-4d9f-e520-98bb17a44b87"
   },
   "outputs": [
    {
     "data": {
      "text/plain": [
       "(4998, 6)"
      ]
     },
     "execution_count": 14,
     "metadata": {},
     "output_type": "execute_result"
    }
   ],
   "source": [
    "df_submission.shape"
   ]
  },
  {
   "cell_type": "code",
   "execution_count": null,
   "id": "24534631-9ada-4d51-b85f-ecace3b18d3b",
   "metadata": {},
   "outputs": [],
   "source": []
  },
  {
   "cell_type": "code",
   "execution_count": 15,
   "id": "9fd23fd2-fb93-49d4-bf40-933db51b788b",
   "metadata": {},
   "outputs": [
    {
     "data": {
      "text/plain": [
       "0     LGBT teacher with no admin support in traditio...\n",
       "1                                           Please Help\n",
       "2      I got that kid that won't stop being \"that kid\".\n",
       "3              Can I use class wallet to buy an oculus?\n",
       "4                              Plagiarism &amp; Parents\n",
       "5     Never forget that obedience is more valuable t...\n",
       "6     Advice on Burnout and General Work Anxiety Cau...\n",
       "7     Any other teachers go from a bad school to a “...\n",
       "8         Parents, your above-grade child is doing fine\n",
       "9     Advice on Burnout and Work Anxiety Caused by C...\n",
       "10                                      Updating resume\n",
       "11    In search of free unit plans for 3rd grade ELA...\n",
       "12                       Do teachers actually use this?\n",
       "13    Anyone use an alternative teaching certificate...\n",
       "14                           Why aren't admins subbing?\n",
       "15             Ways to circumvent \"restorative justice\"\n",
       "16                               Teaching is not for me\n",
       "17                     Advice certification issue (NYS)\n",
       "18    An opinion letter written by a 2nd graders to ...\n",
       "19    Middle school student murdered at school by an...\n",
       "Name: title, dtype: object"
      ]
     },
     "execution_count": 15,
     "metadata": {},
     "output_type": "execute_result"
    }
   ],
   "source": [
    "df_submission['title'][:20]"
   ]
  },
  {
   "cell_type": "code",
   "execution_count": 16,
   "id": "f5a173ac-f4f9-4cfe-85c6-104d15798c55",
   "metadata": {
    "scrolled": true,
    "tags": []
   },
   "outputs": [
    {
     "data": {
      "text/plain": [
       "0     4903\n",
       "2       22\n",
       "1       15\n",
       "3       10\n",
       "4        8\n",
       "5        8\n",
       "6        5\n",
       "12       4\n",
       "9        4\n",
       "11       3\n",
       "14       3\n",
       "17       2\n",
       "7        2\n",
       "8        2\n",
       "31       1\n",
       "20       1\n",
       "46       1\n",
       "16       1\n",
       "23       1\n",
       "48       1\n",
       "19       1\n",
       "Name: num_comments, dtype: int64"
      ]
     },
     "execution_count": 16,
     "metadata": {},
     "output_type": "execute_result"
    }
   ],
   "source": [
    "df_submission['num_comments'].value_counts()"
   ]
  },
  {
   "cell_type": "code",
   "execution_count": 17,
   "id": "V1gKqtMV7T8_",
   "metadata": {
    "id": "V1gKqtMV7T8_"
   },
   "outputs": [],
   "source": [
    "df_submission.to_csv('../data/teacher_submission_50.csv')"
   ]
  },
  {
   "cell_type": "code",
   "execution_count": 18,
   "id": "d54799e8-8856-4e81-89f3-3dd29cb15f87",
   "metadata": {},
   "outputs": [],
   "source": [
    "df_submission_with_comments = df_submission[df_submission['num_comments']> 20]\n"
   ]
  },
  {
   "cell_type": "code",
   "execution_count": 19,
   "id": "bda8e7dd-4977-4f8c-bbfe-42daffd5e391",
   "metadata": {},
   "outputs": [
    {
     "data": {
      "text/plain": [
       "(4, 6)"
      ]
     },
     "execution_count": 19,
     "metadata": {},
     "output_type": "execute_result"
    }
   ],
   "source": [
    "df_submission_with_comments.shape"
   ]
  },
  {
   "cell_type": "code",
   "execution_count": 20,
   "id": "bf3f764c-48cb-4d5a-a35f-410d3bf55308",
   "metadata": {},
   "outputs": [
    {
     "data": {
      "text/html": [
       "<div>\n",
       "<style scoped>\n",
       "    .dataframe tbody tr th:only-of-type {\n",
       "        vertical-align: middle;\n",
       "    }\n",
       "\n",
       "    .dataframe tbody tr th {\n",
       "        vertical-align: top;\n",
       "    }\n",
       "\n",
       "    .dataframe thead th {\n",
       "        text-align: right;\n",
       "    }\n",
       "</style>\n",
       "<table border=\"1\" class=\"dataframe\">\n",
       "  <thead>\n",
       "    <tr style=\"text-align: right;\">\n",
       "      <th></th>\n",
       "      <th>subreddit</th>\n",
       "      <th>id</th>\n",
       "      <th>selftext</th>\n",
       "      <th>title</th>\n",
       "      <th>num_comments</th>\n",
       "      <th>created_utc</th>\n",
       "    </tr>\n",
       "  </thead>\n",
       "  <tbody>\n",
       "    <tr>\n",
       "      <th>57</th>\n",
       "      <td>Teachers</td>\n",
       "      <td>tridmx</td>\n",
       "      <td>I stg, if I have one more student respond to a...</td>\n",
       "      <td>Your mom.</td>\n",
       "      <td>46</td>\n",
       "      <td>1648585001</td>\n",
       "    </tr>\n",
       "    <tr>\n",
       "      <th>62</th>\n",
       "      <td>Teachers</td>\n",
       "      <td>trhk28</td>\n",
       "      <td>I miss my peanut butter cheese cracker breaks,...</td>\n",
       "      <td>So I can never eat any form of nut anywhere in...</td>\n",
       "      <td>31</td>\n",
       "      <td>1648584516</td>\n",
       "    </tr>\n",
       "    <tr>\n",
       "      <th>86</th>\n",
       "      <td>Teachers</td>\n",
       "      <td>tr6de2</td>\n",
       "      <td>i work with younger kids and it has been so ba...</td>\n",
       "      <td>When did parents stop teaching their children ...</td>\n",
       "      <td>23</td>\n",
       "      <td>1648570650</td>\n",
       "    </tr>\n",
       "    <tr>\n",
       "      <th>89</th>\n",
       "      <td>Teachers</td>\n",
       "      <td>tr5hak</td>\n",
       "      <td>My school was sent a supposedly anonymous goog...</td>\n",
       "      <td>Principal wanted to know what my concerns were...</td>\n",
       "      <td>48</td>\n",
       "      <td>1648569736</td>\n",
       "    </tr>\n",
       "  </tbody>\n",
       "</table>\n",
       "</div>"
      ],
      "text/plain": [
       "   subreddit      id                                           selftext  \\\n",
       "57  Teachers  tridmx  I stg, if I have one more student respond to a...   \n",
       "62  Teachers  trhk28  I miss my peanut butter cheese cracker breaks,...   \n",
       "86  Teachers  tr6de2  i work with younger kids and it has been so ba...   \n",
       "89  Teachers  tr5hak  My school was sent a supposedly anonymous goog...   \n",
       "\n",
       "                                                title  num_comments  \\\n",
       "57                                          Your mom.            46   \n",
       "62  So I can never eat any form of nut anywhere in...            31   \n",
       "86  When did parents stop teaching their children ...            23   \n",
       "89  Principal wanted to know what my concerns were...            48   \n",
       "\n",
       "    created_utc  \n",
       "57   1648585001  \n",
       "62   1648584516  \n",
       "86   1648570650  \n",
       "89   1648569736  "
      ]
     },
     "execution_count": 20,
     "metadata": {},
     "output_type": "execute_result"
    }
   ],
   "source": [
    "df_submission_with_comments.head()"
   ]
  },
  {
   "cell_type": "code",
   "execution_count": null,
   "id": "220ec54b-262d-4f3a-89a4-c060731f9c7d",
   "metadata": {},
   "outputs": [],
   "source": []
  },
  {
   "cell_type": "markdown",
   "id": "44091b39-3135-4635-af43-565372c41bc4",
   "metadata": {},
   "source": [
    "### combine submission and comments together to have  one DataFramee"
   ]
  },
  {
   "cell_type": "code",
   "execution_count": 21,
   "id": "cc9aeaa1-bca9-4d42-b681-fa90d8e01292",
   "metadata": {},
   "outputs": [],
   "source": [
    "df_combine = pd.concat([df_submission, df_comments],ignore_index=True, sort=False)"
   ]
  },
  {
   "cell_type": "code",
   "execution_count": 22,
   "id": "cd196d31-7c2c-4561-a046-4fb9f02d6cc3",
   "metadata": {},
   "outputs": [
    {
     "data": {
      "text/plain": [
       "(9995, 10)"
      ]
     },
     "execution_count": 22,
     "metadata": {},
     "output_type": "execute_result"
    }
   ],
   "source": [
    "df_combine.shape"
   ]
  },
  {
   "cell_type": "code",
   "execution_count": 23,
   "id": "48f2a855-6f5d-45e3-83df-b65707a797fd",
   "metadata": {},
   "outputs": [
    {
     "data": {
      "text/html": [
       "<div>\n",
       "<style scoped>\n",
       "    .dataframe tbody tr th:only-of-type {\n",
       "        vertical-align: middle;\n",
       "    }\n",
       "\n",
       "    .dataframe tbody tr th {\n",
       "        vertical-align: top;\n",
       "    }\n",
       "\n",
       "    .dataframe thead th {\n",
       "        text-align: right;\n",
       "    }\n",
       "</style>\n",
       "<table border=\"1\" class=\"dataframe\">\n",
       "  <thead>\n",
       "    <tr style=\"text-align: right;\">\n",
       "      <th></th>\n",
       "      <th>subreddit</th>\n",
       "      <th>id</th>\n",
       "      <th>selftext</th>\n",
       "      <th>title</th>\n",
       "      <th>num_comments</th>\n",
       "      <th>created_utc</th>\n",
       "      <th>parent_id</th>\n",
       "      <th>link_id</th>\n",
       "      <th>author</th>\n",
       "      <th>body</th>\n",
       "    </tr>\n",
       "  </thead>\n",
       "  <tbody>\n",
       "    <tr>\n",
       "      <th>0</th>\n",
       "      <td>Teachers</td>\n",
       "      <td>u35imn</td>\n",
       "      <td>I teach 8th grade at a private school in Ontar...</td>\n",
       "      <td>LGBT teacher with no admin support in traditio...</td>\n",
       "      <td>0.0</td>\n",
       "      <td>1649898781</td>\n",
       "      <td>NaN</td>\n",
       "      <td>NaN</td>\n",
       "      <td>NaN</td>\n",
       "      <td>NaN</td>\n",
       "    </tr>\n",
       "    <tr>\n",
       "      <th>1</th>\n",
       "      <td>Teachers</td>\n",
       "      <td>u35g5w</td>\n",
       "      <td>[removed]</td>\n",
       "      <td>Please Help</td>\n",
       "      <td>0.0</td>\n",
       "      <td>1649898562</td>\n",
       "      <td>NaN</td>\n",
       "      <td>NaN</td>\n",
       "      <td>NaN</td>\n",
       "      <td>NaN</td>\n",
       "    </tr>\n",
       "    <tr>\n",
       "      <th>2</th>\n",
       "      <td>Teachers</td>\n",
       "      <td>u35fe3</td>\n",
       "      <td>For some context I'm teaching US history. \\n\\n...</td>\n",
       "      <td>I got that kid that won't stop being \"that kid\".</td>\n",
       "      <td>0.0</td>\n",
       "      <td>1649898496</td>\n",
       "      <td>NaN</td>\n",
       "      <td>NaN</td>\n",
       "      <td>NaN</td>\n",
       "      <td>NaN</td>\n",
       "    </tr>\n",
       "    <tr>\n",
       "      <th>3</th>\n",
       "      <td>Teachers</td>\n",
       "      <td>u35668</td>\n",
       "      <td>I am a middle school coding teacher. I’m wonde...</td>\n",
       "      <td>Can I use class wallet to buy an oculus?</td>\n",
       "      <td>0.0</td>\n",
       "      <td>1649897706</td>\n",
       "      <td>NaN</td>\n",
       "      <td>NaN</td>\n",
       "      <td>NaN</td>\n",
       "      <td>NaN</td>\n",
       "    </tr>\n",
       "    <tr>\n",
       "      <th>4</th>\n",
       "      <td>Teachers</td>\n",
       "      <td>u353wr</td>\n",
       "      <td>A student turned in their essay (which we work...</td>\n",
       "      <td>Plagiarism &amp;amp; Parents</td>\n",
       "      <td>0.0</td>\n",
       "      <td>1649897510</td>\n",
       "      <td>NaN</td>\n",
       "      <td>NaN</td>\n",
       "      <td>NaN</td>\n",
       "      <td>NaN</td>\n",
       "    </tr>\n",
       "  </tbody>\n",
       "</table>\n",
       "</div>"
      ],
      "text/plain": [
       "  subreddit      id                                           selftext  \\\n",
       "0  Teachers  u35imn  I teach 8th grade at a private school in Ontar...   \n",
       "1  Teachers  u35g5w                                          [removed]   \n",
       "2  Teachers  u35fe3  For some context I'm teaching US history. \\n\\n...   \n",
       "3  Teachers  u35668  I am a middle school coding teacher. I’m wonde...   \n",
       "4  Teachers  u353wr  A student turned in their essay (which we work...   \n",
       "\n",
       "                                               title  num_comments  \\\n",
       "0  LGBT teacher with no admin support in traditio...           0.0   \n",
       "1                                        Please Help           0.0   \n",
       "2   I got that kid that won't stop being \"that kid\".           0.0   \n",
       "3           Can I use class wallet to buy an oculus?           0.0   \n",
       "4                           Plagiarism &amp; Parents           0.0   \n",
       "\n",
       "   created_utc parent_id link_id author body  \n",
       "0   1649898781       NaN     NaN    NaN  NaN  \n",
       "1   1649898562       NaN     NaN    NaN  NaN  \n",
       "2   1649898496       NaN     NaN    NaN  NaN  \n",
       "3   1649897706       NaN     NaN    NaN  NaN  \n",
       "4   1649897510       NaN     NaN    NaN  NaN  "
      ]
     },
     "execution_count": 23,
     "metadata": {},
     "output_type": "execute_result"
    }
   ],
   "source": [
    "df_combine.head()"
   ]
  },
  {
   "cell_type": "code",
   "execution_count": 24,
   "id": "83cecbb5-5c79-4370-96c7-18c493937fa8",
   "metadata": {},
   "outputs": [
    {
     "data": {
      "text/html": [
       "<div>\n",
       "<style scoped>\n",
       "    .dataframe tbody tr th:only-of-type {\n",
       "        vertical-align: middle;\n",
       "    }\n",
       "\n",
       "    .dataframe tbody tr th {\n",
       "        vertical-align: top;\n",
       "    }\n",
       "\n",
       "    .dataframe thead th {\n",
       "        text-align: right;\n",
       "    }\n",
       "</style>\n",
       "<table border=\"1\" class=\"dataframe\">\n",
       "  <thead>\n",
       "    <tr style=\"text-align: right;\">\n",
       "      <th></th>\n",
       "      <th>subreddit</th>\n",
       "      <th>id</th>\n",
       "      <th>selftext</th>\n",
       "      <th>title</th>\n",
       "      <th>num_comments</th>\n",
       "      <th>created_utc</th>\n",
       "      <th>parent_id</th>\n",
       "      <th>link_id</th>\n",
       "      <th>author</th>\n",
       "      <th>body</th>\n",
       "    </tr>\n",
       "  </thead>\n",
       "  <tbody>\n",
       "    <tr>\n",
       "      <th>9990</th>\n",
       "      <td>Teachers</td>\n",
       "      <td>i4gz7bi</td>\n",
       "      <td>NaN</td>\n",
       "      <td>NaN</td>\n",
       "      <td>NaN</td>\n",
       "      <td>1649792941</td>\n",
       "      <td>t3_u24ftb</td>\n",
       "      <td>t3_u24ftb</td>\n",
       "      <td>ImpressiveJoke2269</td>\n",
       "      <td>I would love to get paid overtime! Wait… 🤔</td>\n",
       "    </tr>\n",
       "    <tr>\n",
       "      <th>9991</th>\n",
       "      <td>Teachers</td>\n",
       "      <td>i4gz6th</td>\n",
       "      <td>NaN</td>\n",
       "      <td>NaN</td>\n",
       "      <td>NaN</td>\n",
       "      <td>1649792935</td>\n",
       "      <td>t3_u25cvs</td>\n",
       "      <td>t3_u25cvs</td>\n",
       "      <td>Mewhenyourmom420</td>\n",
       "      <td>The Road by Cormac McCarthy</td>\n",
       "    </tr>\n",
       "    <tr>\n",
       "      <th>9992</th>\n",
       "      <td>Teachers</td>\n",
       "      <td>i4gz4oj</td>\n",
       "      <td>NaN</td>\n",
       "      <td>NaN</td>\n",
       "      <td>NaN</td>\n",
       "      <td>1649792914</td>\n",
       "      <td>t3_u27lf0</td>\n",
       "      <td>t3_u27lf0</td>\n",
       "      <td>dawgsheet</td>\n",
       "      <td>It is very district based, sometimes state/loc...</td>\n",
       "    </tr>\n",
       "    <tr>\n",
       "      <th>9993</th>\n",
       "      <td>Teachers</td>\n",
       "      <td>i4gz3qd</td>\n",
       "      <td>NaN</td>\n",
       "      <td>NaN</td>\n",
       "      <td>NaN</td>\n",
       "      <td>1649792904</td>\n",
       "      <td>t3_u22okf</td>\n",
       "      <td>t3_u22okf</td>\n",
       "      <td>heathers1</td>\n",
       "      <td>I had a MS class like that a few times. next y...</td>\n",
       "    </tr>\n",
       "    <tr>\n",
       "      <th>9994</th>\n",
       "      <td>Teachers</td>\n",
       "      <td>i4gz29f</td>\n",
       "      <td>NaN</td>\n",
       "      <td>NaN</td>\n",
       "      <td>NaN</td>\n",
       "      <td>1649792890</td>\n",
       "      <td>t1_i4gr9r4</td>\n",
       "      <td>t3_u1n155</td>\n",
       "      <td>thatredditscribbler</td>\n",
       "      <td>Oh. \\n\\nHere, go [one by one](https://www.yout...</td>\n",
       "    </tr>\n",
       "  </tbody>\n",
       "</table>\n",
       "</div>"
      ],
      "text/plain": [
       "     subreddit       id selftext title  num_comments  created_utc   parent_id  \\\n",
       "9990  Teachers  i4gz7bi      NaN   NaN           NaN   1649792941   t3_u24ftb   \n",
       "9991  Teachers  i4gz6th      NaN   NaN           NaN   1649792935   t3_u25cvs   \n",
       "9992  Teachers  i4gz4oj      NaN   NaN           NaN   1649792914   t3_u27lf0   \n",
       "9993  Teachers  i4gz3qd      NaN   NaN           NaN   1649792904   t3_u22okf   \n",
       "9994  Teachers  i4gz29f      NaN   NaN           NaN   1649792890  t1_i4gr9r4   \n",
       "\n",
       "        link_id               author  \\\n",
       "9990  t3_u24ftb   ImpressiveJoke2269   \n",
       "9991  t3_u25cvs     Mewhenyourmom420   \n",
       "9992  t3_u27lf0            dawgsheet   \n",
       "9993  t3_u22okf            heathers1   \n",
       "9994  t3_u1n155  thatredditscribbler   \n",
       "\n",
       "                                                   body  \n",
       "9990         I would love to get paid overtime! Wait… 🤔  \n",
       "9991                        The Road by Cormac McCarthy  \n",
       "9992  It is very district based, sometimes state/loc...  \n",
       "9993  I had a MS class like that a few times. next y...  \n",
       "9994  Oh. \\n\\nHere, go [one by one](https://www.yout...  "
      ]
     },
     "execution_count": 24,
     "metadata": {},
     "output_type": "execute_result"
    }
   ],
   "source": [
    "df_combine.tail()"
   ]
  },
  {
   "cell_type": "code",
   "execution_count": 25,
   "id": "e9c1c9d8-206a-4f83-a767-5e7df570b55b",
   "metadata": {},
   "outputs": [
    {
     "data": {
      "text/plain": [
       "subreddit          0\n",
       "id                 0\n",
       "selftext        4999\n",
       "title           4997\n",
       "num_comments    4997\n",
       "created_utc        0\n",
       "parent_id       4998\n",
       "link_id         4998\n",
       "author          4998\n",
       "body            4998\n",
       "dtype: int64"
      ]
     },
     "execution_count": 25,
     "metadata": {},
     "output_type": "execute_result"
    }
   ],
   "source": [
    "df_combine.isnull().sum()"
   ]
  },
  {
   "cell_type": "markdown",
   "id": "67738e33-ae27-499b-bb8a-2da3a8e91633",
   "metadata": {},
   "source": [
    "Fill relevant data to null"
   ]
  },
  {
   "cell_type": "code",
   "execution_count": 26,
   "id": "263c9bc1-a622-42b3-8ba0-4320d1906bbd",
   "metadata": {},
   "outputs": [],
   "source": [
    "df_combine['selftext'].fillna('fromcomments', inplace = True)"
   ]
  },
  {
   "cell_type": "code",
   "execution_count": 27,
   "id": "7ac46eb5-b4d7-4158-85f5-cb26179141b0",
   "metadata": {},
   "outputs": [
    {
     "data": {
      "text/plain": [
       "subreddit          0\n",
       "id                 0\n",
       "selftext           0\n",
       "title           4997\n",
       "num_comments    4997\n",
       "created_utc        0\n",
       "parent_id       4998\n",
       "link_id         4998\n",
       "author          4998\n",
       "body            4998\n",
       "dtype: int64"
      ]
     },
     "execution_count": 27,
     "metadata": {},
     "output_type": "execute_result"
    }
   ],
   "source": [
    "df_combine.isnull().sum()"
   ]
  },
  {
   "cell_type": "code",
   "execution_count": 28,
   "id": "d43e781f-cca2-45c5-badf-d33db34e00ff",
   "metadata": {},
   "outputs": [],
   "source": [
    "df_combine['title'].fillna('fromcomments', inplace = True)"
   ]
  },
  {
   "cell_type": "code",
   "execution_count": 29,
   "id": "b3e410c8-dbbe-4b88-a76d-242b37f22e20",
   "metadata": {},
   "outputs": [],
   "source": [
    "df_combine['num_comments'].fillna(0,inplace=True)"
   ]
  },
  {
   "cell_type": "code",
   "execution_count": 30,
   "id": "c114854e-d056-4d1a-8da3-d6a5b3cfba92",
   "metadata": {},
   "outputs": [],
   "source": [
    "df_combine['parent_id'].fillna('fromsubmission',inplace=True)"
   ]
  },
  {
   "cell_type": "code",
   "execution_count": 31,
   "id": "6930ccfc-1c71-4b8a-ad4c-1602ffb2afe9",
   "metadata": {},
   "outputs": [],
   "source": [
    "df_combine['link_id'].fillna('fromsubmission',inplace=True)"
   ]
  },
  {
   "cell_type": "code",
   "execution_count": 32,
   "id": "b6add53b-b5d7-4af0-965a-0e29de6559ee",
   "metadata": {},
   "outputs": [],
   "source": [
    "df_combine['author'].fillna('fromsubmission',inplace=True)"
   ]
  },
  {
   "cell_type": "code",
   "execution_count": 33,
   "id": "e1e8ea2e-27d4-4246-a1e9-e497ba483bd5",
   "metadata": {},
   "outputs": [],
   "source": [
    "df_combine['body'].fillna('fromsubmission',inplace=True)"
   ]
  },
  {
   "cell_type": "code",
   "execution_count": 34,
   "id": "d95a89b1-9216-4db6-8c99-3480b2e00bd8",
   "metadata": {},
   "outputs": [
    {
     "data": {
      "text/plain": [
       "subreddit       0\n",
       "id              0\n",
       "selftext        0\n",
       "title           0\n",
       "num_comments    0\n",
       "created_utc     0\n",
       "parent_id       0\n",
       "link_id         0\n",
       "author          0\n",
       "body            0\n",
       "dtype: int64"
      ]
     },
     "execution_count": 34,
     "metadata": {},
     "output_type": "execute_result"
    }
   ],
   "source": [
    "df_combine.isnull().sum()"
   ]
  },
  {
   "cell_type": "code",
   "execution_count": 35,
   "id": "bfe70c95-5e20-42a1-aa0b-36c1643309e8",
   "metadata": {},
   "outputs": [
    {
     "data": {
      "text/html": [
       "<div>\n",
       "<style scoped>\n",
       "    .dataframe tbody tr th:only-of-type {\n",
       "        vertical-align: middle;\n",
       "    }\n",
       "\n",
       "    .dataframe tbody tr th {\n",
       "        vertical-align: top;\n",
       "    }\n",
       "\n",
       "    .dataframe thead th {\n",
       "        text-align: right;\n",
       "    }\n",
       "</style>\n",
       "<table border=\"1\" class=\"dataframe\">\n",
       "  <thead>\n",
       "    <tr style=\"text-align: right;\">\n",
       "      <th></th>\n",
       "      <th>subreddit</th>\n",
       "      <th>id</th>\n",
       "      <th>selftext</th>\n",
       "      <th>title</th>\n",
       "      <th>num_comments</th>\n",
       "      <th>created_utc</th>\n",
       "      <th>parent_id</th>\n",
       "      <th>link_id</th>\n",
       "      <th>author</th>\n",
       "      <th>body</th>\n",
       "    </tr>\n",
       "  </thead>\n",
       "  <tbody>\n",
       "    <tr>\n",
       "      <th>0</th>\n",
       "      <td>Teachers</td>\n",
       "      <td>u35imn</td>\n",
       "      <td>I teach 8th grade at a private school in Ontar...</td>\n",
       "      <td>LGBT teacher with no admin support in traditio...</td>\n",
       "      <td>0.0</td>\n",
       "      <td>1649898781</td>\n",
       "      <td>fromsubmission</td>\n",
       "      <td>fromsubmission</td>\n",
       "      <td>fromsubmission</td>\n",
       "      <td>fromsubmission</td>\n",
       "    </tr>\n",
       "    <tr>\n",
       "      <th>1</th>\n",
       "      <td>Teachers</td>\n",
       "      <td>u35g5w</td>\n",
       "      <td>[removed]</td>\n",
       "      <td>Please Help</td>\n",
       "      <td>0.0</td>\n",
       "      <td>1649898562</td>\n",
       "      <td>fromsubmission</td>\n",
       "      <td>fromsubmission</td>\n",
       "      <td>fromsubmission</td>\n",
       "      <td>fromsubmission</td>\n",
       "    </tr>\n",
       "    <tr>\n",
       "      <th>2</th>\n",
       "      <td>Teachers</td>\n",
       "      <td>u35fe3</td>\n",
       "      <td>For some context I'm teaching US history. \\n\\n...</td>\n",
       "      <td>I got that kid that won't stop being \"that kid\".</td>\n",
       "      <td>0.0</td>\n",
       "      <td>1649898496</td>\n",
       "      <td>fromsubmission</td>\n",
       "      <td>fromsubmission</td>\n",
       "      <td>fromsubmission</td>\n",
       "      <td>fromsubmission</td>\n",
       "    </tr>\n",
       "    <tr>\n",
       "      <th>3</th>\n",
       "      <td>Teachers</td>\n",
       "      <td>u35668</td>\n",
       "      <td>I am a middle school coding teacher. I’m wonde...</td>\n",
       "      <td>Can I use class wallet to buy an oculus?</td>\n",
       "      <td>0.0</td>\n",
       "      <td>1649897706</td>\n",
       "      <td>fromsubmission</td>\n",
       "      <td>fromsubmission</td>\n",
       "      <td>fromsubmission</td>\n",
       "      <td>fromsubmission</td>\n",
       "    </tr>\n",
       "    <tr>\n",
       "      <th>4</th>\n",
       "      <td>Teachers</td>\n",
       "      <td>u353wr</td>\n",
       "      <td>A student turned in their essay (which we work...</td>\n",
       "      <td>Plagiarism &amp;amp; Parents</td>\n",
       "      <td>0.0</td>\n",
       "      <td>1649897510</td>\n",
       "      <td>fromsubmission</td>\n",
       "      <td>fromsubmission</td>\n",
       "      <td>fromsubmission</td>\n",
       "      <td>fromsubmission</td>\n",
       "    </tr>\n",
       "  </tbody>\n",
       "</table>\n",
       "</div>"
      ],
      "text/plain": [
       "  subreddit      id                                           selftext  \\\n",
       "0  Teachers  u35imn  I teach 8th grade at a private school in Ontar...   \n",
       "1  Teachers  u35g5w                                          [removed]   \n",
       "2  Teachers  u35fe3  For some context I'm teaching US history. \\n\\n...   \n",
       "3  Teachers  u35668  I am a middle school coding teacher. I’m wonde...   \n",
       "4  Teachers  u353wr  A student turned in their essay (which we work...   \n",
       "\n",
       "                                               title  num_comments  \\\n",
       "0  LGBT teacher with no admin support in traditio...           0.0   \n",
       "1                                        Please Help           0.0   \n",
       "2   I got that kid that won't stop being \"that kid\".           0.0   \n",
       "3           Can I use class wallet to buy an oculus?           0.0   \n",
       "4                           Plagiarism &amp; Parents           0.0   \n",
       "\n",
       "   created_utc       parent_id         link_id          author            body  \n",
       "0   1649898781  fromsubmission  fromsubmission  fromsubmission  fromsubmission  \n",
       "1   1649898562  fromsubmission  fromsubmission  fromsubmission  fromsubmission  \n",
       "2   1649898496  fromsubmission  fromsubmission  fromsubmission  fromsubmission  \n",
       "3   1649897706  fromsubmission  fromsubmission  fromsubmission  fromsubmission  \n",
       "4   1649897510  fromsubmission  fromsubmission  fromsubmission  fromsubmission  "
      ]
     },
     "execution_count": 35,
     "metadata": {},
     "output_type": "execute_result"
    }
   ],
   "source": [
    "df_combine.head()"
   ]
  },
  {
   "cell_type": "code",
   "execution_count": 36,
   "id": "b7bc6b5f-aecc-4a3e-b509-3134143fdd04",
   "metadata": {},
   "outputs": [
    {
     "data": {
      "text/html": [
       "<div>\n",
       "<style scoped>\n",
       "    .dataframe tbody tr th:only-of-type {\n",
       "        vertical-align: middle;\n",
       "    }\n",
       "\n",
       "    .dataframe tbody tr th {\n",
       "        vertical-align: top;\n",
       "    }\n",
       "\n",
       "    .dataframe thead th {\n",
       "        text-align: right;\n",
       "    }\n",
       "</style>\n",
       "<table border=\"1\" class=\"dataframe\">\n",
       "  <thead>\n",
       "    <tr style=\"text-align: right;\">\n",
       "      <th></th>\n",
       "      <th>subreddit</th>\n",
       "      <th>id</th>\n",
       "      <th>selftext</th>\n",
       "      <th>title</th>\n",
       "      <th>num_comments</th>\n",
       "      <th>created_utc</th>\n",
       "      <th>parent_id</th>\n",
       "      <th>link_id</th>\n",
       "      <th>author</th>\n",
       "      <th>body</th>\n",
       "    </tr>\n",
       "  </thead>\n",
       "  <tbody>\n",
       "    <tr>\n",
       "      <th>9990</th>\n",
       "      <td>Teachers</td>\n",
       "      <td>i4gz7bi</td>\n",
       "      <td>fromcomments</td>\n",
       "      <td>fromcomments</td>\n",
       "      <td>0.0</td>\n",
       "      <td>1649792941</td>\n",
       "      <td>t3_u24ftb</td>\n",
       "      <td>t3_u24ftb</td>\n",
       "      <td>ImpressiveJoke2269</td>\n",
       "      <td>I would love to get paid overtime! Wait… 🤔</td>\n",
       "    </tr>\n",
       "    <tr>\n",
       "      <th>9991</th>\n",
       "      <td>Teachers</td>\n",
       "      <td>i4gz6th</td>\n",
       "      <td>fromcomments</td>\n",
       "      <td>fromcomments</td>\n",
       "      <td>0.0</td>\n",
       "      <td>1649792935</td>\n",
       "      <td>t3_u25cvs</td>\n",
       "      <td>t3_u25cvs</td>\n",
       "      <td>Mewhenyourmom420</td>\n",
       "      <td>The Road by Cormac McCarthy</td>\n",
       "    </tr>\n",
       "    <tr>\n",
       "      <th>9992</th>\n",
       "      <td>Teachers</td>\n",
       "      <td>i4gz4oj</td>\n",
       "      <td>fromcomments</td>\n",
       "      <td>fromcomments</td>\n",
       "      <td>0.0</td>\n",
       "      <td>1649792914</td>\n",
       "      <td>t3_u27lf0</td>\n",
       "      <td>t3_u27lf0</td>\n",
       "      <td>dawgsheet</td>\n",
       "      <td>It is very district based, sometimes state/loc...</td>\n",
       "    </tr>\n",
       "    <tr>\n",
       "      <th>9993</th>\n",
       "      <td>Teachers</td>\n",
       "      <td>i4gz3qd</td>\n",
       "      <td>fromcomments</td>\n",
       "      <td>fromcomments</td>\n",
       "      <td>0.0</td>\n",
       "      <td>1649792904</td>\n",
       "      <td>t3_u22okf</td>\n",
       "      <td>t3_u22okf</td>\n",
       "      <td>heathers1</td>\n",
       "      <td>I had a MS class like that a few times. next y...</td>\n",
       "    </tr>\n",
       "    <tr>\n",
       "      <th>9994</th>\n",
       "      <td>Teachers</td>\n",
       "      <td>i4gz29f</td>\n",
       "      <td>fromcomments</td>\n",
       "      <td>fromcomments</td>\n",
       "      <td>0.0</td>\n",
       "      <td>1649792890</td>\n",
       "      <td>t1_i4gr9r4</td>\n",
       "      <td>t3_u1n155</td>\n",
       "      <td>thatredditscribbler</td>\n",
       "      <td>Oh. \\n\\nHere, go [one by one](https://www.yout...</td>\n",
       "    </tr>\n",
       "  </tbody>\n",
       "</table>\n",
       "</div>"
      ],
      "text/plain": [
       "     subreddit       id      selftext         title  num_comments  \\\n",
       "9990  Teachers  i4gz7bi  fromcomments  fromcomments           0.0   \n",
       "9991  Teachers  i4gz6th  fromcomments  fromcomments           0.0   \n",
       "9992  Teachers  i4gz4oj  fromcomments  fromcomments           0.0   \n",
       "9993  Teachers  i4gz3qd  fromcomments  fromcomments           0.0   \n",
       "9994  Teachers  i4gz29f  fromcomments  fromcomments           0.0   \n",
       "\n",
       "      created_utc   parent_id    link_id               author  \\\n",
       "9990   1649792941   t3_u24ftb  t3_u24ftb   ImpressiveJoke2269   \n",
       "9991   1649792935   t3_u25cvs  t3_u25cvs     Mewhenyourmom420   \n",
       "9992   1649792914   t3_u27lf0  t3_u27lf0            dawgsheet   \n",
       "9993   1649792904   t3_u22okf  t3_u22okf            heathers1   \n",
       "9994   1649792890  t1_i4gr9r4  t3_u1n155  thatredditscribbler   \n",
       "\n",
       "                                                   body  \n",
       "9990         I would love to get paid overtime! Wait… 🤔  \n",
       "9991                        The Road by Cormac McCarthy  \n",
       "9992  It is very district based, sometimes state/loc...  \n",
       "9993  I had a MS class like that a few times. next y...  \n",
       "9994  Oh. \\n\\nHere, go [one by one](https://www.yout...  "
      ]
     },
     "execution_count": 36,
     "metadata": {},
     "output_type": "execute_result"
    }
   ],
   "source": [
    "df_combine.tail()"
   ]
  },
  {
   "cell_type": "markdown",
   "id": "de7e5b42-f8a7-492f-80fb-00d0c23e1551",
   "metadata": {},
   "source": [
    "### put all text info together"
   ]
  },
  {
   "cell_type": "code",
   "execution_count": 37,
   "id": "9e53bfa1-5888-40ce-a987-6beb634b0e96",
   "metadata": {},
   "outputs": [],
   "source": [
    "df_combine['all_text'] = df_combine['selftext'] + ', ' + df_combine['body'] + ', ' + df_combine['title']"
   ]
  },
  {
   "cell_type": "code",
   "execution_count": 38,
   "id": "25c7ac5f-d507-424d-b993-4324f64bd402",
   "metadata": {},
   "outputs": [
    {
     "data": {
      "text/html": [
       "<div>\n",
       "<style scoped>\n",
       "    .dataframe tbody tr th:only-of-type {\n",
       "        vertical-align: middle;\n",
       "    }\n",
       "\n",
       "    .dataframe tbody tr th {\n",
       "        vertical-align: top;\n",
       "    }\n",
       "\n",
       "    .dataframe thead th {\n",
       "        text-align: right;\n",
       "    }\n",
       "</style>\n",
       "<table border=\"1\" class=\"dataframe\">\n",
       "  <thead>\n",
       "    <tr style=\"text-align: right;\">\n",
       "      <th></th>\n",
       "      <th>subreddit</th>\n",
       "      <th>id</th>\n",
       "      <th>selftext</th>\n",
       "      <th>title</th>\n",
       "      <th>num_comments</th>\n",
       "      <th>created_utc</th>\n",
       "      <th>parent_id</th>\n",
       "      <th>link_id</th>\n",
       "      <th>author</th>\n",
       "      <th>body</th>\n",
       "      <th>all_text</th>\n",
       "    </tr>\n",
       "  </thead>\n",
       "  <tbody>\n",
       "    <tr>\n",
       "      <th>0</th>\n",
       "      <td>Teachers</td>\n",
       "      <td>u35imn</td>\n",
       "      <td>I teach 8th grade at a private school in Ontar...</td>\n",
       "      <td>LGBT teacher with no admin support in traditio...</td>\n",
       "      <td>0.0</td>\n",
       "      <td>1649898781</td>\n",
       "      <td>fromsubmission</td>\n",
       "      <td>fromsubmission</td>\n",
       "      <td>fromsubmission</td>\n",
       "      <td>fromsubmission</td>\n",
       "      <td>I teach 8th grade at a private school in Ontar...</td>\n",
       "    </tr>\n",
       "    <tr>\n",
       "      <th>1</th>\n",
       "      <td>Teachers</td>\n",
       "      <td>u35g5w</td>\n",
       "      <td>[removed]</td>\n",
       "      <td>Please Help</td>\n",
       "      <td>0.0</td>\n",
       "      <td>1649898562</td>\n",
       "      <td>fromsubmission</td>\n",
       "      <td>fromsubmission</td>\n",
       "      <td>fromsubmission</td>\n",
       "      <td>fromsubmission</td>\n",
       "      <td>[removed], fromsubmission, Please Help</td>\n",
       "    </tr>\n",
       "    <tr>\n",
       "      <th>2</th>\n",
       "      <td>Teachers</td>\n",
       "      <td>u35fe3</td>\n",
       "      <td>For some context I'm teaching US history. \\n\\n...</td>\n",
       "      <td>I got that kid that won't stop being \"that kid\".</td>\n",
       "      <td>0.0</td>\n",
       "      <td>1649898496</td>\n",
       "      <td>fromsubmission</td>\n",
       "      <td>fromsubmission</td>\n",
       "      <td>fromsubmission</td>\n",
       "      <td>fromsubmission</td>\n",
       "      <td>For some context I'm teaching US history. \\n\\n...</td>\n",
       "    </tr>\n",
       "    <tr>\n",
       "      <th>3</th>\n",
       "      <td>Teachers</td>\n",
       "      <td>u35668</td>\n",
       "      <td>I am a middle school coding teacher. I’m wonde...</td>\n",
       "      <td>Can I use class wallet to buy an oculus?</td>\n",
       "      <td>0.0</td>\n",
       "      <td>1649897706</td>\n",
       "      <td>fromsubmission</td>\n",
       "      <td>fromsubmission</td>\n",
       "      <td>fromsubmission</td>\n",
       "      <td>fromsubmission</td>\n",
       "      <td>I am a middle school coding teacher. I’m wonde...</td>\n",
       "    </tr>\n",
       "    <tr>\n",
       "      <th>4</th>\n",
       "      <td>Teachers</td>\n",
       "      <td>u353wr</td>\n",
       "      <td>A student turned in their essay (which we work...</td>\n",
       "      <td>Plagiarism &amp;amp; Parents</td>\n",
       "      <td>0.0</td>\n",
       "      <td>1649897510</td>\n",
       "      <td>fromsubmission</td>\n",
       "      <td>fromsubmission</td>\n",
       "      <td>fromsubmission</td>\n",
       "      <td>fromsubmission</td>\n",
       "      <td>A student turned in their essay (which we work...</td>\n",
       "    </tr>\n",
       "  </tbody>\n",
       "</table>\n",
       "</div>"
      ],
      "text/plain": [
       "  subreddit      id                                           selftext  \\\n",
       "0  Teachers  u35imn  I teach 8th grade at a private school in Ontar...   \n",
       "1  Teachers  u35g5w                                          [removed]   \n",
       "2  Teachers  u35fe3  For some context I'm teaching US history. \\n\\n...   \n",
       "3  Teachers  u35668  I am a middle school coding teacher. I’m wonde...   \n",
       "4  Teachers  u353wr  A student turned in their essay (which we work...   \n",
       "\n",
       "                                               title  num_comments  \\\n",
       "0  LGBT teacher with no admin support in traditio...           0.0   \n",
       "1                                        Please Help           0.0   \n",
       "2   I got that kid that won't stop being \"that kid\".           0.0   \n",
       "3           Can I use class wallet to buy an oculus?           0.0   \n",
       "4                           Plagiarism &amp; Parents           0.0   \n",
       "\n",
       "   created_utc       parent_id         link_id          author  \\\n",
       "0   1649898781  fromsubmission  fromsubmission  fromsubmission   \n",
       "1   1649898562  fromsubmission  fromsubmission  fromsubmission   \n",
       "2   1649898496  fromsubmission  fromsubmission  fromsubmission   \n",
       "3   1649897706  fromsubmission  fromsubmission  fromsubmission   \n",
       "4   1649897510  fromsubmission  fromsubmission  fromsubmission   \n",
       "\n",
       "             body                                           all_text  \n",
       "0  fromsubmission  I teach 8th grade at a private school in Ontar...  \n",
       "1  fromsubmission             [removed], fromsubmission, Please Help  \n",
       "2  fromsubmission  For some context I'm teaching US history. \\n\\n...  \n",
       "3  fromsubmission  I am a middle school coding teacher. I’m wonde...  \n",
       "4  fromsubmission  A student turned in their essay (which we work...  "
      ]
     },
     "execution_count": 38,
     "metadata": {},
     "output_type": "execute_result"
    }
   ],
   "source": [
    "df_combine.head()"
   ]
  },
  {
   "cell_type": "code",
   "execution_count": 40,
   "id": "da6da8cf-fe52-4cba-85f3-24da2f951b60",
   "metadata": {},
   "outputs": [],
   "source": [
    "# df_combine.to_csv('combine.csv')\n",
    "df_combine.to_csv('../data/teacher_combine_50.csv', index=False)"
   ]
  },
  {
   "cell_type": "code",
   "execution_count": null,
   "id": "f66d33d1-3d4d-43ca-b89e-39f5cd01b823",
   "metadata": {},
   "outputs": [],
   "source": []
  }
 ],
 "metadata": {
  "colab": {
   "name": "new_Data_collecting.ipynb",
   "provenance": []
  },
  "kernelspec": {
   "display_name": "Python 3 (ipykernel)",
   "language": "python",
   "name": "python3"
  },
  "language_info": {
   "codemirror_mode": {
    "name": "ipython",
    "version": 3
   },
   "file_extension": ".py",
   "mimetype": "text/x-python",
   "name": "python",
   "nbconvert_exporter": "python",
   "pygments_lexer": "ipython3",
   "version": "3.9.7"
  }
 },
 "nbformat": 4,
 "nbformat_minor": 5
}
