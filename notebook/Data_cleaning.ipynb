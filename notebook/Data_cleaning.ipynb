{
 "cells": [
  {
   "cell_type": "markdown",
   "id": "e552e726-78d4-44ef-a0ee-1cbabeda343f",
   "metadata": {},
   "source": [
    "## Data prepareation\n",
    "\n",
    "clean data, put all text together (from parenting and teachers)"
   ]
  },
  {
   "cell_type": "code",
   "execution_count": 28,
   "id": "87886b30-092e-41bc-b5c2-d1c86af9b3cc",
   "metadata": {},
   "outputs": [
    {
     "name": "stderr",
     "output_type": "stream",
     "text": [
      "[nltk_data] Downloading package wordnet to\n",
      "[nltk_data]     /Users/xinhongli/nltk_data...\n",
      "[nltk_data]   Package wordnet is already up-to-date!\n",
      "[nltk_data] Downloading package punkt to /Users/xinhongli/nltk_data...\n",
      "[nltk_data]   Package punkt is already up-to-date!\n",
      "[nltk_data] Downloading package stopwords to\n",
      "[nltk_data]     /Users/xinhongli/nltk_data...\n",
      "[nltk_data]   Package stopwords is already up-to-date!\n"
     ]
    }
   ],
   "source": [
    "import pandas as pd\n",
    "import numpy as np\n",
    "import matplotlib.pyplot as plt\n",
    "\n",
    "import nltk\n",
    "#nltk.download('wordnet')\n",
    "nltk.download('punkt')\n",
    "nltk.download('stopwords')\n",
    "from nltk.stem import WordNetLemmatizer\n",
    "\n",
    "lemmatizer = WordNetLemmatizer()\n",
    "lemmatizer.lemmatize(\"cats\")\n",
    "\n",
    "\n",
    "\n",
    "from sklearn.feature_extraction.text import CountVectorizer, HashingVectorizer, TfidfVectorizer"
   ]
  },
  {
   "cell_type": "code",
   "execution_count": 7,
   "id": "045eed5b-b090-4a74-8f16-ef90b41c2708",
   "metadata": {},
   "outputs": [],
   "source": [
    "df_parenting = pd.read_csv('../data/parenting_combine_50.csv')"
   ]
  },
  {
   "cell_type": "code",
   "execution_count": 8,
   "id": "51cc9db5-46fa-4117-8afb-3fc0b7f63db0",
   "metadata": {},
   "outputs": [
    {
     "data": {
      "text/plain": [
       "(10000, 11)"
      ]
     },
     "execution_count": 8,
     "metadata": {},
     "output_type": "execute_result"
    }
   ],
   "source": [
    "df_parenting.shape"
   ]
  },
  {
   "cell_type": "code",
   "execution_count": 9,
   "id": "b5e0b156-b9a4-4360-8075-c0d9782de737",
   "metadata": {},
   "outputs": [
    {
     "data": {
      "text/html": [
       "<div>\n",
       "<style scoped>\n",
       "    .dataframe tbody tr th:only-of-type {\n",
       "        vertical-align: middle;\n",
       "    }\n",
       "\n",
       "    .dataframe tbody tr th {\n",
       "        vertical-align: top;\n",
       "    }\n",
       "\n",
       "    .dataframe thead th {\n",
       "        text-align: right;\n",
       "    }\n",
       "</style>\n",
       "<table border=\"1\" class=\"dataframe\">\n",
       "  <thead>\n",
       "    <tr style=\"text-align: right;\">\n",
       "      <th></th>\n",
       "      <th>subreddit</th>\n",
       "      <th>id</th>\n",
       "      <th>selftext</th>\n",
       "      <th>title</th>\n",
       "      <th>num_comments</th>\n",
       "      <th>created_utc</th>\n",
       "      <th>parent_id</th>\n",
       "      <th>link_id</th>\n",
       "      <th>author</th>\n",
       "      <th>body</th>\n",
       "      <th>all_text</th>\n",
       "    </tr>\n",
       "  </thead>\n",
       "  <tbody>\n",
       "    <tr>\n",
       "      <th>0</th>\n",
       "      <td>Parenting</td>\n",
       "      <td>u35fhw</td>\n",
       "      <td>We recently found a drop in daycare for my 3yr...</td>\n",
       "      <td>Daycare recommends shorter drop offs.</td>\n",
       "      <td>0.0</td>\n",
       "      <td>1649898505</td>\n",
       "      <td>fromsubmission</td>\n",
       "      <td>fromsubmission</td>\n",
       "      <td>fromsubmission</td>\n",
       "      <td>fromsubmission</td>\n",
       "      <td>We recently found a drop in daycare for my 3yr...</td>\n",
       "    </tr>\n",
       "    <tr>\n",
       "      <th>1</th>\n",
       "      <td>Parenting</td>\n",
       "      <td>u355wz</td>\n",
       "      <td>So I've lurked on this sub for a long time as ...</td>\n",
       "      <td>Looking for advice for taking the leap to beco...</td>\n",
       "      <td>0.0</td>\n",
       "      <td>1649897684</td>\n",
       "      <td>fromsubmission</td>\n",
       "      <td>fromsubmission</td>\n",
       "      <td>fromsubmission</td>\n",
       "      <td>fromsubmission</td>\n",
       "      <td>So I've lurked on this sub for a long time as ...</td>\n",
       "    </tr>\n",
       "    <tr>\n",
       "      <th>2</th>\n",
       "      <td>Parenting</td>\n",
       "      <td>u34x24</td>\n",
       "      <td>So my 20yr old son came back to live with me a...</td>\n",
       "      <td>lazy teenager</td>\n",
       "      <td>0.0</td>\n",
       "      <td>1649896924</td>\n",
       "      <td>fromsubmission</td>\n",
       "      <td>fromsubmission</td>\n",
       "      <td>fromsubmission</td>\n",
       "      <td>fromsubmission</td>\n",
       "      <td>So my 20yr old son came back to live with me a...</td>\n",
       "    </tr>\n",
       "  </tbody>\n",
       "</table>\n",
       "</div>"
      ],
      "text/plain": [
       "   subreddit      id                                           selftext  \\\n",
       "0  Parenting  u35fhw  We recently found a drop in daycare for my 3yr...   \n",
       "1  Parenting  u355wz  So I've lurked on this sub for a long time as ...   \n",
       "2  Parenting  u34x24  So my 20yr old son came back to live with me a...   \n",
       "\n",
       "                                               title  num_comments  \\\n",
       "0              Daycare recommends shorter drop offs.           0.0   \n",
       "1  Looking for advice for taking the leap to beco...           0.0   \n",
       "2                                      lazy teenager           0.0   \n",
       "\n",
       "   created_utc       parent_id         link_id          author  \\\n",
       "0   1649898505  fromsubmission  fromsubmission  fromsubmission   \n",
       "1   1649897684  fromsubmission  fromsubmission  fromsubmission   \n",
       "2   1649896924  fromsubmission  fromsubmission  fromsubmission   \n",
       "\n",
       "             body                                           all_text  \n",
       "0  fromsubmission  We recently found a drop in daycare for my 3yr...  \n",
       "1  fromsubmission  So I've lurked on this sub for a long time as ...  \n",
       "2  fromsubmission  So my 20yr old son came back to live with me a...  "
      ]
     },
     "execution_count": 9,
     "metadata": {},
     "output_type": "execute_result"
    }
   ],
   "source": [
    "df_parenting.head(3)"
   ]
  },
  {
   "cell_type": "code",
   "execution_count": 10,
   "id": "9664f5e9-8f05-4dd6-90f8-1d0c5a761c4a",
   "metadata": {},
   "outputs": [],
   "source": [
    "df_teacher = pd.read_csv('../data/teacher_combine_50.csv')"
   ]
  },
  {
   "cell_type": "code",
   "execution_count": 11,
   "id": "ad0e52ef-6ce1-46e9-ae04-6193d4a7ea10",
   "metadata": {},
   "outputs": [
    {
     "data": {
      "text/plain": [
       "(9995, 11)"
      ]
     },
     "execution_count": 11,
     "metadata": {},
     "output_type": "execute_result"
    }
   ],
   "source": [
    "df_teacher.shape"
   ]
  },
  {
   "cell_type": "code",
   "execution_count": 12,
   "id": "7414a4f8-b76e-4da3-ae91-c6867355bcd7",
   "metadata": {},
   "outputs": [],
   "source": [
    "df_all = pd.concat([df_parenting[['all_text', 'subreddit']], df_teacher[['all_text', 'subreddit']]], ignore_index=True)"
   ]
  },
  {
   "cell_type": "code",
   "execution_count": 13,
   "id": "edbef02b-3f76-4174-9b17-5ab1503e3c0c",
   "metadata": {},
   "outputs": [
    {
     "data": {
      "text/html": [
       "<div>\n",
       "<style scoped>\n",
       "    .dataframe tbody tr th:only-of-type {\n",
       "        vertical-align: middle;\n",
       "    }\n",
       "\n",
       "    .dataframe tbody tr th {\n",
       "        vertical-align: top;\n",
       "    }\n",
       "\n",
       "    .dataframe thead th {\n",
       "        text-align: right;\n",
       "    }\n",
       "</style>\n",
       "<table border=\"1\" class=\"dataframe\">\n",
       "  <thead>\n",
       "    <tr style=\"text-align: right;\">\n",
       "      <th></th>\n",
       "      <th>all_text</th>\n",
       "      <th>subreddit</th>\n",
       "    </tr>\n",
       "  </thead>\n",
       "  <tbody>\n",
       "    <tr>\n",
       "      <th>0</th>\n",
       "      <td>We recently found a drop in daycare for my 3yr...</td>\n",
       "      <td>Parenting</td>\n",
       "    </tr>\n",
       "    <tr>\n",
       "      <th>1</th>\n",
       "      <td>So I've lurked on this sub for a long time as ...</td>\n",
       "      <td>Parenting</td>\n",
       "    </tr>\n",
       "    <tr>\n",
       "      <th>2</th>\n",
       "      <td>So my 20yr old son came back to live with me a...</td>\n",
       "      <td>Parenting</td>\n",
       "    </tr>\n",
       "    <tr>\n",
       "      <th>3</th>\n",
       "      <td>I feel bad about posting, since I had all the ...</td>\n",
       "      <td>Parenting</td>\n",
       "    </tr>\n",
       "    <tr>\n",
       "      <th>4</th>\n",
       "      <td>My Steam library is looking a bit thin when it...</td>\n",
       "      <td>Parenting</td>\n",
       "    </tr>\n",
       "  </tbody>\n",
       "</table>\n",
       "</div>"
      ],
      "text/plain": [
       "                                            all_text  subreddit\n",
       "0  We recently found a drop in daycare for my 3yr...  Parenting\n",
       "1  So I've lurked on this sub for a long time as ...  Parenting\n",
       "2  So my 20yr old son came back to live with me a...  Parenting\n",
       "3  I feel bad about posting, since I had all the ...  Parenting\n",
       "4  My Steam library is looking a bit thin when it...  Parenting"
      ]
     },
     "execution_count": 13,
     "metadata": {},
     "output_type": "execute_result"
    }
   ],
   "source": [
    "df_all.head()"
   ]
  },
  {
   "cell_type": "code",
   "execution_count": 14,
   "id": "7487898e-4327-4e0c-a2ba-ef3f165c18c1",
   "metadata": {},
   "outputs": [
    {
     "data": {
      "text/html": [
       "<div>\n",
       "<style scoped>\n",
       "    .dataframe tbody tr th:only-of-type {\n",
       "        vertical-align: middle;\n",
       "    }\n",
       "\n",
       "    .dataframe tbody tr th {\n",
       "        vertical-align: top;\n",
       "    }\n",
       "\n",
       "    .dataframe thead th {\n",
       "        text-align: right;\n",
       "    }\n",
       "</style>\n",
       "<table border=\"1\" class=\"dataframe\">\n",
       "  <thead>\n",
       "    <tr style=\"text-align: right;\">\n",
       "      <th></th>\n",
       "      <th>all_text</th>\n",
       "      <th>subreddit</th>\n",
       "    </tr>\n",
       "  </thead>\n",
       "  <tbody>\n",
       "    <tr>\n",
       "      <th>19990</th>\n",
       "      <td>fromcomments, I would love to get paid overtim...</td>\n",
       "      <td>Teachers</td>\n",
       "    </tr>\n",
       "    <tr>\n",
       "      <th>19991</th>\n",
       "      <td>fromcomments, The Road by Cormac McCarthy, fro...</td>\n",
       "      <td>Teachers</td>\n",
       "    </tr>\n",
       "    <tr>\n",
       "      <th>19992</th>\n",
       "      <td>fromcomments, It is very district based, somet...</td>\n",
       "      <td>Teachers</td>\n",
       "    </tr>\n",
       "    <tr>\n",
       "      <th>19993</th>\n",
       "      <td>fromcomments, I had a MS class like that a few...</td>\n",
       "      <td>Teachers</td>\n",
       "    </tr>\n",
       "    <tr>\n",
       "      <th>19994</th>\n",
       "      <td>fromcomments, Oh. \\n\\nHere, go [one by one](ht...</td>\n",
       "      <td>Teachers</td>\n",
       "    </tr>\n",
       "  </tbody>\n",
       "</table>\n",
       "</div>"
      ],
      "text/plain": [
       "                                                all_text subreddit\n",
       "19990  fromcomments, I would love to get paid overtim...  Teachers\n",
       "19991  fromcomments, The Road by Cormac McCarthy, fro...  Teachers\n",
       "19992  fromcomments, It is very district based, somet...  Teachers\n",
       "19993  fromcomments, I had a MS class like that a few...  Teachers\n",
       "19994  fromcomments, Oh. \\n\\nHere, go [one by one](ht...  Teachers"
      ]
     },
     "execution_count": 14,
     "metadata": {},
     "output_type": "execute_result"
    }
   ],
   "source": [
    "df_all.tail()"
   ]
  },
  {
   "cell_type": "code",
   "execution_count": 18,
   "id": "0d917917-0e52-43ee-9288-cbd69719eaaa",
   "metadata": {},
   "outputs": [
    {
     "data": {
      "text/plain": [
       "(19995, 2)"
      ]
     },
     "execution_count": 18,
     "metadata": {},
     "output_type": "execute_result"
    }
   ],
   "source": [
    "df_all.shape"
   ]
  },
  {
   "cell_type": "code",
   "execution_count": 19,
   "id": "5efe5407-492d-4c78-92d5-aa3061275121",
   "metadata": {},
   "outputs": [
    {
     "data": {
      "text/html": [
       "<div>\n",
       "<style scoped>\n",
       "    .dataframe tbody tr th:only-of-type {\n",
       "        vertical-align: middle;\n",
       "    }\n",
       "\n",
       "    .dataframe tbody tr th {\n",
       "        vertical-align: top;\n",
       "    }\n",
       "\n",
       "    .dataframe thead th {\n",
       "        text-align: right;\n",
       "    }\n",
       "</style>\n",
       "<table border=\"1\" class=\"dataframe\">\n",
       "  <thead>\n",
       "    <tr style=\"text-align: right;\">\n",
       "      <th></th>\n",
       "      <th>all_text</th>\n",
       "      <th>is_parent</th>\n",
       "    </tr>\n",
       "  </thead>\n",
       "  <tbody>\n",
       "    <tr>\n",
       "      <th>0</th>\n",
       "      <td>We recently found a drop in daycare for my 3yr...</td>\n",
       "      <td>1</td>\n",
       "    </tr>\n",
       "    <tr>\n",
       "      <th>1</th>\n",
       "      <td>So I've lurked on this sub for a long time as ...</td>\n",
       "      <td>1</td>\n",
       "    </tr>\n",
       "    <tr>\n",
       "      <th>2</th>\n",
       "      <td>So my 20yr old son came back to live with me a...</td>\n",
       "      <td>1</td>\n",
       "    </tr>\n",
       "    <tr>\n",
       "      <th>3</th>\n",
       "      <td>I feel bad about posting, since I had all the ...</td>\n",
       "      <td>1</td>\n",
       "    </tr>\n",
       "    <tr>\n",
       "      <th>4</th>\n",
       "      <td>My Steam library is looking a bit thin when it...</td>\n",
       "      <td>1</td>\n",
       "    </tr>\n",
       "  </tbody>\n",
       "</table>\n",
       "</div>"
      ],
      "text/plain": [
       "                                            all_text  is_parent\n",
       "0  We recently found a drop in daycare for my 3yr...          1\n",
       "1  So I've lurked on this sub for a long time as ...          1\n",
       "2  So my 20yr old son came back to live with me a...          1\n",
       "3  I feel bad about posting, since I had all the ...          1\n",
       "4  My Steam library is looking a bit thin when it...          1"
      ]
     },
     "execution_count": 19,
     "metadata": {},
     "output_type": "execute_result"
    }
   ],
   "source": [
    "# set a column for target, is_college\n",
    "df_all['is_parent'] = df_all['subreddit'].map({'Parenting': 1, 'Teachers': 0})\n",
    "df_all.drop('subreddit', axis=1, inplace=True)\n",
    "df_all.head()"
   ]
  },
  {
   "cell_type": "code",
   "execution_count": 21,
   "id": "76c8ca6d-ec16-47b3-9a4a-0aba7454c4bc",
   "metadata": {},
   "outputs": [
    {
     "data": {
      "text/html": [
       "<div>\n",
       "<style scoped>\n",
       "    .dataframe tbody tr th:only-of-type {\n",
       "        vertical-align: middle;\n",
       "    }\n",
       "\n",
       "    .dataframe tbody tr th {\n",
       "        vertical-align: top;\n",
       "    }\n",
       "\n",
       "    .dataframe thead th {\n",
       "        text-align: right;\n",
       "    }\n",
       "</style>\n",
       "<table border=\"1\" class=\"dataframe\">\n",
       "  <thead>\n",
       "    <tr style=\"text-align: right;\">\n",
       "      <th></th>\n",
       "      <th>all_text</th>\n",
       "      <th>is_parent</th>\n",
       "    </tr>\n",
       "  </thead>\n",
       "  <tbody>\n",
       "    <tr>\n",
       "      <th>19990</th>\n",
       "      <td>fromcomments, I would love to get paid overtim...</td>\n",
       "      <td>0</td>\n",
       "    </tr>\n",
       "    <tr>\n",
       "      <th>19991</th>\n",
       "      <td>fromcomments, The Road by Cormac McCarthy, fro...</td>\n",
       "      <td>0</td>\n",
       "    </tr>\n",
       "    <tr>\n",
       "      <th>19992</th>\n",
       "      <td>fromcomments, It is very district based, somet...</td>\n",
       "      <td>0</td>\n",
       "    </tr>\n",
       "    <tr>\n",
       "      <th>19993</th>\n",
       "      <td>fromcomments, I had a MS class like that a few...</td>\n",
       "      <td>0</td>\n",
       "    </tr>\n",
       "    <tr>\n",
       "      <th>19994</th>\n",
       "      <td>fromcomments, Oh. \\n\\nHere, go [one by one](ht...</td>\n",
       "      <td>0</td>\n",
       "    </tr>\n",
       "  </tbody>\n",
       "</table>\n",
       "</div>"
      ],
      "text/plain": [
       "                                                all_text  is_parent\n",
       "19990  fromcomments, I would love to get paid overtim...          0\n",
       "19991  fromcomments, The Road by Cormac McCarthy, fro...          0\n",
       "19992  fromcomments, It is very district based, somet...          0\n",
       "19993  fromcomments, I had a MS class like that a few...          0\n",
       "19994  fromcomments, Oh. \\n\\nHere, go [one by one](ht...          0"
      ]
     },
     "execution_count": 21,
     "metadata": {},
     "output_type": "execute_result"
    }
   ],
   "source": [
    "df_all.tail()"
   ]
  },
  {
   "cell_type": "markdown",
   "id": "fd238aaf-9ea3-448a-90ab-982cf081c35d",
   "metadata": {},
   "source": [
    "## Drop duplicates"
   ]
  },
  {
   "cell_type": "code",
   "execution_count": 35,
   "id": "2f3d70e8-5994-427b-a8fe-de8ea03acf6b",
   "metadata": {},
   "outputs": [
    {
     "data": {
      "text/plain": [
       "0"
      ]
     },
     "execution_count": 35,
     "metadata": {},
     "output_type": "execute_result"
    }
   ],
   "source": [
    "df_all.duplicated().sum()"
   ]
  },
  {
   "cell_type": "code",
   "execution_count": 36,
   "id": "c42f8d70-4aaf-478b-a281-a59191cc3406",
   "metadata": {},
   "outputs": [
    {
     "data": {
      "text/html": [
       "<div>\n",
       "<style scoped>\n",
       "    .dataframe tbody tr th:only-of-type {\n",
       "        vertical-align: middle;\n",
       "    }\n",
       "\n",
       "    .dataframe tbody tr th {\n",
       "        vertical-align: top;\n",
       "    }\n",
       "\n",
       "    .dataframe thead th {\n",
       "        text-align: right;\n",
       "    }\n",
       "</style>\n",
       "<table border=\"1\" class=\"dataframe\">\n",
       "  <thead>\n",
       "    <tr style=\"text-align: right;\">\n",
       "      <th></th>\n",
       "      <th>all_text</th>\n",
       "      <th>is_parent</th>\n",
       "    </tr>\n",
       "  </thead>\n",
       "  <tbody>\n",
       "  </tbody>\n",
       "</table>\n",
       "</div>"
      ],
      "text/plain": [
       "Empty DataFrame\n",
       "Columns: [all_text, is_parent]\n",
       "Index: []"
      ]
     },
     "execution_count": 36,
     "metadata": {},
     "output_type": "execute_result"
    }
   ],
   "source": [
    "df_all[df_all.duplicated()]"
   ]
  },
  {
   "cell_type": "code",
   "execution_count": 37,
   "id": "7ded5b6b-cdb7-4c1e-9806-8f8084503e98",
   "metadata": {},
   "outputs": [],
   "source": [
    "df_all.drop_duplicates(inplace = True)"
   ]
  },
  {
   "cell_type": "code",
   "execution_count": 38,
   "id": "54373894-13e0-45d2-82a5-acd70e7be5d0",
   "metadata": {},
   "outputs": [
    {
     "data": {
      "text/plain": [
       "(19716, 2)"
      ]
     },
     "execution_count": 38,
     "metadata": {},
     "output_type": "execute_result"
    }
   ],
   "source": [
    "df_all.shape"
   ]
  },
  {
   "cell_type": "code",
   "execution_count": 39,
   "id": "ccd37f87-0e3d-4347-aafd-64f953f6fd3f",
   "metadata": {},
   "outputs": [
    {
     "data": {
      "text/html": [
       "<div>\n",
       "<style scoped>\n",
       "    .dataframe tbody tr th:only-of-type {\n",
       "        vertical-align: middle;\n",
       "    }\n",
       "\n",
       "    .dataframe tbody tr th {\n",
       "        vertical-align: top;\n",
       "    }\n",
       "\n",
       "    .dataframe thead th {\n",
       "        text-align: right;\n",
       "    }\n",
       "</style>\n",
       "<table border=\"1\" class=\"dataframe\">\n",
       "  <thead>\n",
       "    <tr style=\"text-align: right;\">\n",
       "      <th></th>\n",
       "      <th>all_text</th>\n",
       "      <th>is_parent</th>\n",
       "    </tr>\n",
       "  </thead>\n",
       "  <tbody>\n",
       "    <tr>\n",
       "      <th>19711</th>\n",
       "      <td>fromcomments, I would love to get paid overtim...</td>\n",
       "      <td>0</td>\n",
       "    </tr>\n",
       "    <tr>\n",
       "      <th>19712</th>\n",
       "      <td>fromcomments, The Road by Cormac McCarthy, fro...</td>\n",
       "      <td>0</td>\n",
       "    </tr>\n",
       "    <tr>\n",
       "      <th>19713</th>\n",
       "      <td>fromcomments, It is very district based, somet...</td>\n",
       "      <td>0</td>\n",
       "    </tr>\n",
       "    <tr>\n",
       "      <th>19714</th>\n",
       "      <td>fromcomments, I had a MS class like that a few...</td>\n",
       "      <td>0</td>\n",
       "    </tr>\n",
       "    <tr>\n",
       "      <th>19715</th>\n",
       "      <td>fromcomments, Oh. \\n\\nHere, go [one by one](ht...</td>\n",
       "      <td>0</td>\n",
       "    </tr>\n",
       "  </tbody>\n",
       "</table>\n",
       "</div>"
      ],
      "text/plain": [
       "                                                all_text  is_parent\n",
       "19711  fromcomments, I would love to get paid overtim...          0\n",
       "19712  fromcomments, The Road by Cormac McCarthy, fro...          0\n",
       "19713  fromcomments, It is very district based, somet...          0\n",
       "19714  fromcomments, I had a MS class like that a few...          0\n",
       "19715  fromcomments, Oh. \\n\\nHere, go [one by one](ht...          0"
      ]
     },
     "execution_count": 39,
     "metadata": {},
     "output_type": "execute_result"
    }
   ],
   "source": [
    "df_all = df_all.reset_index(drop=True)\n",
    "df_all.tail()"
   ]
  },
  {
   "cell_type": "code",
   "execution_count": 33,
   "id": "4e6c15f6-5893-4317-bf47-d2d0d5a4f881",
   "metadata": {},
   "outputs": [],
   "source": []
  },
  {
   "cell_type": "code",
   "execution_count": null,
   "id": "73419236-4e37-45da-8878-815c22ab7a8a",
   "metadata": {},
   "outputs": [],
   "source": []
  },
  {
   "cell_type": "code",
   "execution_count": 41,
   "id": "91b71b19-e993-426d-bd15-1d864cab05d4",
   "metadata": {},
   "outputs": [],
   "source": [
    "df_all.to_csv('../data/alltogether.csv', index=False)"
   ]
  },
  {
   "cell_type": "code",
   "execution_count": null,
   "id": "2c37688a-c381-4c8e-a8ed-f21365b2b940",
   "metadata": {},
   "outputs": [],
   "source": []
  }
 ],
 "metadata": {
  "kernelspec": {
   "display_name": "Python 3 (ipykernel)",
   "language": "python",
   "name": "python3"
  },
  "language_info": {
   "codemirror_mode": {
    "name": "ipython",
    "version": 3
   },
   "file_extension": ".py",
   "mimetype": "text/x-python",
   "name": "python",
   "nbconvert_exporter": "python",
   "pygments_lexer": "ipython3",
   "version": "3.9.7"
  }
 },
 "nbformat": 4,
 "nbformat_minor": 5
}
