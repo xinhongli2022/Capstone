{
 "cells": [
  {
   "cell_type": "markdown",
   "metadata": {},
   "source": [
    "# Sentiment/Emotional Analysis"
   ]
  },
  {
   "cell_type": "markdown",
   "metadata": {},
   "source": [
    "## Import Libraries"
   ]
  },
  {
   "cell_type": "code",
   "execution_count": 2,
   "metadata": {},
   "outputs": [],
   "source": [
    "import pandas as pd\n",
    "import re\n",
    "from nrclex import NRCLex\n",
    "import seaborn as sns\n",
    "import matplotlib.pyplot as plt\n",
    "import numpy as np\n",
    "\n",
    "import warnings\n",
    "warnings.filterwarnings('ignore')"
   ]
  },
  {
   "cell_type": "markdown",
   "metadata": {},
   "source": [
    "Read Data"
   ]
  },
  {
   "cell_type": "code",
   "execution_count": 3,
   "metadata": {},
   "outputs": [],
   "source": [
    "df_teacher = pd.read_csv('../data/teacher_combine_50.csv')"
   ]
  },
  {
   "cell_type": "code",
   "execution_count": 4,
   "metadata": {},
   "outputs": [
    {
     "data": {
      "text/html": [
       "<div>\n",
       "<style scoped>\n",
       "    .dataframe tbody tr th:only-of-type {\n",
       "        vertical-align: middle;\n",
       "    }\n",
       "\n",
       "    .dataframe tbody tr th {\n",
       "        vertical-align: top;\n",
       "    }\n",
       "\n",
       "    .dataframe thead th {\n",
       "        text-align: right;\n",
       "    }\n",
       "</style>\n",
       "<table border=\"1\" class=\"dataframe\">\n",
       "  <thead>\n",
       "    <tr style=\"text-align: right;\">\n",
       "      <th></th>\n",
       "      <th>subreddit</th>\n",
       "      <th>id</th>\n",
       "      <th>selftext</th>\n",
       "      <th>title</th>\n",
       "      <th>num_comments</th>\n",
       "      <th>created_utc</th>\n",
       "      <th>parent_id</th>\n",
       "      <th>link_id</th>\n",
       "      <th>author</th>\n",
       "      <th>body</th>\n",
       "      <th>all_text</th>\n",
       "    </tr>\n",
       "  </thead>\n",
       "  <tbody>\n",
       "    <tr>\n",
       "      <th>0</th>\n",
       "      <td>Teachers</td>\n",
       "      <td>u35imn</td>\n",
       "      <td>I teach 8th grade at a private school in Ontar...</td>\n",
       "      <td>LGBT teacher with no admin support in traditio...</td>\n",
       "      <td>0.0</td>\n",
       "      <td>1649898781</td>\n",
       "      <td>fromsubmission</td>\n",
       "      <td>fromsubmission</td>\n",
       "      <td>fromsubmission</td>\n",
       "      <td>fromsubmission</td>\n",
       "      <td>I teach 8th grade at a private school in Ontar...</td>\n",
       "    </tr>\n",
       "    <tr>\n",
       "      <th>1</th>\n",
       "      <td>Teachers</td>\n",
       "      <td>u35g5w</td>\n",
       "      <td>[removed]</td>\n",
       "      <td>Please Help</td>\n",
       "      <td>0.0</td>\n",
       "      <td>1649898562</td>\n",
       "      <td>fromsubmission</td>\n",
       "      <td>fromsubmission</td>\n",
       "      <td>fromsubmission</td>\n",
       "      <td>fromsubmission</td>\n",
       "      <td>[removed], fromsubmission, Please Help</td>\n",
       "    </tr>\n",
       "    <tr>\n",
       "      <th>2</th>\n",
       "      <td>Teachers</td>\n",
       "      <td>u35fe3</td>\n",
       "      <td>For some context I'm teaching US history. \\n\\n...</td>\n",
       "      <td>I got that kid that won't stop being \"that kid\".</td>\n",
       "      <td>0.0</td>\n",
       "      <td>1649898496</td>\n",
       "      <td>fromsubmission</td>\n",
       "      <td>fromsubmission</td>\n",
       "      <td>fromsubmission</td>\n",
       "      <td>fromsubmission</td>\n",
       "      <td>For some context I'm teaching US history. \\n\\n...</td>\n",
       "    </tr>\n",
       "    <tr>\n",
       "      <th>3</th>\n",
       "      <td>Teachers</td>\n",
       "      <td>u35668</td>\n",
       "      <td>I am a middle school coding teacher. I’m wonde...</td>\n",
       "      <td>Can I use class wallet to buy an oculus?</td>\n",
       "      <td>0.0</td>\n",
       "      <td>1649897706</td>\n",
       "      <td>fromsubmission</td>\n",
       "      <td>fromsubmission</td>\n",
       "      <td>fromsubmission</td>\n",
       "      <td>fromsubmission</td>\n",
       "      <td>I am a middle school coding teacher. I’m wonde...</td>\n",
       "    </tr>\n",
       "    <tr>\n",
       "      <th>4</th>\n",
       "      <td>Teachers</td>\n",
       "      <td>u353wr</td>\n",
       "      <td>A student turned in their essay (which we work...</td>\n",
       "      <td>Plagiarism &amp;amp; Parents</td>\n",
       "      <td>0.0</td>\n",
       "      <td>1649897510</td>\n",
       "      <td>fromsubmission</td>\n",
       "      <td>fromsubmission</td>\n",
       "      <td>fromsubmission</td>\n",
       "      <td>fromsubmission</td>\n",
       "      <td>A student turned in their essay (which we work...</td>\n",
       "    </tr>\n",
       "  </tbody>\n",
       "</table>\n",
       "</div>"
      ],
      "text/plain": [
       "  subreddit      id                                           selftext  \\\n",
       "0  Teachers  u35imn  I teach 8th grade at a private school in Ontar...   \n",
       "1  Teachers  u35g5w                                          [removed]   \n",
       "2  Teachers  u35fe3  For some context I'm teaching US history. \\n\\n...   \n",
       "3  Teachers  u35668  I am a middle school coding teacher. I’m wonde...   \n",
       "4  Teachers  u353wr  A student turned in their essay (which we work...   \n",
       "\n",
       "                                               title  num_comments  \\\n",
       "0  LGBT teacher with no admin support in traditio...           0.0   \n",
       "1                                        Please Help           0.0   \n",
       "2   I got that kid that won't stop being \"that kid\".           0.0   \n",
       "3           Can I use class wallet to buy an oculus?           0.0   \n",
       "4                           Plagiarism &amp; Parents           0.0   \n",
       "\n",
       "   created_utc       parent_id         link_id          author  \\\n",
       "0   1649898781  fromsubmission  fromsubmission  fromsubmission   \n",
       "1   1649898562  fromsubmission  fromsubmission  fromsubmission   \n",
       "2   1649898496  fromsubmission  fromsubmission  fromsubmission   \n",
       "3   1649897706  fromsubmission  fromsubmission  fromsubmission   \n",
       "4   1649897510  fromsubmission  fromsubmission  fromsubmission   \n",
       "\n",
       "             body                                           all_text  \n",
       "0  fromsubmission  I teach 8th grade at a private school in Ontar...  \n",
       "1  fromsubmission             [removed], fromsubmission, Please Help  \n",
       "2  fromsubmission  For some context I'm teaching US history. \\n\\n...  \n",
       "3  fromsubmission  I am a middle school coding teacher. I’m wonde...  \n",
       "4  fromsubmission  A student turned in their essay (which we work...  "
      ]
     },
     "execution_count": 4,
     "metadata": {},
     "output_type": "execute_result"
    }
   ],
   "source": [
    "df_teacher.head()"
   ]
  },
  {
   "cell_type": "code",
   "execution_count": 5,
   "metadata": {},
   "outputs": [
    {
     "data": {
      "text/plain": [
       "subreddit        0\n",
       "id               0\n",
       "selftext        35\n",
       "title            0\n",
       "num_comments     0\n",
       "created_utc      0\n",
       "parent_id        0\n",
       "link_id          0\n",
       "author           0\n",
       "body             0\n",
       "all_text         0\n",
       "dtype: int64"
      ]
     },
     "execution_count": 5,
     "metadata": {},
     "output_type": "execute_result"
    }
   ],
   "source": [
    "df_teacher.isnull().sum()"
   ]
  },
  {
   "cell_type": "code",
   "execution_count": 7,
   "metadata": {},
   "outputs": [
    {
     "data": {
      "text/plain": [
       "(9995, 11)"
      ]
     },
     "execution_count": 7,
     "metadata": {},
     "output_type": "execute_result"
    }
   ],
   "source": [
    "df_teacher.shape"
   ]
  },
  {
   "cell_type": "code",
   "execution_count": 9,
   "metadata": {},
   "outputs": [],
   "source": [
    "df_teacher.dropna(inplace = True)"
   ]
  },
  {
   "cell_type": "code",
   "execution_count": 38,
   "metadata": {},
   "outputs": [],
   "source": [
    "alltext_t = ','.join(df_teacher['all_text'])\n",
    "text_t_obj = NRCLex(alltext_t)"
   ]
  },
  {
   "cell_type": "code",
   "execution_count": 39,
   "metadata": {},
   "outputs": [
    {
     "data": {
      "text/plain": [
       "{'joy': 15527,\n",
       " 'positive': 47831,\n",
       " 'surprise': 9437,\n",
       " 'trust': 36264,\n",
       " 'anger': 10169,\n",
       " 'disgust': 6958,\n",
       " 'negative': 23715,\n",
       " 'fear': 11680,\n",
       " 'sadness': 12892,\n",
       " 'anticipation': 20235}"
      ]
     },
     "execution_count": 39,
     "metadata": {},
     "output_type": "execute_result"
    }
   ],
   "source": [
    "data = text_t_obj.raw_emotion_scores\n",
    "data"
   ]
  },
  {
   "cell_type": "code",
   "execution_count": 40,
   "metadata": {},
   "outputs": [],
   "source": [
    "emotion_df = pd.DataFrame.from_dict(data, orient = 'index')\n",
    "emotion_df = emotion_df.reset_index()\n",
    "emotion_df = emotion_df.rename(columns = {'index' : 'Emotion', 0 : 'Count'})\n",
    "emotion_df = emotion_df.sort_values(by = ['Count'], ascending = False)"
   ]
  },
  {
   "cell_type": "code",
   "execution_count": 41,
   "metadata": {},
   "outputs": [
    {
     "data": {
      "text/html": [
       "<div>\n",
       "<style scoped>\n",
       "    .dataframe tbody tr th:only-of-type {\n",
       "        vertical-align: middle;\n",
       "    }\n",
       "\n",
       "    .dataframe tbody tr th {\n",
       "        vertical-align: top;\n",
       "    }\n",
       "\n",
       "    .dataframe thead th {\n",
       "        text-align: right;\n",
       "    }\n",
       "</style>\n",
       "<table border=\"1\" class=\"dataframe\">\n",
       "  <thead>\n",
       "    <tr style=\"text-align: right;\">\n",
       "      <th></th>\n",
       "      <th>Emotion</th>\n",
       "      <th>Count</th>\n",
       "    </tr>\n",
       "  </thead>\n",
       "  <tbody>\n",
       "    <tr>\n",
       "      <th>1</th>\n",
       "      <td>positive</td>\n",
       "      <td>47831</td>\n",
       "    </tr>\n",
       "    <tr>\n",
       "      <th>3</th>\n",
       "      <td>trust</td>\n",
       "      <td>36264</td>\n",
       "    </tr>\n",
       "    <tr>\n",
       "      <th>6</th>\n",
       "      <td>negative</td>\n",
       "      <td>23715</td>\n",
       "    </tr>\n",
       "    <tr>\n",
       "      <th>9</th>\n",
       "      <td>anticipation</td>\n",
       "      <td>20235</td>\n",
       "    </tr>\n",
       "    <tr>\n",
       "      <th>0</th>\n",
       "      <td>joy</td>\n",
       "      <td>15527</td>\n",
       "    </tr>\n",
       "    <tr>\n",
       "      <th>8</th>\n",
       "      <td>sadness</td>\n",
       "      <td>12892</td>\n",
       "    </tr>\n",
       "    <tr>\n",
       "      <th>7</th>\n",
       "      <td>fear</td>\n",
       "      <td>11680</td>\n",
       "    </tr>\n",
       "    <tr>\n",
       "      <th>4</th>\n",
       "      <td>anger</td>\n",
       "      <td>10169</td>\n",
       "    </tr>\n",
       "    <tr>\n",
       "      <th>2</th>\n",
       "      <td>surprise</td>\n",
       "      <td>9437</td>\n",
       "    </tr>\n",
       "    <tr>\n",
       "      <th>5</th>\n",
       "      <td>disgust</td>\n",
       "      <td>6958</td>\n",
       "    </tr>\n",
       "  </tbody>\n",
       "</table>\n",
       "</div>"
      ],
      "text/plain": [
       "        Emotion  Count\n",
       "1      positive  47831\n",
       "3         trust  36264\n",
       "6      negative  23715\n",
       "9  anticipation  20235\n",
       "0           joy  15527\n",
       "8       sadness  12892\n",
       "7          fear  11680\n",
       "4         anger  10169\n",
       "2      surprise   9437\n",
       "5       disgust   6958"
      ]
     },
     "execution_count": 41,
     "metadata": {},
     "output_type": "execute_result"
    }
   ],
   "source": [
    "emotion_df"
   ]
  },
  {
   "cell_type": "code",
   "execution_count": 42,
   "metadata": {},
   "outputs": [
    {
     "data": {
      "image/png": "[encoded data removed]",
      "text/plain": [
       "<Figure size 1152x576 with 1 Axes>"
      ]
     },
     "metadata": {},
     "output_type": "display_data"
    }
   ],
   "source": [
    "sns.set_theme(style = 'whitegrid')\n",
    "plt.figure(figsize = (16, 8))\n",
    "sns.barplot(x = 'Emotion', y = 'Count', data = emotion_df);"
   ]
  },
  {
   "cell_type": "code",
   "execution_count": null,
   "metadata": {},
   "outputs": [],
   "source": []
  },
  {
   "cell_type": "code",
   "execution_count": 43,
   "metadata": {},
   "outputs": [],
   "source": [
    "df_parenting = pd.read_csv('../data/parenting_combine_50.csv')"
   ]
  },
  {
   "cell_type": "code",
   "execution_count": 44,
   "metadata": {},
   "outputs": [
    {
     "data": {
      "text/html": [
       "<div>\n",
       "<style scoped>\n",
       "    .dataframe tbody tr th:only-of-type {\n",
       "        vertical-align: middle;\n",
       "    }\n",
       "\n",
       "    .dataframe tbody tr th {\n",
       "        vertical-align: top;\n",
       "    }\n",
       "\n",
       "    .dataframe thead th {\n",
       "        text-align: right;\n",
       "    }\n",
       "</style>\n",
       "<table border=\"1\" class=\"dataframe\">\n",
       "  <thead>\n",
       "    <tr style=\"text-align: right;\">\n",
       "      <th></th>\n",
       "      <th>subreddit</th>\n",
       "      <th>id</th>\n",
       "      <th>selftext</th>\n",
       "      <th>title</th>\n",
       "      <th>num_comments</th>\n",
       "      <th>created_utc</th>\n",
       "      <th>parent_id</th>\n",
       "      <th>link_id</th>\n",
       "      <th>author</th>\n",
       "      <th>body</th>\n",
       "      <th>all_text</th>\n",
       "    </tr>\n",
       "  </thead>\n",
       "  <tbody>\n",
       "    <tr>\n",
       "      <th>0</th>\n",
       "      <td>Parenting</td>\n",
       "      <td>u35fhw</td>\n",
       "      <td>We recently found a drop in daycare for my 3yr...</td>\n",
       "      <td>Daycare recommends shorter drop offs.</td>\n",
       "      <td>0.0</td>\n",
       "      <td>1649898505</td>\n",
       "      <td>fromsubmission</td>\n",
       "      <td>fromsubmission</td>\n",
       "      <td>fromsubmission</td>\n",
       "      <td>fromsubmission</td>\n",
       "      <td>We recently found a drop in daycare for my 3yr...</td>\n",
       "    </tr>\n",
       "    <tr>\n",
       "      <th>1</th>\n",
       "      <td>Parenting</td>\n",
       "      <td>u355wz</td>\n",
       "      <td>So I've lurked on this sub for a long time as ...</td>\n",
       "      <td>Looking for advice for taking the leap to beco...</td>\n",
       "      <td>0.0</td>\n",
       "      <td>1649897684</td>\n",
       "      <td>fromsubmission</td>\n",
       "      <td>fromsubmission</td>\n",
       "      <td>fromsubmission</td>\n",
       "      <td>fromsubmission</td>\n",
       "      <td>So I've lurked on this sub for a long time as ...</td>\n",
       "    </tr>\n",
       "    <tr>\n",
       "      <th>2</th>\n",
       "      <td>Parenting</td>\n",
       "      <td>u34x24</td>\n",
       "      <td>So my 20yr old son came back to live with me a...</td>\n",
       "      <td>lazy teenager</td>\n",
       "      <td>0.0</td>\n",
       "      <td>1649896924</td>\n",
       "      <td>fromsubmission</td>\n",
       "      <td>fromsubmission</td>\n",
       "      <td>fromsubmission</td>\n",
       "      <td>fromsubmission</td>\n",
       "      <td>So my 20yr old son came back to live with me a...</td>\n",
       "    </tr>\n",
       "    <tr>\n",
       "      <th>3</th>\n",
       "      <td>Parenting</td>\n",
       "      <td>u34vh5</td>\n",
       "      <td>I feel bad about posting, since I had all the ...</td>\n",
       "      <td>I still haven't bonded with my 1 year old</td>\n",
       "      <td>0.0</td>\n",
       "      <td>1649896790</td>\n",
       "      <td>fromsubmission</td>\n",
       "      <td>fromsubmission</td>\n",
       "      <td>fromsubmission</td>\n",
       "      <td>fromsubmission</td>\n",
       "      <td>I feel bad about posting, since I had all the ...</td>\n",
       "    </tr>\n",
       "    <tr>\n",
       "      <th>4</th>\n",
       "      <td>Parenting</td>\n",
       "      <td>u34sai</td>\n",
       "      <td>My Steam library is looking a bit thin when it...</td>\n",
       "      <td>PC game advice for a 5 year old.</td>\n",
       "      <td>0.0</td>\n",
       "      <td>1649896511</td>\n",
       "      <td>fromsubmission</td>\n",
       "      <td>fromsubmission</td>\n",
       "      <td>fromsubmission</td>\n",
       "      <td>fromsubmission</td>\n",
       "      <td>My Steam library is looking a bit thin when it...</td>\n",
       "    </tr>\n",
       "  </tbody>\n",
       "</table>\n",
       "</div>"
      ],
      "text/plain": [
       "   subreddit      id                                           selftext  \\\n",
       "0  Parenting  u35fhw  We recently found a drop in daycare for my 3yr...   \n",
       "1  Parenting  u355wz  So I've lurked on this sub for a long time as ...   \n",
       "2  Parenting  u34x24  So my 20yr old son came back to live with me a...   \n",
       "3  Parenting  u34vh5  I feel bad about posting, since I had all the ...   \n",
       "4  Parenting  u34sai  My Steam library is looking a bit thin when it...   \n",
       "\n",
       "                                               title  num_comments  \\\n",
       "0              Daycare recommends shorter drop offs.           0.0   \n",
       "1  Looking for advice for taking the leap to beco...           0.0   \n",
       "2                                      lazy teenager           0.0   \n",
       "3          I still haven't bonded with my 1 year old           0.0   \n",
       "4                   PC game advice for a 5 year old.           0.0   \n",
       "\n",
       "   created_utc       parent_id         link_id          author  \\\n",
       "0   1649898505  fromsubmission  fromsubmission  fromsubmission   \n",
       "1   1649897684  fromsubmission  fromsubmission  fromsubmission   \n",
       "2   1649896924  fromsubmission  fromsubmission  fromsubmission   \n",
       "3   1649896790  fromsubmission  fromsubmission  fromsubmission   \n",
       "4   1649896511  fromsubmission  fromsubmission  fromsubmission   \n",
       "\n",
       "             body                                           all_text  \n",
       "0  fromsubmission  We recently found a drop in daycare for my 3yr...  \n",
       "1  fromsubmission  So I've lurked on this sub for a long time as ...  \n",
       "2  fromsubmission  So my 20yr old son came back to live with me a...  \n",
       "3  fromsubmission  I feel bad about posting, since I had all the ...  \n",
       "4  fromsubmission  My Steam library is looking a bit thin when it...  "
      ]
     },
     "execution_count": 44,
     "metadata": {},
     "output_type": "execute_result"
    }
   ],
   "source": [
    "df_parenting.head()"
   ]
  },
  {
   "cell_type": "code",
   "execution_count": 45,
   "metadata": {},
   "outputs": [
    {
     "data": {
      "text/plain": [
       "subreddit       0\n",
       "id              0\n",
       "selftext        0\n",
       "title           0\n",
       "num_comments    0\n",
       "created_utc     0\n",
       "parent_id       0\n",
       "link_id         0\n",
       "author          0\n",
       "body            0\n",
       "all_text        0\n",
       "dtype: int64"
      ]
     },
     "execution_count": 45,
     "metadata": {},
     "output_type": "execute_result"
    }
   ],
   "source": [
    "df_parenting.isnull().sum()"
   ]
  },
  {
   "cell_type": "code",
   "execution_count": 46,
   "metadata": {},
   "outputs": [
    {
     "data": {
      "text/plain": [
       "(10000, 11)"
      ]
     },
     "execution_count": 46,
     "metadata": {},
     "output_type": "execute_result"
    }
   ],
   "source": [
    "df_parenting.shape"
   ]
  },
  {
   "cell_type": "code",
   "execution_count": 47,
   "metadata": {},
   "outputs": [],
   "source": [
    "alltext_p = ','.join(df_parenting['all_text'])\n",
    "text_p_obj = NRCLex(alltext_p)"
   ]
  },
  {
   "cell_type": "code",
   "execution_count": 49,
   "metadata": {},
   "outputs": [
    {
     "data": {
      "text/plain": [
       "{'joy': 25826,\n",
       " 'positive': 52004,\n",
       " 'trust': 30833,\n",
       " 'anticipation': 26416,\n",
       " 'negative': 32401,\n",
       " 'sadness': 18065,\n",
       " 'fear': 16848,\n",
       " 'anger': 14104,\n",
       " 'disgust': 10834,\n",
       " 'surprise': 10358}"
      ]
     },
     "execution_count": 49,
     "metadata": {},
     "output_type": "execute_result"
    }
   ],
   "source": [
    "data_p = text_p_obj.raw_emotion_scores\n",
    "data_p"
   ]
  },
  {
   "cell_type": "code",
   "execution_count": 52,
   "metadata": {},
   "outputs": [],
   "source": [
    "emotion_p_df = pd.DataFrame.from_dict(data_p, orient = 'index')\n",
    "emotion_p_df = emotion_p_df.reset_index()\n",
    "emotion_p_df = emotion_p_df.rename(columns = {'index' : 'Emotion', 0 : 'Count'})\n",
    "emotion_p_df = emotion_p_df.sort_values(by = ['Count'], ascending = False)"
   ]
  },
  {
   "cell_type": "code",
   "execution_count": 53,
   "metadata": {},
   "outputs": [
    {
     "data": {
      "text/html": [
       "<div>\n",
       "<style scoped>\n",
       "    .dataframe tbody tr th:only-of-type {\n",
       "        vertical-align: middle;\n",
       "    }\n",
       "\n",
       "    .dataframe tbody tr th {\n",
       "        vertical-align: top;\n",
       "    }\n",
       "\n",
       "    .dataframe thead th {\n",
       "        text-align: right;\n",
       "    }\n",
       "</style>\n",
       "<table border=\"1\" class=\"dataframe\">\n",
       "  <thead>\n",
       "    <tr style=\"text-align: right;\">\n",
       "      <th></th>\n",
       "      <th>Emotion</th>\n",
       "      <th>Count</th>\n",
       "    </tr>\n",
       "  </thead>\n",
       "  <tbody>\n",
       "    <tr>\n",
       "      <th>1</th>\n",
       "      <td>positive</td>\n",
       "      <td>52004</td>\n",
       "    </tr>\n",
       "    <tr>\n",
       "      <th>4</th>\n",
       "      <td>negative</td>\n",
       "      <td>32401</td>\n",
       "    </tr>\n",
       "    <tr>\n",
       "      <th>2</th>\n",
       "      <td>trust</td>\n",
       "      <td>30833</td>\n",
       "    </tr>\n",
       "    <tr>\n",
       "      <th>3</th>\n",
       "      <td>anticipation</td>\n",
       "      <td>26416</td>\n",
       "    </tr>\n",
       "    <tr>\n",
       "      <th>0</th>\n",
       "      <td>joy</td>\n",
       "      <td>25826</td>\n",
       "    </tr>\n",
       "    <tr>\n",
       "      <th>5</th>\n",
       "      <td>sadness</td>\n",
       "      <td>18065</td>\n",
       "    </tr>\n",
       "    <tr>\n",
       "      <th>6</th>\n",
       "      <td>fear</td>\n",
       "      <td>16848</td>\n",
       "    </tr>\n",
       "    <tr>\n",
       "      <th>7</th>\n",
       "      <td>anger</td>\n",
       "      <td>14104</td>\n",
       "    </tr>\n",
       "    <tr>\n",
       "      <th>8</th>\n",
       "      <td>disgust</td>\n",
       "      <td>10834</td>\n",
       "    </tr>\n",
       "    <tr>\n",
       "      <th>9</th>\n",
       "      <td>surprise</td>\n",
       "      <td>10358</td>\n",
       "    </tr>\n",
       "  </tbody>\n",
       "</table>\n",
       "</div>"
      ],
      "text/plain": [
       "        Emotion  Count\n",
       "1      positive  52004\n",
       "4      negative  32401\n",
       "2         trust  30833\n",
       "3  anticipation  26416\n",
       "0           joy  25826\n",
       "5       sadness  18065\n",
       "6          fear  16848\n",
       "7         anger  14104\n",
       "8       disgust  10834\n",
       "9      surprise  10358"
      ]
     },
     "execution_count": 53,
     "metadata": {},
     "output_type": "execute_result"
    }
   ],
   "source": [
    "emotion_p_df"
   ]
  },
  {
   "cell_type": "code",
   "execution_count": 54,
   "metadata": {},
   "outputs": [
    {
     "data": {
      "image/png": "[encoded data removed]",
      "text/plain": [
       "<Figure size 1152x576 with 1 Axes>"
      ]
     },
     "metadata": {},
     "output_type": "display_data"
    }
   ],
   "source": [
    "sns.set_theme(style = 'whitegrid')\n",
    "plt.figure(figsize = (16, 8))\n",
    "sns.barplot(x = 'Emotion', y = 'Count', data = emotion_p_df);"
   ]
  },
  {
   "cell_type": "markdown",
   "metadata": {},
   "source": [
    "### Compare emotion values of 2 group"
   ]
  },
  {
   "cell_type": "code",
   "execution_count": 58,
   "metadata": {},
   "outputs": [
    {
     "data": {
      "image/png": "[encoded data removed]",
      "text/plain": [
       "<Figure size 1152x720 with 1 Axes>"
      ]
     },
     "metadata": {},
     "output_type": "display_data"
    }
   ],
   "source": [
    "\n",
    "words= emotion_df['Emotion']\n",
    "teacher_ = emotion_df['Count']\n",
    "parenting_ = emotion_p_df['Count']\n",
    "width = 0.35       # the width of the bars\n",
    "ind = np.arange(10)\n",
    "\n",
    "fig, ax = plt.subplots(figsize=(16, 10))\n",
    "rects1 = ax.bar(ind, teacher_, width, color='lightseagreen')\n",
    "rects2 = ax.bar(ind+width,parenting_, width, color='lightcoral')\n",
    "\n",
    "# add some text for labels, title and axes ticks\n",
    "ax.set_ylabel('Counts')\n",
    "# ax.set_title('Emotions')\n",
    "ax.set_xlabel('Emotions')\n",
    "ax.set_xticks(ind + width / 2)\n",
    "ax.set_xticklabels(words,rotation='vertical')\n",
    "\n",
    "ax.set_ylim(0,50000)\n",
    "\n",
    "ax.legend((rects1[0], rects2[0]), ('Teachers', 'Parents'))\n",
    "\n",
    "plt.show()"
   ]
  },
  {
   "cell_type": "code",
   "execution_count": null,
   "metadata": {},
   "outputs": [],
   "source": []
  }
 ],
 "metadata": {
  "interpreter": {
   "hash": "aee8b7b246df8f9039afb4144a1f6fd8d2ca17a180786b69acc140d282b71a49"
  },
  "kernelspec": {
   "display_name": "Python 3 (ipykernel)",
   "language": "python",
   "name": "python3"
  },
  "language_info": {
   "codemirror_mode": {
    "name": "ipython",
    "version": 3
   },
   "file_extension": ".py",
   "mimetype": "text/x-python",
   "name": "python",
   "nbconvert_exporter": "python",
   "pygments_lexer": "ipython3",
   "version": "3.9.7"
  }
 },
 "nbformat": 4,
 "nbformat_minor": 4
}
