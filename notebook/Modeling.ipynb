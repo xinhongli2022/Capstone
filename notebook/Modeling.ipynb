{
  "cells": [
    {
      "cell_type": "markdown",
      "id": "bbe894f2-6911-47a3-bc7a-1513fc535b75",
      "metadata": {
        "id": "bbe894f2-6911-47a3-bc7a-1513fc535b75"
      },
      "source": [
        "## modeling"
      ]
    },
    {
      "cell_type": "code",
      "execution_count": 4,
      "id": "5b594d6a-dbcb-4adc-b398-04c0e6e9f32f",
      "metadata": {
        "id": "5b594d6a-dbcb-4adc-b398-04c0e6e9f32f"
      },
      "outputs": [],
      "source": [
        "import numpy as np\n",
        "import pandas as pd\n",
        "import matplotlib.pyplot as plt\n",
        "from sklearn.feature_extraction.text import CountVectorizer, TfidfVectorizer\n",
        "from sklearn.pipeline import Pipeline\n",
        "from sklearn.linear_model import LogisticRegression, LogisticRegressionCV\n",
        "from sklearn.naive_bayes import MultinomialNB\n",
        "from sklearn.model_selection import train_test_split, GridSearchCV\n",
        "from sklearn.ensemble import RandomForestClassifier, GradientBoostingClassifier, AdaBoostClassifier, VotingClassifier\n",
        "from sklearn import metrics\n",
        "from textblob import TextBlob, Word\n",
        "\n",
        "%matplotlib inline "
      ]
    },
    {
      "cell_type": "code",
      "execution_count": null,
      "id": "e28c94b6-509d-45e9-aeeb-2a4efc9e1593",
      "metadata": {
        "id": "e28c94b6-509d-45e9-aeeb-2a4efc9e1593",
        "outputId": "44ae0c8c-56bb-40ab-9636-ea7530fceedd"
      },
      "outputs": [
        {
          "data": {
            "text/html": [
              "<div>\n",
              "<style scoped>\n",
              "    .dataframe tbody tr th:only-of-type {\n",
              "        vertical-align: middle;\n",
              "    }\n",
              "\n",
              "    .dataframe tbody tr th {\n",
              "        vertical-align: top;\n",
              "    }\n",
              "\n",
              "    .dataframe thead th {\n",
              "        text-align: right;\n",
              "    }\n",
              "</style>\n",
              "<table border=\"1\" class=\"dataframe\">\n",
              "  <thead>\n",
              "    <tr style=\"text-align: right;\">\n",
              "      <th></th>\n",
              "      <th>all_text</th>\n",
              "      <th>is_parent</th>\n",
              "    </tr>\n",
              "  </thead>\n",
              "  <tbody>\n",
              "    <tr>\n",
              "      <th>0</th>\n",
              "      <td>We recently found a drop in daycare for my 3yr...</td>\n",
              "      <td>1</td>\n",
              "    </tr>\n",
              "    <tr>\n",
              "      <th>1</th>\n",
              "      <td>So I've lurked on this sub for a long time as ...</td>\n",
              "      <td>1</td>\n",
              "    </tr>\n",
              "    <tr>\n",
              "      <th>2</th>\n",
              "      <td>So my 20yr old son came back to live with me a...</td>\n",
              "      <td>1</td>\n",
              "    </tr>\n",
              "    <tr>\n",
              "      <th>3</th>\n",
              "      <td>I feel bad about posting, since I had all the ...</td>\n",
              "      <td>1</td>\n",
              "    </tr>\n",
              "    <tr>\n",
              "      <th>4</th>\n",
              "      <td>My Steam library is looking a bit thin when it...</td>\n",
              "      <td>1</td>\n",
              "    </tr>\n",
              "  </tbody>\n",
              "</table>\n",
              "</div>"
            ],
            "text/plain": [
              "                                            all_text  is_parent\n",
              "0  We recently found a drop in daycare for my 3yr...          1\n",
              "1  So I've lurked on this sub for a long time as ...          1\n",
              "2  So my 20yr old son came back to live with me a...          1\n",
              "3  I feel bad about posting, since I had all the ...          1\n",
              "4  My Steam library is looking a bit thin when it...          1"
            ]
          },
          "execution_count": 7,
          "metadata": {},
          "output_type": "execute_result"
        }
      ],
      "source": [
        "# import cleaned comments data from csv\n",
        "df_all = pd.read_csv('../data/alltogether.csv')\n",
        "df_all.head()"
      ]
    },
    {
      "cell_type": "code",
      "source": [
        "from google.colab import files   # This is for colab use\n",
        "uploaded = files.upload()"
      ],
      "metadata": {
        "colab": {
          "resources": {
            "http://localhost:8080/nbextensions/google.colab/files.js": {
              "data": "Ly8gQ29weXJpZ2h0IDIwMTcgR29vZ2xlIExMQwovLwovLyBMaWNlbnNlZCB1bmRlciB0aGUgQXBhY2hlIExpY2Vuc2UsIFZlcnNpb24gMi4wICh0aGUgIkxpY2Vuc2UiKTsKLy8geW91IG1heSBub3QgdXNlIHRoaXMgZmlsZSBleGNlcHQgaW4gY29tcGxpYW5jZSB3aXRoIHRoZSBMaWNlbnNlLgovLyBZb3UgbWF5IG9idGFpbiBhIGNvcHkgb2YgdGhlIExpY2Vuc2UgYXQKLy8KLy8gICAgICBodHRwOi8vd3d3LmFwYWNoZS5vcmcvbGljZW5zZXMvTElDRU5TRS0yLjAKLy8KLy8gVW5sZXNzIHJlcXVpcmVkIGJ5IGFwcGxpY2FibGUgbGF3IG9yIGFncmVlZCB0byBpbiB3cml0aW5nLCBzb2Z0d2FyZQovLyBkaXN0cmlidXRlZCB1bmRlciB0aGUgTGljZW5zZSBpcyBkaXN0cmlidXRlZCBvbiBhbiAiQVMgSVMiIEJBU0lTLAovLyBXSVRIT1VUIFdBUlJBTlRJRVMgT1IgQ09ORElUSU9OUyBPRiBBTlkgS0lORCwgZWl0aGVyIGV4cHJlc3Mgb3IgaW1wbGllZC4KLy8gU2VlIHRoZSBMaWNlbnNlIGZvciB0aGUgc3BlY2lmaWMgbGFuZ3VhZ2UgZ292ZXJuaW5nIHBlcm1pc3Npb25zIGFuZAovLyBsaW1pdGF0aW9ucyB1bmRlciB0aGUgTGljZW5zZS4KCi8qKgogKiBAZmlsZW92ZXJ2aWV3IEhlbHBlcnMgZm9yIGdvb2dsZS5jb2xhYiBQeXRob24gbW9kdWxlLgogKi8KKGZ1bmN0aW9uKHNjb3BlKSB7CmZ1bmN0aW9uIHNwYW4odGV4dCwgc3R5bGVBdHRyaWJ1dGVzID0ge30pIHsKICBjb25zdCBlbGVtZW50ID0gZG9jdW1lbnQuY3JlYXRlRWxlbWVudCgnc3BhbicpOwogIGVsZW1lbnQudGV4dENvbnRlbnQgPSB0ZXh0OwogIGZvciAoY29uc3Qga2V5IG9mIE9iamVjdC5rZXlzKHN0eWxlQXR0cmlidXRlcykpIHsKICAgIGVsZW1lbnQuc3R5bGVba2V5XSA9IHN0eWxlQXR0cmlidXRlc1trZXldOwogIH0KICByZXR1cm4gZWxlbWVudDsKfQoKLy8gTWF4IG51bWJlciBvZiBieXRlcyB3aGljaCB3aWxsIGJlIHVwbG9hZGVkIGF0IGEgdGltZS4KY29uc3QgTUFYX1BBWUxPQURfU0laRSA9IDEwMCAqIDEwMjQ7CgpmdW5jdGlvbiBfdXBsb2FkRmlsZXMoaW5wdXRJZCwgb3V0cHV0SWQpIHsKICBjb25zdCBzdGVwcyA9IHVwbG9hZEZpbGVzU3RlcChpbnB1dElkLCBvdXRwdXRJZCk7CiAgY29uc3Qgb3V0cHV0RWxlbWVudCA9IGRvY3VtZW50LmdldEVsZW1lbnRCeUlkKG91dHB1dElkKTsKICAvLyBDYWNoZSBzdGVwcyBvbiB0aGUgb3V0cHV0RWxlbWVudCB0byBtYWtlIGl0IGF2YWlsYWJsZSBmb3IgdGhlIG5leHQgY2FsbAogIC8vIHRvIHVwbG9hZEZpbGVzQ29udGludWUgZnJvbSBQeXRob24uCiAgb3V0cHV0RWxlbWVudC5zdGVwcyA9IHN0ZXBzOwoKICByZXR1cm4gX3VwbG9hZEZpbGVzQ29udGludWUob3V0cHV0SWQpOwp9CgovLyBUaGlzIGlzIHJvdWdobHkgYW4gYXN5bmMgZ2VuZXJhdG9yIChub3Qgc3VwcG9ydGVkIGluIHRoZSBicm93c2VyIHlldCksCi8vIHdoZXJlIHRoZXJlIGFyZSBtdWx0aXBsZSBhc3luY2hyb25vdXMgc3RlcHMgYW5kIHRoZSBQeXRob24gc2lkZSBpcyBnb2luZwovLyB0byBwb2xsIGZvciBjb21wbGV0aW9uIG9mIGVhY2ggc3RlcC4KLy8gVGhpcyB1c2VzIGEgUHJvbWlzZSB0byBibG9jayB0aGUgcHl0aG9uIHNpZGUgb24gY29tcGxldGlvbiBvZiBlYWNoIHN0ZXAsCi8vIHRoZW4gcGFzc2VzIHRoZSByZXN1bHQgb2YgdGhlIHByZXZpb3VzIHN0ZXAgYXMgdGhlIGlucHV0IHRvIHRoZSBuZXh0IHN0ZXAuCmZ1bmN0aW9uIF91cGxvYWRGaWxlc0NvbnRpbnVlKG91dHB1dElkKSB7CiAgY29uc3Qgb3V0cHV0RWxlbWVudCA9IGRvY3VtZW50LmdldEVsZW1lbnRCeUlkKG91dHB1dElkKTsKICBjb25zdCBzdGVwcyA9IG91dHB1dEVsZW1lbnQuc3RlcHM7CgogIGNvbnN0IG5leHQgPSBzdGVwcy5uZXh0KG91dHB1dEVsZW1lbnQubGFzdFByb21pc2VWYWx1ZSk7CiAgcmV0dXJuIFByb21pc2UucmVzb2x2ZShuZXh0LnZhbHVlLnByb21pc2UpLnRoZW4oKHZhbHVlKSA9PiB7CiAgICAvLyBDYWNoZSB0aGUgbGFzdCBwcm9taXNlIHZhbHVlIHRvIG1ha2UgaXQgYXZhaWxhYmxlIHRvIHRoZSBuZXh0CiAgICAvLyBzdGVwIG9mIHRoZSBnZW5lcmF0b3IuCiAgICBvdXRwdXRFbGVtZW50Lmxhc3RQcm9taXNlVmFsdWUgPSB2YWx1ZTsKICAgIHJldHVybiBuZXh0LnZhbHVlLnJlc3BvbnNlOwogIH0pOwp9CgovKioKICogR2VuZXJhdG9yIGZ1bmN0aW9uIHdoaWNoIGlzIGNhbGxlZCBiZXR3ZWVuIGVhY2ggYXN5bmMgc3RlcCBvZiB0aGUgdXBsb2FkCiAqIHByb2Nlc3MuCiAqIEBwYXJhbSB7c3RyaW5nfSBpbnB1dElkIEVsZW1lbnQgSUQgb2YgdGhlIGlucHV0IGZpbGUgcGlja2VyIGVsZW1lbnQuCiAqIEBwYXJhbSB7c3RyaW5nfSBvdXRwdXRJZCBFbGVtZW50IElEIG9mIHRoZSBvdXRwdXQgZGlzcGxheS4KICogQHJldHVybiB7IUl0ZXJhYmxlPCFPYmplY3Q+fSBJdGVyYWJsZSBvZiBuZXh0IHN0ZXBzLgogKi8KZnVuY3Rpb24qIHVwbG9hZEZpbGVzU3RlcChpbnB1dElkLCBvdXRwdXRJZCkgewogIGNvbnN0IGlucHV0RWxlbWVudCA9IGRvY3VtZW50LmdldEVsZW1lbnRCeUlkKGlucHV0SWQpOwogIGlucHV0RWxlbWVudC5kaXNhYmxlZCA9IGZhbHNlOwoKICBjb25zdCBvdXRwdXRFbGVtZW50ID0gZG9jdW1lbnQuZ2V0RWxlbWVudEJ5SWQob3V0cHV0SWQpOwogIG91dHB1dEVsZW1lbnQuaW5uZXJIVE1MID0gJyc7CgogIGNvbnN0IHBpY2tlZFByb21pc2UgPSBuZXcgUHJvbWlzZSgocmVzb2x2ZSkgPT4gewogICAgaW5wdXRFbGVtZW50LmFkZEV2ZW50TGlzdGVuZXIoJ2NoYW5nZScsIChlKSA9PiB7CiAgICAgIHJlc29sdmUoZS50YXJnZXQuZmlsZXMpOwogICAgfSk7CiAgfSk7CgogIGNvbnN0IGNhbmNlbCA9IGRvY3VtZW50LmNyZWF0ZUVsZW1lbnQoJ2J1dHRvbicpOwogIGlucHV0RWxlbWVudC5wYXJlbnRFbGVtZW50LmFwcGVuZENoaWxkKGNhbmNlbCk7CiAgY2FuY2VsLnRleHRDb250ZW50ID0gJ0NhbmNlbCB1cGxvYWQnOwogIGNvbnN0IGNhbmNlbFByb21pc2UgPSBuZXcgUHJvbWlzZSgocmVzb2x2ZSkgPT4gewogICAgY2FuY2VsLm9uY2xpY2sgPSAoKSA9PiB7CiAgICAgIHJlc29sdmUobnVsbCk7CiAgICB9OwogIH0pOwoKICAvLyBXYWl0IGZvciB0aGUgdXNlciB0byBwaWNrIHRoZSBmaWxlcy4KICBjb25zdCBmaWxlcyA9IHlpZWxkIHsKICAgIHByb21pc2U6IFByb21pc2UucmFjZShbcGlja2VkUHJvbWlzZSwgY2FuY2VsUHJvbWlzZV0pLAogICAgcmVzcG9uc2U6IHsKICAgICAgYWN0aW9uOiAnc3RhcnRpbmcnLAogICAgfQogIH07CgogIGNhbmNlbC5yZW1vdmUoKTsKCiAgLy8gRGlzYWJsZSB0aGUgaW5wdXQgZWxlbWVudCBzaW5jZSBmdXJ0aGVyIHBpY2tzIGFyZSBub3QgYWxsb3dlZC4KICBpbnB1dEVsZW1lbnQuZGlzYWJsZWQgPSB0cnVlOwoKICBpZiAoIWZpbGVzKSB7CiAgICByZXR1cm4gewogICAgICByZXNwb25zZTogewogICAgICAgIGFjdGlvbjogJ2NvbXBsZXRlJywKICAgICAgfQogICAgfTsKICB9CgogIGZvciAoY29uc3QgZmlsZSBvZiBmaWxlcykgewogICAgY29uc3QgbGkgPSBkb2N1bWVudC5jcmVhdGVFbGVtZW50KCdsaScpOwogICAgbGkuYXBwZW5kKHNwYW4oZmlsZS5uYW1lLCB7Zm9udFdlaWdodDogJ2JvbGQnfSkpOwogICAgbGkuYXBwZW5kKHNwYW4oCiAgICAgICAgYCgke2ZpbGUudHlwZSB8fCAnbi9hJ30pIC0gJHtmaWxlLnNpemV9IGJ5dGVzLCBgICsKICAgICAgICBgbGFzdCBtb2RpZmllZDogJHsKICAgICAgICAgICAgZmlsZS5sYXN0TW9kaWZpZWREYXRlID8gZmlsZS5sYXN0TW9kaWZpZWREYXRlLnRvTG9jYWxlRGF0ZVN0cmluZygpIDoKICAgICAgICAgICAgICAgICAgICAgICAgICAgICAgICAgICAgJ24vYSd9IC0gYCkpOwogICAgY29uc3QgcGVyY2VudCA9IHNwYW4oJzAlIGRvbmUnKTsKICAgIGxpLmFwcGVuZENoaWxkKHBlcmNlbnQpOwoKICAgIG91dHB1dEVsZW1lbnQuYXBwZW5kQ2hpbGQobGkpOwoKICAgIGNvbnN0IGZpbGVEYXRhUHJvbWlzZSA9IG5ldyBQcm9taXNlKChyZXNvbHZlKSA9PiB7CiAgICAgIGNvbnN0IHJlYWRlciA9IG5ldyBGaWxlUmVhZGVyKCk7CiAgICAgIHJlYWRlci5vbmxvYWQgPSAoZSkgPT4gewogICAgICAgIHJlc29sdmUoZS50YXJnZXQucmVzdWx0KTsKICAgICAgfTsKICAgICAgcmVhZGVyLnJlYWRBc0FycmF5QnVmZmVyKGZpbGUpOwogICAgfSk7CiAgICAvLyBXYWl0IGZvciB0aGUgZGF0YSB0byBiZSByZWFkeS4KICAgIGxldCBmaWxlRGF0YSA9IHlpZWxkIHsKICAgICAgcHJvbWlzZTogZmlsZURhdGFQcm9taXNlLAogICAgICByZXNwb25zZTogewogICAgICAgIGFjdGlvbjogJ2NvbnRpbnVlJywKICAgICAgfQogICAgfTsKCiAgICAvLyBVc2UgYSBjaHVua2VkIHNlbmRpbmcgdG8gYXZvaWQgbWVzc2FnZSBzaXplIGxpbWl0cy4gU2VlIGIvNjIxMTU2NjAuCiAgICBsZXQgcG9zaXRpb24gPSAwOwogICAgZG8gewogICAgICBjb25zdCBsZW5ndGggPSBNYXRoLm1pbihmaWxlRGF0YS5ieXRlTGVuZ3RoIC0gcG9zaXRpb24sIE1BWF9QQVlMT0FEX1NJWkUpOwogICAgICBjb25zdCBjaHVuayA9IG5ldyBVaW50OEFycmF5KGZpbGVEYXRhLCBwb3NpdGlvbiwgbGVuZ3RoKTsKICAgICAgcG9zaXRpb24gKz0gbGVuZ3RoOwoKICAgICAgY29uc3QgYmFzZTY0ID0gYnRvYShTdHJpbmcuZnJvbUNoYXJDb2RlLmFwcGx5KG51bGwsIGNodW5rKSk7CiAgICAgIHlpZWxkIHsKICAgICAgICByZXNwb25zZTogewogICAgICAgICAgYWN0aW9uOiAnYXBwZW5kJywKICAgICAgICAgIGZpbGU6IGZpbGUubmFtZSwKICAgICAgICAgIGRhdGE6IGJhc2U2NCwKICAgICAgICB9LAogICAgICB9OwoKICAgICAgbGV0IHBlcmNlbnREb25lID0gZmlsZURhdGEuYnl0ZUxlbmd0aCA9PT0gMCA/CiAgICAgICAgICAxMDAgOgogICAgICAgICAgTWF0aC5yb3VuZCgocG9zaXRpb24gLyBmaWxlRGF0YS5ieXRlTGVuZ3RoKSAqIDEwMCk7CiAgICAgIHBlcmNlbnQudGV4dENvbnRlbnQgPSBgJHtwZXJjZW50RG9uZX0lIGRvbmVgOwoKICAgIH0gd2hpbGUgKHBvc2l0aW9uIDwgZmlsZURhdGEuYnl0ZUxlbmd0aCk7CiAgfQoKICAvLyBBbGwgZG9uZS4KICB5aWVsZCB7CiAgICByZXNwb25zZTogewogICAgICBhY3Rpb246ICdjb21wbGV0ZScsCiAgICB9CiAgfTsKfQoKc2NvcGUuZ29vZ2xlID0gc2NvcGUuZ29vZ2xlIHx8IHt9OwpzY29wZS5nb29nbGUuY29sYWIgPSBzY29wZS5nb29nbGUuY29sYWIgfHwge307CnNjb3BlLmdvb2dsZS5jb2xhYi5fZmlsZXMgPSB7CiAgX3VwbG9hZEZpbGVzLAogIF91cGxvYWRGaWxlc0NvbnRpbnVlLAp9Owp9KShzZWxmKTsK",
              "ok": true,
              "headers": [
                [
                  "content-type",
                  "application/javascript"
                ]
              ],
              "status": 200,
              "status_text": ""
            }
          },
          "base_uri": "https://localhost:8080/",
          "height": 74
        },
        "id": "KLO8WIBvPSoD",
        "outputId": "bb21f70d-df75-4d9d-f7e8-44f9f5a8360e"
      },
      "id": "KLO8WIBvPSoD",
      "execution_count": 2,
      "outputs": [
        {
          "output_type": "display_data",
          "data": {
            "text/plain": [
              "<IPython.core.display.HTML object>"
            ],
            "text/html": [
              "\n",
              "     <input type=\"file\" id=\"files-805e1057-f764-472d-b8fd-49dd495bfd48\" name=\"files[]\" multiple disabled\n",
              "        style=\"border:none\" />\n",
              "     <output id=\"result-805e1057-f764-472d-b8fd-49dd495bfd48\">\n",
              "      Upload widget is only available when the cell has been executed in the\n",
              "      current browser session. Please rerun this cell to enable.\n",
              "      </output>\n",
              "      <script src=\"/nbextensions/google.colab/files.js\"></script> "
            ]
          },
          "metadata": {}
        },
        {
          "output_type": "stream",
          "name": "stdout",
          "text": [
            "Saving alltogether.csv to alltogether.csv\n"
          ]
        }
      ]
    },
    {
      "cell_type": "code",
      "source": [
        "import io\n",
        "df_all = pd.read_csv(io.BytesIO(uploaded['alltogether.csv']))"
      ],
      "metadata": {
        "id": "1gy06ianP4BS"
      },
      "id": "1gy06ianP4BS",
      "execution_count": 5,
      "outputs": []
    },
    {
      "cell_type": "code",
      "source": [
        "df_all.shape"
      ],
      "metadata": {
        "colab": {
          "base_uri": "https://localhost:8080/"
        },
        "id": "661SXH1NQIsb",
        "outputId": "f21a6b27-b2c9-412c-fdb5-9d99436a143a"
      },
      "id": "661SXH1NQIsb",
      "execution_count": 6,
      "outputs": [
        {
          "output_type": "execute_result",
          "data": {
            "text/plain": [
              "(19716, 2)"
            ]
          },
          "metadata": {},
          "execution_count": 6
        }
      ]
    },
    {
      "cell_type": "code",
      "execution_count": null,
      "id": "66335d29-4462-4e84-b590-20703d93126c",
      "metadata": {
        "id": "66335d29-4462-4e84-b590-20703d93126c",
        "outputId": "d4e81240-4bcd-485f-91fd-587ac722ef9a"
      },
      "outputs": [
        {
          "data": {
            "text/html": [
              "<div>\n",
              "<style scoped>\n",
              "    .dataframe tbody tr th:only-of-type {\n",
              "        vertical-align: middle;\n",
              "    }\n",
              "\n",
              "    .dataframe tbody tr th {\n",
              "        vertical-align: top;\n",
              "    }\n",
              "\n",
              "    .dataframe thead th {\n",
              "        text-align: right;\n",
              "    }\n",
              "</style>\n",
              "<table border=\"1\" class=\"dataframe\">\n",
              "  <thead>\n",
              "    <tr style=\"text-align: right;\">\n",
              "      <th></th>\n",
              "      <th>all_text</th>\n",
              "      <th>is_parent</th>\n",
              "    </tr>\n",
              "  </thead>\n",
              "  <tbody>\n",
              "    <tr>\n",
              "      <th>19711</th>\n",
              "      <td>fromcomments, I would love to get paid overtim...</td>\n",
              "      <td>0</td>\n",
              "    </tr>\n",
              "    <tr>\n",
              "      <th>19712</th>\n",
              "      <td>fromcomments, The Road by Cormac McCarthy, fro...</td>\n",
              "      <td>0</td>\n",
              "    </tr>\n",
              "    <tr>\n",
              "      <th>19713</th>\n",
              "      <td>fromcomments, It is very district based, somet...</td>\n",
              "      <td>0</td>\n",
              "    </tr>\n",
              "    <tr>\n",
              "      <th>19714</th>\n",
              "      <td>fromcomments, I had a MS class like that a few...</td>\n",
              "      <td>0</td>\n",
              "    </tr>\n",
              "    <tr>\n",
              "      <th>19715</th>\n",
              "      <td>fromcomments, Oh. \\n\\nHere, go [one by one](ht...</td>\n",
              "      <td>0</td>\n",
              "    </tr>\n",
              "  </tbody>\n",
              "</table>\n",
              "</div>"
            ],
            "text/plain": [
              "                                                all_text  is_parent\n",
              "19711  fromcomments, I would love to get paid overtim...          0\n",
              "19712  fromcomments, The Road by Cormac McCarthy, fro...          0\n",
              "19713  fromcomments, It is very district based, somet...          0\n",
              "19714  fromcomments, I had a MS class like that a few...          0\n",
              "19715  fromcomments, Oh. \\n\\nHere, go [one by one](ht...          0"
            ]
          },
          "execution_count": 12,
          "metadata": {},
          "output_type": "execute_result"
        }
      ],
      "source": [
        "df_all.tail()"
      ]
    },
    {
      "cell_type": "code",
      "execution_count": null,
      "id": "acc06014-7cdf-46a1-8f1b-9ea94b9a644a",
      "metadata": {
        "id": "acc06014-7cdf-46a1-8f1b-9ea94b9a644a"
      },
      "outputs": [],
      "source": [
        ""
      ]
    },
    {
      "cell_type": "code",
      "execution_count": 9,
      "id": "b1a44a5f-3132-41e3-8099-fc84d0b79f0a",
      "metadata": {
        "colab": {
          "base_uri": "https://localhost:8080/"
        },
        "id": "b1a44a5f-3132-41e3-8099-fc84d0b79f0a",
        "outputId": "17b7f492-2c96-4700-d493-94d4f88b4d3e"
      },
      "outputs": [
        {
          "output_type": "execute_result",
          "data": {
            "text/plain": [
              "1    0.500254\n",
              "0    0.499746\n",
              "Name: is_parent, dtype: float64"
            ]
          },
          "metadata": {},
          "execution_count": 9
        }
      ],
      "source": [
        "X = df_all['all_text']\n",
        "y = df_all['is_parent']\n",
        "\n",
        "y.value_counts(normalize=True)\n",
        "\n",
        "# the classes are balanced, each is approx 50%\n"
      ]
    },
    {
      "cell_type": "code",
      "execution_count": 10,
      "id": "d703cfe0-aff4-4999-b62d-76cb75c6f414",
      "metadata": {
        "id": "d703cfe0-aff4-4999-b62d-76cb75c6f414"
      },
      "outputs": [],
      "source": [
        "# train/test split\n",
        "# stratify y just in case, even though the classes are balanced\n",
        "# test_size : default = 0.25\n",
        "# shuffle: default = True\n",
        "\n",
        "X_train, X_test, y_train, y_test = train_test_split(X, y, stratify=y, random_state=42)"
      ]
    },
    {
      "cell_type": "code",
      "execution_count": 11,
      "id": "ebe8b3d0-a8fa-4389-b2f3-5d240a39c062",
      "metadata": {
        "id": "ebe8b3d0-a8fa-4389-b2f3-5d240a39c062"
      },
      "outputs": [],
      "source": [
        "# edit stop words\n",
        "from sklearn.feature_extraction import text\n",
        "\n",
        "text.ENGLISH_STOP_WORDS\n",
        "\n",
        "add_stop_words = ['did', 'fromsubmission','fromcomments','doe', 'don', 'doesn', 'getting', 'going', 'got', 'ha', 'isn', 'wa', 've', 'll']\n",
        "\n",
        "stop_words = text.ENGLISH_STOP_WORDS.union(add_stop_words)"
      ]
    },
    {
      "cell_type": "code",
      "execution_count": 13,
      "id": "bf42d35d-f85c-4d4d-9108-a218d82027ba",
      "metadata": {
        "scrolled": true,
        "tags": [],
        "id": "bf42d35d-f85c-4d4d-9108-a218d82027ba"
      },
      "outputs": [],
      "source": [
        "#stop_words"
      ]
    },
    {
      "cell_type": "markdown",
      "id": "024a5ec9-d166-42d9-aeea-322ee148d2bd",
      "metadata": {
        "id": "024a5ec9-d166-42d9-aeea-322ee148d2bd"
      },
      "source": [
        "cvec = CountVectorizer(analyzer = \"word\",                        \n",
        "                         tokenizer = None, \n",
        "                         preprocessor = None,\n",
        "                         stop_words = \"english\", \n",
        "                         max_features = 10000)"
      ]
    },
    {
      "cell_type": "code",
      "execution_count": 14,
      "id": "b90e37f7-792a-4c94-89b8-6d1a922e1aed",
      "metadata": {
        "id": "b90e37f7-792a-4c94-89b8-6d1a922e1aed"
      },
      "outputs": [],
      "source": [
        "# using standard stop words = \"english\"\n",
        "# using CountVectorizer and LogisticRegression\n",
        "\n",
        "cvec = CountVectorizer(stop_words = 'english')\n",
        "                       \n",
        "lr = LogisticRegressionCV(solver = 'liblinear')\n",
        "\n",
        "pipe = Pipeline([\n",
        "    ('cvec', cvec),\n",
        "    ('lr', lr)\n",
        "])"
      ]
    },
    {
      "cell_type": "code",
      "execution_count": 15,
      "id": "31aed4f8-e1b3-4913-8fc9-84c23047c165",
      "metadata": {
        "colab": {
          "base_uri": "https://localhost:8080/"
        },
        "id": "31aed4f8-e1b3-4913-8fc9-84c23047c165",
        "outputId": "8154f9df-533f-47bb-be56-9104882db4ac"
      },
      "outputs": [
        {
          "output_type": "stream",
          "name": "stdout",
          "text": [
            "train score: 0.9615202542774058\n",
            "test score: 0.9026171637248935\n"
          ]
        }
      ],
      "source": [
        "# baseline Logistic model\n",
        "\n",
        "pipe.fit(X_train, y_train)\n",
        "print('train score:', pipe.score(X_train, y_train))\n",
        "print('test score:', pipe.score(X_test, y_test))"
      ]
    },
    {
      "cell_type": "code",
      "execution_count": null,
      "id": "809d2cb3-91f0-4a30-badf-507f26817072",
      "metadata": {
        "id": "809d2cb3-91f0-4a30-badf-507f26817072"
      },
      "outputs": [],
      "source": [
        "lr_feat00 = pd.DataFrame(data=lr.coef_.T, index=cvec.get_feature_names())\n",
        "lr_feat00.columns = ['coef_']\n",
        "lr_feat00['abs_coef'] = np.abs(lr_feat00['coef_'])\n",
        "#lr_feat00.sort_values(by='abs_coef', ascending=False).head(30)"
      ]
    },
    {
      "cell_type": "code",
      "execution_count": null,
      "id": "68302ebc-3466-42ab-b9af-01a4ab7015a9",
      "metadata": {
        "id": "68302ebc-3466-42ab-b9af-01a4ab7015a9"
      },
      "outputs": [],
      "source": [
        "# using additional stop words\n",
        "# using CountVectorizer and LogisticRegression\n",
        "\n",
        "cvec = CountVectorizer(stop_words = stop_words)\n",
        "\n",
        "lr = LogisticRegressionCV(solver = 'liblinear') \n",
        "\n",
        "pipe = Pipeline([\n",
        "    ('cvec', cvec),\n",
        "    ('lr', lr)\n",
        "])"
      ]
    },
    {
      "cell_type": "code",
      "execution_count": null,
      "id": "9b381383-5fbe-4610-a87b-f400a507c3a7",
      "metadata": {
        "id": "9b381383-5fbe-4610-a87b-f400a507c3a7",
        "outputId": "ca909e24-a530-4622-8c0d-399cb7fc45ca"
      },
      "outputs": [
        {
          "name": "stdout",
          "output_type": "stream",
          "text": [
            "train score: 0.9598295800365185\n",
            "test score: 0.9030229255427065\n"
          ]
        }
      ],
      "source": [
        "pipe.fit(X_train, y_train)\n",
        "print('train score:', pipe.score(X_train, y_train))\n",
        "print('test score:', pipe.score(X_test, y_test))"
      ]
    },
    {
      "cell_type": "code",
      "execution_count": null,
      "id": "d78c1840-47f5-4386-986a-2eef943ad2a6",
      "metadata": {
        "id": "d78c1840-47f5-4386-986a-2eef943ad2a6",
        "outputId": "bf8deee2-2154-4987-d019-83f87bd992ac"
      },
      "outputs": [
        {
          "data": {
            "text/html": [
              "<div>\n",
              "<style scoped>\n",
              "    .dataframe tbody tr th:only-of-type {\n",
              "        vertical-align: middle;\n",
              "    }\n",
              "\n",
              "    .dataframe tbody tr th {\n",
              "        vertical-align: top;\n",
              "    }\n",
              "\n",
              "    .dataframe thead th {\n",
              "        text-align: right;\n",
              "    }\n",
              "</style>\n",
              "<table border=\"1\" class=\"dataframe\">\n",
              "  <thead>\n",
              "    <tr style=\"text-align: right;\">\n",
              "      <th></th>\n",
              "      <th>coef_</th>\n",
              "    </tr>\n",
              "  </thead>\n",
              "  <tbody>\n",
              "    <tr>\n",
              "      <th>baby</th>\n",
              "      <td>2.244520</td>\n",
              "    </tr>\n",
              "    <tr>\n",
              "      <th>daughter</th>\n",
              "      <td>2.241332</td>\n",
              "    </tr>\n",
              "    <tr>\n",
              "      <th>son</th>\n",
              "      <td>2.197862</td>\n",
              "    </tr>\n",
              "    <tr>\n",
              "      <th>toddler</th>\n",
              "      <td>1.734605</td>\n",
              "    </tr>\n",
              "    <tr>\n",
              "      <th>old</th>\n",
              "      <td>1.617071</td>\n",
              "    </tr>\n",
              "    <tr>\n",
              "      <th>husband</th>\n",
              "      <td>1.541356</td>\n",
              "    </tr>\n",
              "    <tr>\n",
              "      <th>parenting</th>\n",
              "      <td>1.515117</td>\n",
              "    </tr>\n",
              "    <tr>\n",
              "      <th>divorce</th>\n",
              "      <td>1.493014</td>\n",
              "    </tr>\n",
              "    <tr>\n",
              "      <th>child</th>\n",
              "      <td>1.376642</td>\n",
              "    </tr>\n",
              "    <tr>\n",
              "      <th>removed</th>\n",
              "      <td>1.339572</td>\n",
              "    </tr>\n",
              "    <tr>\n",
              "      <th>married</th>\n",
              "      <td>1.139017</td>\n",
              "    </tr>\n",
              "    <tr>\n",
              "      <th>18</th>\n",
              "      <td>1.058472</td>\n",
              "    </tr>\n",
              "    <tr>\n",
              "      <th>partner</th>\n",
              "      <td>1.054228</td>\n",
              "    </tr>\n",
              "    <tr>\n",
              "      <th>bedroom</th>\n",
              "      <td>1.044843</td>\n",
              "    </tr>\n",
              "    <tr>\n",
              "      <th>youngest</th>\n",
              "      <td>1.027460</td>\n",
              "    </tr>\n",
              "    <tr>\n",
              "      <th>custody</th>\n",
              "      <td>1.005168</td>\n",
              "    </tr>\n",
              "    <tr>\n",
              "      <th>preschool</th>\n",
              "      <td>0.982294</td>\n",
              "    </tr>\n",
              "    <tr>\n",
              "      <th>age</th>\n",
              "      <td>0.974104</td>\n",
              "    </tr>\n",
              "    <tr>\n",
              "      <th>sahm</th>\n",
              "      <td>0.951638</td>\n",
              "    </tr>\n",
              "    <tr>\n",
              "      <th>consider</th>\n",
              "      <td>0.947822</td>\n",
              "    </tr>\n",
              "    <tr>\n",
              "      <th>hilarious</th>\n",
              "      <td>0.934842</td>\n",
              "    </tr>\n",
              "    <tr>\n",
              "      <th>toddlers</th>\n",
              "      <td>0.923932</td>\n",
              "    </tr>\n",
              "    <tr>\n",
              "      <th>sister</th>\n",
              "      <td>0.922597</td>\n",
              "    </tr>\n",
              "    <tr>\n",
              "      <th>potty</th>\n",
              "      <td>0.916481</td>\n",
              "    </tr>\n",
              "    <tr>\n",
              "      <th>therapy</th>\n",
              "      <td>0.915437</td>\n",
              "    </tr>\n",
              "    <tr>\n",
              "      <th>eat</th>\n",
              "      <td>0.914381</td>\n",
              "    </tr>\n",
              "    <tr>\n",
              "      <th>normal</th>\n",
              "      <td>0.900074</td>\n",
              "    </tr>\n",
              "    <tr>\n",
              "      <th>marriage</th>\n",
              "      <td>0.900058</td>\n",
              "    </tr>\n",
              "    <tr>\n",
              "      <th>strangers</th>\n",
              "      <td>0.888063</td>\n",
              "    </tr>\n",
              "    <tr>\n",
              "      <th>childcare</th>\n",
              "      <td>0.874165</td>\n",
              "    </tr>\n",
              "  </tbody>\n",
              "</table>\n",
              "</div>"
            ],
            "text/plain": [
              "              coef_\n",
              "baby       2.244520\n",
              "daughter   2.241332\n",
              "son        2.197862\n",
              "toddler    1.734605\n",
              "old        1.617071\n",
              "husband    1.541356\n",
              "parenting  1.515117\n",
              "divorce    1.493014\n",
              "child      1.376642\n",
              "removed    1.339572\n",
              "married    1.139017\n",
              "18         1.058472\n",
              "partner    1.054228\n",
              "bedroom    1.044843\n",
              "youngest   1.027460\n",
              "custody    1.005168\n",
              "preschool  0.982294\n",
              "age        0.974104\n",
              "sahm       0.951638\n",
              "consider   0.947822\n",
              "hilarious  0.934842\n",
              "toddlers   0.923932\n",
              "sister     0.922597\n",
              "potty      0.916481\n",
              "therapy    0.915437\n",
              "eat        0.914381\n",
              "normal     0.900074\n",
              "marriage   0.900058\n",
              "strangers  0.888063\n",
              "childcare  0.874165"
            ]
          },
          "execution_count": 25,
          "metadata": {},
          "output_type": "execute_result"
        }
      ],
      "source": [
        "lr_feat01 = pd.DataFrame(data=lr.coef_.T, index=cvec.get_feature_names())\n",
        "lr_feat01.columns = ['coef_']\n",
        "lr_feat01.sort_values(by='coef_', ascending=False).head(30)"
      ]
    },
    {
      "cell_type": "markdown",
      "id": "d8223fd0-7f4b-410b-a607-f71660e5a6de",
      "metadata": {
        "id": "d8223fd0-7f4b-410b-a607-f71660e5a6de"
      },
      "source": [
        "### random forest"
      ]
    },
    {
      "cell_type": "code",
      "execution_count": null,
      "id": "30cb380d-cf7c-41df-a132-457b3e07e147",
      "metadata": {
        "id": "30cb380d-cf7c-41df-a132-457b3e07e147",
        "outputId": "cdd290c6-844f-4c25-dd37-8eee98e2c91a"
      },
      "outputs": [
        {
          "name": "stdout",
          "output_type": "stream",
          "text": [
            "train score: 0.9961452627307771\n",
            "test score: 0.8965307364576993\n"
          ]
        }
      ],
      "source": [
        "# using standard stop words = \"english\"\n",
        "# using CountVectorizer and random forest\n",
        "\n",
        "cvec = CountVectorizer(analyzer = \"word\",                        \n",
        "                         tokenizer = None, \n",
        "                         preprocessor = None,\n",
        "                         stop_words = \"english\", \n",
        "                         max_features = 10000)\n",
        "rf = RandomForestClassifier(random_state = 42)\n",
        "\n",
        "pipe = Pipeline([\n",
        "    ('cvec', cvec),\n",
        "    ('rf', rf)\n",
        "])\n",
        "\n",
        "pipe.fit(X_train, y_train)\n",
        "print('train score:', pipe.score(X_train, y_train))\n",
        "print('test score:', pipe.score(X_test, y_test))"
      ]
    },
    {
      "cell_type": "code",
      "execution_count": null,
      "id": "63d12ff0-6673-427d-8617-18147f6ad00c",
      "metadata": {
        "id": "63d12ff0-6673-427d-8617-18147f6ad00c"
      },
      "outputs": [],
      "source": [
        "rf_feat = cvec.get_feature_names()\n",
        "rf_feat_imp = rf.feature_importances_\n",
        "\n",
        "df_rf_feat00 = pd.DataFrame(data=rf_feat_imp, index=rf_feat)\n"
      ]
    },
    {
      "cell_type": "code",
      "execution_count": null,
      "id": "f4e08137-bd53-4978-9f6e-f80af55e2c73",
      "metadata": {
        "id": "f4e08137-bd53-4978-9f6e-f80af55e2c73",
        "outputId": "16aa4a9c-991c-4cf2-a8d6-b540bacbdc26"
      },
      "outputs": [
        {
          "data": {
            "text/html": [
              "<div>\n",
              "<style scoped>\n",
              "    .dataframe tbody tr th:only-of-type {\n",
              "        vertical-align: middle;\n",
              "    }\n",
              "\n",
              "    .dataframe tbody tr th {\n",
              "        vertical-align: top;\n",
              "    }\n",
              "\n",
              "    .dataframe thead th {\n",
              "        text-align: right;\n",
              "    }\n",
              "</style>\n",
              "<table border=\"1\" class=\"dataframe\">\n",
              "  <thead>\n",
              "    <tr style=\"text-align: right;\">\n",
              "      <th></th>\n",
              "      <th>0</th>\n",
              "    </tr>\n",
              "  </thead>\n",
              "  <tbody>\n",
              "    <tr>\n",
              "      <th>teacher</th>\n",
              "      <td>0.027851</td>\n",
              "    </tr>\n",
              "    <tr>\n",
              "      <th>teachers</th>\n",
              "      <td>0.022342</td>\n",
              "    </tr>\n",
              "    <tr>\n",
              "      <th>students</th>\n",
              "      <td>0.021288</td>\n",
              "    </tr>\n",
              "    <tr>\n",
              "      <th>baby</th>\n",
              "      <td>0.020235</td>\n",
              "    </tr>\n",
              "    <tr>\n",
              "      <th>old</th>\n",
              "      <td>0.019201</td>\n",
              "    </tr>\n",
              "    <tr>\n",
              "      <th>son</th>\n",
              "      <td>0.018859</td>\n",
              "    </tr>\n",
              "    <tr>\n",
              "      <th>teaching</th>\n",
              "      <td>0.018098</td>\n",
              "    </tr>\n",
              "    <tr>\n",
              "      <th>student</th>\n",
              "      <td>0.015555</td>\n",
              "    </tr>\n",
              "    <tr>\n",
              "      <th>daughter</th>\n",
              "      <td>0.015310</td>\n",
              "    </tr>\n",
              "    <tr>\n",
              "      <th>child</th>\n",
              "      <td>0.014994</td>\n",
              "    </tr>\n",
              "    <tr>\n",
              "      <th>school</th>\n",
              "      <td>0.014552</td>\n",
              "    </tr>\n",
              "    <tr>\n",
              "      <th>husband</th>\n",
              "      <td>0.009644</td>\n",
              "    </tr>\n",
              "    <tr>\n",
              "      <th>admin</th>\n",
              "      <td>0.009331</td>\n",
              "    </tr>\n",
              "    <tr>\n",
              "      <th>class</th>\n",
              "      <td>0.009176</td>\n",
              "    </tr>\n",
              "    <tr>\n",
              "      <th>removed</th>\n",
              "      <td>0.008621</td>\n",
              "    </tr>\n",
              "    <tr>\n",
              "      <th>teach</th>\n",
              "      <td>0.007728</td>\n",
              "    </tr>\n",
              "    <tr>\n",
              "      <th>grade</th>\n",
              "      <td>0.006968</td>\n",
              "    </tr>\n",
              "    <tr>\n",
              "      <th>classroom</th>\n",
              "      <td>0.006722</td>\n",
              "    </tr>\n",
              "    <tr>\n",
              "      <th>job</th>\n",
              "      <td>0.005888</td>\n",
              "    </tr>\n",
              "    <tr>\n",
              "      <th>kid</th>\n",
              "      <td>0.005117</td>\n",
              "    </tr>\n",
              "    <tr>\n",
              "      <th>toddler</th>\n",
              "      <td>0.005093</td>\n",
              "    </tr>\n",
              "    <tr>\n",
              "      <th>parenting</th>\n",
              "      <td>0.004948</td>\n",
              "    </tr>\n",
              "    <tr>\n",
              "      <th>mom</th>\n",
              "      <td>0.004842</td>\n",
              "    </tr>\n",
              "    <tr>\n",
              "      <th>dad</th>\n",
              "      <td>0.004788</td>\n",
              "    </tr>\n",
              "    <tr>\n",
              "      <th>family</th>\n",
              "      <td>0.004783</td>\n",
              "    </tr>\n",
              "    <tr>\n",
              "      <th>district</th>\n",
              "      <td>0.004733</td>\n",
              "    </tr>\n",
              "    <tr>\n",
              "      <th>principal</th>\n",
              "      <td>0.004516</td>\n",
              "    </tr>\n",
              "    <tr>\n",
              "      <th>math</th>\n",
              "      <td>0.004357</td>\n",
              "    </tr>\n",
              "    <tr>\n",
              "      <th>education</th>\n",
              "      <td>0.004318</td>\n",
              "    </tr>\n",
              "    <tr>\n",
              "      <th>house</th>\n",
              "      <td>0.003946</td>\n",
              "    </tr>\n",
              "  </tbody>\n",
              "</table>\n",
              "</div>"
            ],
            "text/plain": [
              "                  0\n",
              "teacher    0.027851\n",
              "teachers   0.022342\n",
              "students   0.021288\n",
              "baby       0.020235\n",
              "old        0.019201\n",
              "son        0.018859\n",
              "teaching   0.018098\n",
              "student    0.015555\n",
              "daughter   0.015310\n",
              "child      0.014994\n",
              "school     0.014552\n",
              "husband    0.009644\n",
              "admin      0.009331\n",
              "class      0.009176\n",
              "removed    0.008621\n",
              "teach      0.007728\n",
              "grade      0.006968\n",
              "classroom  0.006722\n",
              "job        0.005888\n",
              "kid        0.005117\n",
              "toddler    0.005093\n",
              "parenting  0.004948\n",
              "mom        0.004842\n",
              "dad        0.004788\n",
              "family     0.004783\n",
              "district   0.004733\n",
              "principal  0.004516\n",
              "math       0.004357\n",
              "education  0.004318\n",
              "house      0.003946"
            ]
          },
          "execution_count": 28,
          "metadata": {},
          "output_type": "execute_result"
        }
      ],
      "source": [
        "df_rf_feat00.sort_values(by=0, ascending=False).head(30)"
      ]
    },
    {
      "cell_type": "code",
      "execution_count": null,
      "id": "12e214af-2b6f-4561-a13b-ec2e26a4c177",
      "metadata": {
        "id": "12e214af-2b6f-4561-a13b-ec2e26a4c177",
        "outputId": "b2a71711-19fe-4945-ae54-4434da2b4a38"
      },
      "outputs": [
        {
          "data": {
            "text/html": [
              "<div>\n",
              "<style scoped>\n",
              "    .dataframe tbody tr th:only-of-type {\n",
              "        vertical-align: middle;\n",
              "    }\n",
              "\n",
              "    .dataframe tbody tr th {\n",
              "        vertical-align: top;\n",
              "    }\n",
              "\n",
              "    .dataframe thead th {\n",
              "        text-align: right;\n",
              "    }\n",
              "</style>\n",
              "<table border=\"1\" class=\"dataframe\">\n",
              "  <thead>\n",
              "    <tr style=\"text-align: right;\">\n",
              "      <th></th>\n",
              "      <th>0</th>\n",
              "    </tr>\n",
              "  </thead>\n",
              "  <tbody>\n",
              "    <tr>\n",
              "      <th>grandkids</th>\n",
              "      <td>0.0</td>\n",
              "    </tr>\n",
              "    <tr>\n",
              "      <th>brows</th>\n",
              "      <td>0.0</td>\n",
              "    </tr>\n",
              "    <tr>\n",
              "      <th>nonexistent</th>\n",
              "      <td>0.0</td>\n",
              "    </tr>\n",
              "    <tr>\n",
              "      <th>groundwater</th>\n",
              "      <td>0.0</td>\n",
              "    </tr>\n",
              "    <tr>\n",
              "      <th>nipple</th>\n",
              "      <td>0.0</td>\n",
              "    </tr>\n",
              "    <tr>\n",
              "      <th>nipples</th>\n",
              "      <td>0.0</td>\n",
              "    </tr>\n",
              "    <tr>\n",
              "      <th>groans</th>\n",
              "      <td>0.0</td>\n",
              "    </tr>\n",
              "    <tr>\n",
              "      <th>adjustments</th>\n",
              "      <td>0.0</td>\n",
              "    </tr>\n",
              "    <tr>\n",
              "      <th>grinding</th>\n",
              "      <td>0.0</td>\n",
              "    </tr>\n",
              "    <tr>\n",
              "      <th>nodules</th>\n",
              "      <td>0.0</td>\n",
              "    </tr>\n",
              "    <tr>\n",
              "      <th>nonrenewed</th>\n",
              "      <td>0.0</td>\n",
              "    </tr>\n",
              "    <tr>\n",
              "      <th>granola</th>\n",
              "      <td>0.0</td>\n",
              "    </tr>\n",
              "    <tr>\n",
              "      <th>greeting</th>\n",
              "      <td>0.0</td>\n",
              "    </tr>\n",
              "    <tr>\n",
              "      <th>greeted</th>\n",
              "      <td>0.0</td>\n",
              "    </tr>\n",
              "    <tr>\n",
              "      <th>vacancies</th>\n",
              "      <td>0.0</td>\n",
              "    </tr>\n",
              "    <tr>\n",
              "      <th>450</th>\n",
              "      <td>0.0</td>\n",
              "    </tr>\n",
              "    <tr>\n",
              "      <th>tedious</th>\n",
              "      <td>0.0</td>\n",
              "    </tr>\n",
              "    <tr>\n",
              "      <th>brushes</th>\n",
              "      <td>0.0</td>\n",
              "    </tr>\n",
              "    <tr>\n",
              "      <th>notices</th>\n",
              "      <td>0.0</td>\n",
              "    </tr>\n",
              "    <tr>\n",
              "      <th>pains</th>\n",
              "      <td>0.0</td>\n",
              "    </tr>\n",
              "  </tbody>\n",
              "</table>\n",
              "</div>"
            ],
            "text/plain": [
              "               0\n",
              "grandkids    0.0\n",
              "brows        0.0\n",
              "nonexistent  0.0\n",
              "groundwater  0.0\n",
              "nipple       0.0\n",
              "nipples      0.0\n",
              "groans       0.0\n",
              "adjustments  0.0\n",
              "grinding     0.0\n",
              "nodules      0.0\n",
              "nonrenewed   0.0\n",
              "granola      0.0\n",
              "greeting     0.0\n",
              "greeted      0.0\n",
              "vacancies    0.0\n",
              "450          0.0\n",
              "tedious      0.0\n",
              "brushes      0.0\n",
              "notices      0.0\n",
              "pains        0.0"
            ]
          },
          "execution_count": 29,
          "metadata": {},
          "output_type": "execute_result"
        }
      ],
      "source": [
        "df_rf_feat00.sort_values(by=0, ascending=False).tail(20)"
      ]
    },
    {
      "cell_type": "markdown",
      "id": "fc5d75fa-4d00-4b25-8040-c65a245fb6d7",
      "metadata": {
        "id": "fc5d75fa-4d00-4b25-8040-c65a245fb6d7"
      },
      "source": [
        "## tf with logisticRegression and random forest"
      ]
    },
    {
      "cell_type": "code",
      "execution_count": null,
      "id": "0782f0cc-090e-455d-a5e3-7970b8612fc7",
      "metadata": {
        "id": "0782f0cc-090e-455d-a5e3-7970b8612fc7"
      },
      "outputs": [],
      "source": [
        "# tfidf using \"english\" stop words, 1-grams\n",
        "\n",
        "tfidf = TfidfVectorizer(analyzer = \"word\", \n",
        "                     stop_words = \"english\", \n",
        "                     max_features = 10000)\n",
        "\n",
        "lr = LogisticRegressionCV(solver = 'liblinear') #LogisticRegression()\n",
        "\n",
        "pipe = Pipeline([\n",
        "    ('tf', tfidf),\n",
        "    ('lr', lr)\n",
        "])"
      ]
    },
    {
      "cell_type": "code",
      "execution_count": null,
      "id": "4319cf3d-3819-4473-8f74-95de407c1868",
      "metadata": {
        "id": "4319cf3d-3819-4473-8f74-95de407c1868",
        "outputId": "539170d8-1769-427c-d0c1-8adc6c3ee95f"
      },
      "outputs": [
        {
          "name": "stdout",
          "output_type": "stream",
          "text": [
            "train score: 0.9639548251842834\n",
            "test score: 0.9105295191722459\n"
          ]
        }
      ],
      "source": [
        "pipe.fit(X_train, y_train)\n",
        "print('train score:', pipe.score(X_train, y_train))\n",
        "print('test score:', pipe.score(X_test, y_test))"
      ]
    },
    {
      "cell_type": "code",
      "execution_count": null,
      "id": "03e1ca23-ba75-43ca-8b35-876a9cd551ad",
      "metadata": {
        "id": "03e1ca23-ba75-43ca-8b35-876a9cd551ad",
        "outputId": "379cd645-c8c2-4630-cc42-d335a394cec3"
      },
      "outputs": [
        {
          "data": {
            "text/html": [
              "<div>\n",
              "<style scoped>\n",
              "    .dataframe tbody tr th:only-of-type {\n",
              "        vertical-align: middle;\n",
              "    }\n",
              "\n",
              "    .dataframe tbody tr th {\n",
              "        vertical-align: top;\n",
              "    }\n",
              "\n",
              "    .dataframe thead th {\n",
              "        text-align: right;\n",
              "    }\n",
              "</style>\n",
              "<table border=\"1\" class=\"dataframe\">\n",
              "  <thead>\n",
              "    <tr style=\"text-align: right;\">\n",
              "      <th></th>\n",
              "      <th>coef_</th>\n",
              "      <th>abs_coef</th>\n",
              "    </tr>\n",
              "  </thead>\n",
              "  <tbody>\n",
              "    <tr>\n",
              "      <th>teachers</th>\n",
              "      <td>-11.083634</td>\n",
              "      <td>11.083634</td>\n",
              "    </tr>\n",
              "    <tr>\n",
              "      <th>students</th>\n",
              "      <td>-10.943303</td>\n",
              "      <td>10.943303</td>\n",
              "    </tr>\n",
              "    <tr>\n",
              "      <th>son</th>\n",
              "      <td>10.420497</td>\n",
              "      <td>10.420497</td>\n",
              "    </tr>\n",
              "    <tr>\n",
              "      <th>daughter</th>\n",
              "      <td>9.617517</td>\n",
              "      <td>9.617517</td>\n",
              "    </tr>\n",
              "    <tr>\n",
              "      <th>teacher</th>\n",
              "      <td>-9.350757</td>\n",
              "      <td>9.350757</td>\n",
              "    </tr>\n",
              "    <tr>\n",
              "      <th>student</th>\n",
              "      <td>-9.236093</td>\n",
              "      <td>9.236093</td>\n",
              "    </tr>\n",
              "    <tr>\n",
              "      <th>old</th>\n",
              "      <td>9.191359</td>\n",
              "      <td>9.191359</td>\n",
              "    </tr>\n",
              "    <tr>\n",
              "      <th>baby</th>\n",
              "      <td>9.062991</td>\n",
              "      <td>9.062991</td>\n",
              "    </tr>\n",
              "    <tr>\n",
              "      <th>teaching</th>\n",
              "      <td>-8.564271</td>\n",
              "      <td>8.564271</td>\n",
              "    </tr>\n",
              "    <tr>\n",
              "      <th>admin</th>\n",
              "      <td>-7.772167</td>\n",
              "      <td>7.772167</td>\n",
              "    </tr>\n",
              "  </tbody>\n",
              "</table>\n",
              "</div>"
            ],
            "text/plain": [
              "              coef_   abs_coef\n",
              "teachers -11.083634  11.083634\n",
              "students -10.943303  10.943303\n",
              "son       10.420497  10.420497\n",
              "daughter   9.617517   9.617517\n",
              "teacher   -9.350757   9.350757\n",
              "student   -9.236093   9.236093\n",
              "old        9.191359   9.191359\n",
              "baby       9.062991   9.062991\n",
              "teaching  -8.564271   8.564271\n",
              "admin     -7.772167   7.772167"
            ]
          },
          "execution_count": 32,
          "metadata": {},
          "output_type": "execute_result"
        }
      ],
      "source": [
        "lr_tf_feat00 = pd.DataFrame(data=lr.coef_.T, index=cvec.get_feature_names())\n",
        "lr_tf_feat00.columns = ['coef_']\n",
        "lr_tf_feat00['abs_coef'] = np.abs(lr_tf_feat00['coef_'])\n",
        "lr_tf_feat00.sort_values(by='abs_coef', ascending=False).head(10)"
      ]
    },
    {
      "cell_type": "markdown",
      "id": "9c087755-a791-4e75-a98b-171c042a224c",
      "metadata": {
        "id": "9c087755-a791-4e75-a98b-171c042a224c"
      },
      "source": [
        "## tfidf with rondom forest"
      ]
    },
    {
      "cell_type": "code",
      "execution_count": null,
      "id": "bb3495f3-74b8-487e-ba10-cce147baa45b",
      "metadata": {
        "id": "bb3495f3-74b8-487e-ba10-cce147baa45b",
        "outputId": "15d11b59-81d6-4f69-9ae5-732a78b3f6be"
      },
      "outputs": [
        {
          "name": "stdout",
          "output_type": "stream",
          "text": [
            "train score: 0.9961452627307771\n",
            "test score: 0.8906471900994116\n"
          ]
        }
      ],
      "source": [
        "tfidf = TfidfVectorizer(analyzer = \"word\", \n",
        "                     stop_words = \"english\", \n",
        "                     max_features = 10000)\n",
        "\n",
        "rf = RandomForestClassifier(random_state = 42)\n",
        "\n",
        "pipe = Pipeline([\n",
        "    ('tf', tfidf),\n",
        "    ('rf', rf)\n",
        "])\n",
        "\n",
        "pipe.fit(X_train, y_train)\n",
        "print('train score:', pipe.score(X_train, y_train))\n",
        "print('test score:', pipe.score(X_test, y_test))"
      ]
    },
    {
      "cell_type": "code",
      "execution_count": null,
      "id": "978ca8d1-e638-4637-9bee-43e8340a39f7",
      "metadata": {
        "id": "978ca8d1-e638-4637-9bee-43e8340a39f7"
      },
      "outputs": [],
      "source": [
        "rf_feat = tfidf.get_feature_names()\n",
        "rf_feat_imp = rf.feature_importances_\n",
        "\n",
        "df_rf_feat00 = pd.DataFrame(data=rf_feat_imp, index=rf_feat)\n"
      ]
    },
    {
      "cell_type": "code",
      "execution_count": null,
      "id": "32ae978e-f734-4849-b658-d8ea29e83ea1",
      "metadata": {
        "id": "32ae978e-f734-4849-b658-d8ea29e83ea1",
        "outputId": "eddb6ff9-02ef-4d80-9eb9-2f5e37a196db"
      },
      "outputs": [
        {
          "data": {
            "text/html": [
              "<div>\n",
              "<style scoped>\n",
              "    .dataframe tbody tr th:only-of-type {\n",
              "        vertical-align: middle;\n",
              "    }\n",
              "\n",
              "    .dataframe tbody tr th {\n",
              "        vertical-align: top;\n",
              "    }\n",
              "\n",
              "    .dataframe thead th {\n",
              "        text-align: right;\n",
              "    }\n",
              "</style>\n",
              "<table border=\"1\" class=\"dataframe\">\n",
              "  <thead>\n",
              "    <tr style=\"text-align: right;\">\n",
              "      <th></th>\n",
              "      <th>0</th>\n",
              "    </tr>\n",
              "  </thead>\n",
              "  <tbody>\n",
              "    <tr>\n",
              "      <th>teacher</th>\n",
              "      <td>0.028775</td>\n",
              "    </tr>\n",
              "    <tr>\n",
              "      <th>teachers</th>\n",
              "      <td>0.022631</td>\n",
              "    </tr>\n",
              "    <tr>\n",
              "      <th>baby</th>\n",
              "      <td>0.021238</td>\n",
              "    </tr>\n",
              "    <tr>\n",
              "      <th>son</th>\n",
              "      <td>0.020769</td>\n",
              "    </tr>\n",
              "    <tr>\n",
              "      <th>students</th>\n",
              "      <td>0.020234</td>\n",
              "    </tr>\n",
              "    <tr>\n",
              "      <th>old</th>\n",
              "      <td>0.020114</td>\n",
              "    </tr>\n",
              "    <tr>\n",
              "      <th>school</th>\n",
              "      <td>0.017508</td>\n",
              "    </tr>\n",
              "    <tr>\n",
              "      <th>teaching</th>\n",
              "      <td>0.016932</td>\n",
              "    </tr>\n",
              "    <tr>\n",
              "      <th>student</th>\n",
              "      <td>0.016612</td>\n",
              "    </tr>\n",
              "    <tr>\n",
              "      <th>child</th>\n",
              "      <td>0.015030</td>\n",
              "    </tr>\n",
              "    <tr>\n",
              "      <th>daughter</th>\n",
              "      <td>0.014157</td>\n",
              "    </tr>\n",
              "    <tr>\n",
              "      <th>fromcomments</th>\n",
              "      <td>0.011871</td>\n",
              "    </tr>\n",
              "    <tr>\n",
              "      <th>class</th>\n",
              "      <td>0.010443</td>\n",
              "    </tr>\n",
              "    <tr>\n",
              "      <th>husband</th>\n",
              "      <td>0.010343</td>\n",
              "    </tr>\n",
              "    <tr>\n",
              "      <th>fromsubmission</th>\n",
              "      <td>0.009499</td>\n",
              "    </tr>\n",
              "    <tr>\n",
              "      <th>removed</th>\n",
              "      <td>0.008731</td>\n",
              "    </tr>\n",
              "    <tr>\n",
              "      <th>admin</th>\n",
              "      <td>0.008188</td>\n",
              "    </tr>\n",
              "    <tr>\n",
              "      <th>teach</th>\n",
              "      <td>0.008042</td>\n",
              "    </tr>\n",
              "    <tr>\n",
              "      <th>grade</th>\n",
              "      <td>0.007109</td>\n",
              "    </tr>\n",
              "    <tr>\n",
              "      <th>classroom</th>\n",
              "      <td>0.006636</td>\n",
              "    </tr>\n",
              "    <tr>\n",
              "      <th>job</th>\n",
              "      <td>0.006139</td>\n",
              "    </tr>\n",
              "    <tr>\n",
              "      <th>dad</th>\n",
              "      <td>0.005789</td>\n",
              "    </tr>\n",
              "    <tr>\n",
              "      <th>kid</th>\n",
              "      <td>0.005502</td>\n",
              "    </tr>\n",
              "    <tr>\n",
              "      <th>education</th>\n",
              "      <td>0.005179</td>\n",
              "    </tr>\n",
              "    <tr>\n",
              "      <th>family</th>\n",
              "      <td>0.005026</td>\n",
              "    </tr>\n",
              "    <tr>\n",
              "      <th>parenting</th>\n",
              "      <td>0.004885</td>\n",
              "    </tr>\n",
              "    <tr>\n",
              "      <th>district</th>\n",
              "      <td>0.004640</td>\n",
              "    </tr>\n",
              "    <tr>\n",
              "      <th>principal</th>\n",
              "      <td>0.004424</td>\n",
              "    </tr>\n",
              "    <tr>\n",
              "      <th>mom</th>\n",
              "      <td>0.004409</td>\n",
              "    </tr>\n",
              "    <tr>\n",
              "      <th>math</th>\n",
              "      <td>0.004342</td>\n",
              "    </tr>\n",
              "  </tbody>\n",
              "</table>\n",
              "</div>"
            ],
            "text/plain": [
              "                       0\n",
              "teacher         0.028775\n",
              "teachers        0.022631\n",
              "baby            0.021238\n",
              "son             0.020769\n",
              "students        0.020234\n",
              "old             0.020114\n",
              "school          0.017508\n",
              "teaching        0.016932\n",
              "student         0.016612\n",
              "child           0.015030\n",
              "daughter        0.014157\n",
              "fromcomments    0.011871\n",
              "class           0.010443\n",
              "husband         0.010343\n",
              "fromsubmission  0.009499\n",
              "removed         0.008731\n",
              "admin           0.008188\n",
              "teach           0.008042\n",
              "grade           0.007109\n",
              "classroom       0.006636\n",
              "job             0.006139\n",
              "dad             0.005789\n",
              "kid             0.005502\n",
              "education       0.005179\n",
              "family          0.005026\n",
              "parenting       0.004885\n",
              "district        0.004640\n",
              "principal       0.004424\n",
              "mom             0.004409\n",
              "math            0.004342"
            ]
          },
          "execution_count": 35,
          "metadata": {},
          "output_type": "execute_result"
        }
      ],
      "source": [
        "df_rf_feat00.sort_values(by=0, ascending=False).head(30)"
      ]
    },
    {
      "cell_type": "code",
      "execution_count": null,
      "id": "23b90af4-8249-4989-a300-daf34313c303",
      "metadata": {
        "id": "23b90af4-8249-4989-a300-daf34313c303",
        "outputId": "0191b407-c007-49bf-d051-4a6f31b9d15a"
      },
      "outputs": [
        {
          "data": {
            "text/plain": [
              "(0.9256779603705958, 0.8969364982755123)"
            ]
          },
          "execution_count": 36,
          "metadata": {},
          "output_type": "execute_result"
        }
      ],
      "source": [
        "# CountVectorizer and MultinomialNB\n",
        "\n",
        "pipe_cv_mnb = Pipeline([\n",
        "    ('cv', CountVectorizer(stop_words = stop_words)),\n",
        "    ('mnb', MultinomialNB())\n",
        "])\n",
        "\n",
        "pipe_cv_mnb.fit(X_train, y_train)\n",
        "pipe_cv_mnb.score(X_train, y_train), pipe_cv_mnb.score(X_test, y_test)"
      ]
    },
    {
      "cell_type": "code",
      "execution_count": null,
      "id": "6ddbcfd2-6f5c-4f18-a87e-aece1ce68d60",
      "metadata": {
        "id": "6ddbcfd2-6f5c-4f18-a87e-aece1ce68d60",
        "outputId": "19914899-beab-4a58-8980-707fb7320d58"
      },
      "outputs": [
        {
          "name": "stdout",
          "output_type": "stream",
          "text": [
            "0.9380536958138905 0.9020085209981741\n"
          ]
        }
      ],
      "source": [
        "pipe_tf_mnb = Pipeline([\n",
        "    ('tf', TfidfVectorizer(stop_words = stop_words)),\n",
        "    ('mnb', MultinomialNB())\n",
        "])\n",
        "\n",
        "pipe_tf_mnb.fit(X_train, y_train)\n",
        "print(pipe_tf_mnb.score(X_train, y_train), pipe_tf_mnb.score(X_test, y_test))\n"
      ]
    },
    {
      "cell_type": "code",
      "source": [
        "from tensorflow.keras.models import Sequential\n",
        "from tensorflow.keras.layers import Dense\n",
        "from tensorflow.keras.utils import to_categorical\n",
        "from tensorflow.keras.metrics import Recall\n",
        "from tensorflow.keras.utils import plot_model"
      ],
      "metadata": {
        "id": "-ZuyryfrXLGr"
      },
      "id": "-ZuyryfrXLGr",
      "execution_count": 28,
      "outputs": []
    },
    {
      "cell_type": "code",
      "execution_count": 18,
      "id": "7c170c82-04b3-47a1-95fe-252b0cbee04f",
      "metadata": {
        "colab": {
          "base_uri": "https://localhost:8080/"
        },
        "id": "7c170c82-04b3-47a1-95fe-252b0cbee04f",
        "outputId": "64ec9f20-2aad-4290-9f5d-f522e362d176"
      },
      "outputs": [
        {
          "output_type": "execute_result",
          "data": {
            "text/plain": [
              "14787"
            ]
          },
          "metadata": {},
          "execution_count": 18
        }
      ],
      "source": [
        "X_train.shape[0]"
      ]
    },
    {
      "cell_type": "markdown",
      "source": [
        "Using Keras"
      ],
      "metadata": {
        "id": "qcaK9YzsF_Uu"
      },
      "id": "qcaK9YzsF_Uu"
    },
    {
      "cell_type": "code",
      "source": [
        "from sklearn.model_selection import train_test_split\n",
        "\n",
        "\n",
        "\n",
        "sentences = df_all['all_text'].values\n",
        "y = df_all['is_parent'].values\n",
        "\n",
        "sentences_train, sentences_test, y_train, y_test = train_test_split(sentences, y, test_size=0.25, random_state=1000)"
      ],
      "metadata": {
        "id": "CjlcD5XcbjcR"
      },
      "id": "CjlcD5XcbjcR",
      "execution_count": 30,
      "outputs": []
    },
    {
      "cell_type": "code",
      "source": [
        "from sklearn.feature_extraction.text import CountVectorizer\n",
        "\n",
        "vectorizer = CountVectorizer()\n",
        "vectorizer.fit(sentences_train)\n",
        "\n",
        "X_train = vectorizer.transform(sentences_train)\n",
        "X_test  = vectorizer.transform(sentences_test)\n",
        "X_train"
      ],
      "metadata": {
        "colab": {
          "base_uri": "https://localhost:8080/"
        },
        "id": "7DIfSFepcI_O",
        "outputId": "f5061959-7045-4a8f-d4f3-8f9212bf6df2"
      },
      "id": "7DIfSFepcI_O",
      "execution_count": 31,
      "outputs": [
        {
          "output_type": "execute_result",
          "data": {
            "text/plain": [
              "<14787x27076 sparse matrix of type '<class 'numpy.int64'>'\n",
              "\twith 956735 stored elements in Compressed Sparse Row format>"
            ]
          },
          "metadata": {},
          "execution_count": 31
        }
      ]
    },
    {
      "cell_type": "code",
      "source": [
        "from sklearn.linear_model import LogisticRegression\n",
        "\n",
        "classifier = LogisticRegression()\n",
        "classifier.fit(X_train, y_train)\n",
        "score = classifier.score(X_test, y_test)"
      ],
      "metadata": {
        "colab": {
          "base_uri": "https://localhost:8080/"
        },
        "id": "2XORjUrqcJVI",
        "outputId": "8392b9c3-2b9d-4cec-bb10-a62f38766db1"
      },
      "id": "2XORjUrqcJVI",
      "execution_count": 32,
      "outputs": [
        {
          "output_type": "stream",
          "name": "stderr",
          "text": [
            "/usr/local/lib/python3.7/dist-packages/sklearn/linear_model/_logistic.py:818: ConvergenceWarning: lbfgs failed to converge (status=1):\n",
            "STOP: TOTAL NO. of ITERATIONS REACHED LIMIT.\n",
            "\n",
            "Increase the number of iterations (max_iter) or scale the data as shown in:\n",
            "    https://scikit-learn.org/stable/modules/preprocessing.html\n",
            "Please also refer to the documentation for alternative solver options:\n",
            "    https://scikit-learn.org/stable/modules/linear_model.html#logistic-regression\n",
            "  extra_warning_msg=_LOGISTIC_SOLVER_CONVERGENCE_MSG,\n"
          ]
        }
      ]
    },
    {
      "cell_type": "code",
      "source": [
        "print(\"Accuracy:\", score)"
      ],
      "metadata": {
        "colab": {
          "base_uri": "https://localhost:8080/"
        },
        "id": "DQSohW0vcJhz",
        "outputId": "4a3219d2-af15-4a31-a4c2-20ee0fd60661"
      },
      "id": "DQSohW0vcJhz",
      "execution_count": 33,
      "outputs": [
        {
          "output_type": "stream",
          "name": "stdout",
          "text": [
            "Accuracy: 0.9032258064516129\n"
          ]
        }
      ]
    },
    {
      "cell_type": "code",
      "source": [
        "from keras.models import Sequential\n",
        "from keras import layers\n",
        "\n",
        "input_dim = X_train.shape[1]  # Number of features\n",
        "\n",
        "model = Sequential()\n",
        "model.add(layers.Dense(10, input_dim=input_dim, activation='relu'))\n",
        "model.add(layers.Dense(1, activation='sigmoid'))"
      ],
      "metadata": {
        "id": "hpZnn7TwdxLN"
      },
      "id": "hpZnn7TwdxLN",
      "execution_count": 34,
      "outputs": []
    },
    {
      "cell_type": "code",
      "source": [
        "model.compile(loss='binary_crossentropy', \n",
        "             optimizer='adam', \n",
        "              metrics=['accuracy'])\n",
        "model.summary()"
      ],
      "metadata": {
        "colab": {
          "base_uri": "https://localhost:8080/"
        },
        "id": "iWzmZayYd-IV",
        "outputId": "5caeae18-30f8-430c-f876-2828afad33ec"
      },
      "id": "iWzmZayYd-IV",
      "execution_count": 35,
      "outputs": [
        {
          "output_type": "stream",
          "name": "stdout",
          "text": [
            "Model: \"sequential_2\"\n",
            "_________________________________________________________________\n",
            " Layer (type)                Output Shape              Param #   \n",
            "=================================================================\n",
            " dense_4 (Dense)             (None, 10)                270770    \n",
            "                                                                 \n",
            " dense_5 (Dense)             (None, 1)                 11        \n",
            "                                                                 \n",
            "=================================================================\n",
            "Total params: 270,781\n",
            "Trainable params: 270,781\n",
            "Non-trainable params: 0\n",
            "_________________________________________________________________\n"
          ]
        }
      ]
    },
    {
      "cell_type": "code",
      "source": [
        "history = model.fit(X_train, y_train,\n",
        "                   epochs=10,\n",
        "                    verbose=False,\n",
        "                     validation_data=(X_test, y_test),\n",
        "                     batch_size=10)"
      ],
      "metadata": {
        "colab": {
          "base_uri": "https://localhost:8080/"
        },
        "id": "k6dJblnCeOMH",
        "outputId": "94ffb600-3ad6-4fbe-9f9a-899679077863"
      },
      "id": "k6dJblnCeOMH",
      "execution_count": 36,
      "outputs": [
        {
          "output_type": "stream",
          "name": "stderr",
          "text": [
            "/usr/local/lib/python3.7/dist-packages/tensorflow/python/framework/indexed_slices.py:446: UserWarning: Converting sparse IndexedSlices(IndexedSlices(indices=Tensor(\"gradient_tape/sequential_2/dense_4/embedding_lookup_sparse/Reshape_1:0\", shape=(None,), dtype=int32), values=Tensor(\"gradient_tape/sequential_2/dense_4/embedding_lookup_sparse/Reshape:0\", shape=(None, 10), dtype=float32), dense_shape=Tensor(\"gradient_tape/sequential_2/dense_4/embedding_lookup_sparse/Cast:0\", shape=(2,), dtype=int32))) to a dense Tensor of unknown shape. This may consume a large amount of memory.\n",
            "  \"shape. This may consume a large amount of memory.\" % value)\n"
          ]
        }
      ]
    },
    {
      "cell_type": "code",
      "source": [
        "loss, accuracy = model.evaluate(X_train, y_train, verbose=False)\n",
        "print(\"Training Accuracy: {:.4f}\".format(accuracy))\n",
        "loss, accuracy = model.evaluate(X_test, y_test, verbose=False)\n",
        "print(\"Testing Accuracy:  {:.4f}\".format(accuracy))\n"
      ],
      "metadata": {
        "colab": {
          "base_uri": "https://localhost:8080/"
        },
        "id": "zc8QK0SWfd5P",
        "outputId": "08078598-1551-459a-91ba-81f81a985b27"
      },
      "id": "zc8QK0SWfd5P",
      "execution_count": 37,
      "outputs": [
        {
          "output_type": "stream",
          "name": "stdout",
          "text": [
            "Training Accuracy: 0.9931\n",
            "Testing Accuracy:  0.8941\n"
          ]
        }
      ]
    },
    {
      "cell_type": "code",
      "execution_count": 38,
      "id": "6e27c74e-880e-4b61-9749-018c4ef1cad0",
      "metadata": {
        "colab": {
          "base_uri": "https://localhost:8080/",
          "height": 388
        },
        "id": "6e27c74e-880e-4b61-9749-018c4ef1cad0",
        "outputId": "75babbcb-ab99-4ff5-9c79-2113c2b059ce"
      },
      "outputs": [
        {
          "output_type": "display_data",
          "data": {
            "text/plain": [
              "<Figure size 864x432 with 1 Axes>"
            ],
            "image/png": "[encoded data removed]"
          },
          "metadata": {
            "needs_background": "light"
          }
        }
      ],
      "source": [
        "history_df = pd.DataFrame(history.history)\n",
        "\n",
        "# plot accuracy vs epoch\n",
        "history_df.filter(like='accuracy').plot(xticks=history_df.index, figsize=(12,6), xlabel='epoch');\n",
        "\n"
      ]
    }
  ],
  "metadata": {
    "kernelspec": {
      "display_name": "Python 3 (ipykernel)",
      "language": "python",
      "name": "python3"
    },
    "language_info": {
      "codemirror_mode": {
        "name": "ipython",
        "version": 3
      },
      "file_extension": ".py",
      "mimetype": "text/x-python",
      "name": "python",
      "nbconvert_exporter": "python",
      "pygments_lexer": "ipython3",
      "version": "3.9.7"
    },
    "colab": {
      "name": "Modeling.ipynb",
      "provenance": [],
      "collapsed_sections": []
    }
  },
  "nbformat": 4,
  "nbformat_minor": 5
}